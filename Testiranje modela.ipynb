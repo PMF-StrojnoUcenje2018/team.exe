{
 "cells": [
  {
   "cell_type": "code",
   "execution_count": 8,
   "metadata": {},
   "outputs": [],
   "source": [
    "import numpy as np\n",
    "import mfsc_cnn_fun as dataimport\n",
    "import glob\n",
    "from keras.models import model_from_json"
   ]
  },
  {
   "cell_type": "code",
   "execution_count": 9,
   "metadata": {},
   "outputs": [],
   "source": [
    "maxlen = 100\n",
    "batch_size = 32\n",
    "loss = 'categorical_crossentropy'\n",
    "model_json='hb_model_orthogonal_experiment_norm.json'\n",
    "weights='Model2_weights.hdf5'\n",
    "\n",
    "def test(filename, model_json='hb_model_orthogonal_experiment_norm.json', \n",
    "         weights='Model2_weights.hdf5', \n",
    "         optimizer='adam', \n",
    "         loss='categorical_crossentropy'):\n",
    "   \n",
    "    #loads filename, transfrorms data using short-time Fourier transform, logscales the result and splits it into 129x129 squares\n",
    "    X = dataimport.data_from_file(filename=str(filename)+\".wav\", width=129, height=256, max_frames=10)\n",
    "    \n",
    "    predictions = np.zeros(len(X))\n",
    "    z = 0\n",
    "    \n",
    "    #Makes predictions for each 129x129 square\n",
    "    for frame in X:\n",
    "        predict_frame = np.zeros((1, 3, 129, 129))\n",
    "        predict_frame[0] = frame\n",
    "        predictions_all = model.predict_proba(predict_frame, batch_size=batch_size)\n",
    "        predictions[z] = predictions_all[0][1]\n",
    "\n",
    "        z += 1\n",
    "    \n",
    "    #Averages the results of per-frame predictions    \n",
    "    average = np.average(predictions)\n",
    "    average_prediction = round(average)\n",
    "    \t\t\n",
    "    #Prints the result\n",
    "  #  if int(average_prediction) == 0.0:\n",
    "        #append file with -1\n",
    "       # write_answer(filename=filename, result=\"-1\")\n",
    "        \n",
    "      #  print('Result for '+filename+': '+'Normal (-1)')\n",
    "        \n",
    "   # else:\n",
    "        #append file with 1\n",
    "       # write_answer(filename=filename, result=\"1\")    \n",
    "        \n",
    "     #   print('Result for '+filename+': '+'Abnormal (1)')        \n",
    "    \n",
    "    return int(average_prediction)\n",
    "\n",
    "\n",
    "\n",
    "\n",
    "\n",
    "\n",
    "import os\n",
    "os.chdir(\"C:\\\\Users\\\\Josip\")\n",
    "\n",
    "model = model_from_json(open(model_json).read())\n",
    "\n",
    "model.load_weights(weights)\n",
    "\n",
    "optimizer='adam'\n",
    "\n",
    "loss='categorical_crossentropy'\n",
    "\n",
    "model.compile(loss=loss, optimizer=optimizer)\n"
   ]
  },
  {
   "cell_type": "code",
   "execution_count": 10,
   "metadata": {},
   "outputs": [
    {
     "data": {
      "text/plain": [
       "['b0037.wav', 'b0054.wav']"
      ]
     },
     "execution_count": 10,
     "metadata": {},
     "output_type": "execute_result"
    }
   ],
   "source": [
    "os.chdir(\"C:\\\\Users\\\\Josip\\\\abnormal\")\n",
    "os.listdir(\"C:\\\\Users\\\\Josip\\\\abnormal\")"
   ]
  },
  {
   "cell_type": "code",
   "execution_count": 11,
   "metadata": {},
   "outputs": [
    {
     "name": "stdout",
     "output_type": "stream",
     "text": [
      "1\n"
     ]
    }
   ],
   "source": [
    "print((test(\"b0054\", model_json='hb_model_orthogonal_experiment_norm.json', \n",
    "         weights='Model2_weights.hdf5', \n",
    "         optimizer='adam', \n",
    "         loss='categorical_crossentropy')))"
   ]
  },
  {
   "cell_type": "code",
   "execution_count": 12,
   "metadata": {},
   "outputs": [
    {
     "name": "stdout",
     "output_type": "stream",
     "text": [
      "1\n"
     ]
    }
   ],
   "source": [
    "print((test(\"b0037\", model_json='hb_model_orthogonal_experiment_norm.json', \n",
    "         weights='Model2_weights.hdf5', \n",
    "         optimizer='adam', \n",
    "         loss='categorical_crossentropy')))"
   ]
  },
  {
   "cell_type": "code",
   "execution_count": 13,
   "metadata": {},
   "outputs": [
    {
     "data": {
      "text/plain": [
       "['b0003.wav', 'b0004.wav']"
      ]
     },
     "execution_count": 13,
     "metadata": {},
     "output_type": "execute_result"
    }
   ],
   "source": [
    "os.chdir(\"C:\\\\Users\\\\Josip\\\\normal\")\n",
    "os.listdir(\"C:\\\\Users\\\\Josip\\\\normal\")"
   ]
  },
  {
   "cell_type": "code",
   "execution_count": 14,
   "metadata": {},
   "outputs": [
    {
     "name": "stdout",
     "output_type": "stream",
     "text": [
      "0\n"
     ]
    }
   ],
   "source": [
    "print((test(\"b0003\", model_json='hb_model_orthogonal_experiment_norm.json', \n",
    "         weights='Model2_weights.hdf5', \n",
    "         optimizer='adam', \n",
    "         loss='categorical_crossentropy')))"
   ]
  },
  {
   "cell_type": "code",
   "execution_count": 15,
   "metadata": {},
   "outputs": [
    {
     "name": "stdout",
     "output_type": "stream",
     "text": [
      "0\n"
     ]
    }
   ],
   "source": [
    "print((test(\"b0004\", model_json='hb_model_orthogonal_experiment_norm.json', \n",
    "         weights='Model2_weights.hdf5', \n",
    "         optimizer='adam', \n",
    "         loss='categorical_crossentropy')))"
   ]
  },
  {
   "cell_type": "markdown",
   "metadata": {},
   "source": [
    "Testiranje odabranog modela na test setu"
   ]
  },
  {
   "cell_type": "code",
   "execution_count": 16,
   "metadata": {},
   "outputs": [
    {
     "name": "stderr",
     "output_type": "stream",
     "text": [
      "C:\\Users\\Josip\\mfsc_cnn_fun.py:326: RuntimeWarning: divide by zero encountered in log10\n",
      "  \n"
     ]
    },
    {
     "name": "stdout",
     "output_type": "stream",
     "text": [
      "Recall\n",
      "0.7786259541984732\n",
      "Specificity\n",
      "0.8676470588235294\n",
      "Mean score\n",
      "0.8231365065110013\n"
     ]
    }
   ],
   "source": [
    "\n",
    "abnormal1=[]\n",
    "normal1=[]\n",
    "os.chdir(\"C:\\\\Users\\\\Josip\\\\test set\\\\abnormal\\\\\")\n",
    "for filename in glob.glob('*.wav'):\n",
    "    abnormal1.append(test(filename[:-4], model_json='hb_model_orthogonal_experiment_norm.json', \n",
    "         weights='Model2_weights.hdf5', \n",
    "         optimizer='adam', \n",
    "         loss='categorical_crossentropy'))\n",
    "\n",
    "\n",
    "os.chdir(\"C:\\\\Users\\\\Josip\\\\test set\\\\normal\\\\\")\n",
    "for filename in glob.glob('*.wav'):\n",
    "    normal1.append(test(filename[:-4], model_json='hb_model_orthogonal_experiment_norm.json', \n",
    "         weights='Model2_weights.hdf5', \n",
    "         optimizer='adam', \n",
    "         loss='categorical_crossentropy'))\n",
    "\n",
    "print(\"Recall\")\n",
    "print(sum(abnormal1)/len(abnormal1))\n",
    "\n",
    "print(\"Specificity\")\n",
    "print(1-sum(normal1)/len(normal1))\n",
    "\n",
    "print(\"Mean score\")\n",
    "print( (sum(abnormal1)/len(abnormal1)+1-sum(normal1)/len(normal1))  /2)"
   ]
  },
  {
   "cell_type": "markdown",
   "metadata": {},
   "source": [
    "Dakle uspješnost modela je  0.82"
   ]
  },
  {
   "cell_type": "markdown",
   "metadata": {},
   "source": [
    "***Krivulje učenja i funkcije gubitka u odnosu na epohe***"
   ]
  },
  {
   "cell_type": "code",
   "execution_count": 21,
   "metadata": {},
   "outputs": [
    {
     "data": {
      "image/png": "[encoded data removed]",
      "text/plain": [
       "<Figure size 432x288 with 1 Axes>"
      ]
     },
     "metadata": {},
     "output_type": "display_data"
    }
   ],
   "source": [
    "import pickle\n",
    "import matplotlib.pyplot as plt\n",
    "\n",
    "with open('C:\\\\Users\\\\Josip\\\\Dictionary_model2', 'rb') as handle:\n",
    "  b = pickle.loads(handle.read()) \n",
    "plt.plot(b[\"val_acc\"],label=\"validation accuracy\")\n",
    "plt.plot(b[\"acc\"],label=\"training accuracy\")\n",
    "plt.xlabel(\"Epochs\")\n",
    "plt.ylabel(\"Accuracy\")\n",
    "plt.legend()\n",
    "plt.show()"
   ]
  },
  {
   "cell_type": "code",
   "execution_count": 22,
   "metadata": {},
   "outputs": [
    {
     "data": {
      "image/png": "[encoded data removed]",
      "text/plain": [
       "<Figure size 432x288 with 1 Axes>"
      ]
     },
     "metadata": {},
     "output_type": "display_data"
    }
   ],
   "source": [
    "\n",
    "plt.plot(b[\"val_loss\"],label=\"validation loss\")\n",
    "plt.plot(b[\"loss\"],label=\"training loss\")\n",
    "plt.xlabel(\"Epochs\")\n",
    "plt.ylabel(\"Loss\")\n",
    "plt.legend()\n",
    "plt.show()"
   ]
  },
  {
   "cell_type": "code",
   "execution_count": null,
   "metadata": {},
   "outputs": [],
   "source": []
  }
 ],
 "metadata": {
  "kernelspec": {
   "display_name": "Python 3",
   "language": "python",
   "name": "python3"
  },
  "language_info": {
   "codemirror_mode": {
    "name": "ipython",
    "version": 3
   },
   "file_extension": ".py",
   "mimetype": "text/x-python",
   "name": "python",
   "nbconvert_exporter": "python",
   "pygments_lexer": "ipython3",
   "version": "3.5.5"
  }
 },
 "nbformat": 4,
 "nbformat_minor": 2
}
