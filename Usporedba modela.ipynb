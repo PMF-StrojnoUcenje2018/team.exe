{
 "cells": [
  {
   "cell_type": "markdown",
   "metadata": {},
   "source": [
    "**Usporedba modela**\n",
    "\n",
    "\n",
    "Uspoređujemo nekoliko najboljih modela obzirom na funkciju gubitka i preciznost na evaluacijskom skupu\n",
    "\n"
   ]
  },
  {
   "cell_type": "markdown",
   "metadata": {},
   "source": [
    "**Prvi model**\n",
    "\n",
    "\n",
    "Dropout parameters :0.1 0.2 0.3 0.4\n",
    "\n",
    "\n",
    "Learning rate of optimizer : 0.00001\n",
    "\n",
    "\n",
    "Optimizer : Adam\n",
    "\n",
    "\n",
    "Regularization coef - 0.0001\n",
    "\n",
    "\n",
    "Weight initialization  - orthogonal"
   ]
  },
  {
   "cell_type": "code",
   "execution_count": 4,
   "metadata": {},
   "outputs": [
    {
     "name": "stdout",
     "output_type": "stream",
     "text": [
      "epoha na kojoj je postignuta najmanja vrijednost funkcije gubitka\n",
      "110\n",
      "Validation loss\n",
      "0.2580749553558222\n",
      "Validation accuracy\n",
      "0.9206128135365031\n",
      "Training accuracy\n",
      "0.9267834791253893\n",
      "Training loss\n",
      "0.2192064360511467\n"
     ]
    }
   ],
   "source": [
    "import pickle\n",
    "with open('C:\\\\Users\\\\Josip\\\\Dictionary_model1', 'rb') as handle:\n",
    "  b = pickle.loads(handle.read()) \n",
    "\n",
    "import numpy as np\n",
    "ind=np.where(b[\"val_loss\"]==min(b[\"val_loss\"][:150]))[0]\n",
    "print(\"epoha na kojoj je postignuta najmanja vrijednost funkcije gubitka\")\n",
    "print(int(ind))\n",
    "print(\"Validation loss\")\n",
    "print(b[\"val_loss\"][int(ind[0])])\n",
    "print(\"Validation accuracy\")\n",
    "print(b[\"val_acc\"][int(ind[0])])\n",
    "print(\"Training accuracy\")\n",
    "print(b[\"acc\"][int(ind[0])])\n",
    "print(\"Training loss\")\n",
    "print(b[\"loss\"][int(ind[0])])"
   ]
  },
  {
   "cell_type": "markdown",
   "metadata": {},
   "source": [
    "**Drugi model**\n",
    "\n",
    "Dropout parameters :0.1 0.2 0.4 0.4\n",
    "\n",
    "\n",
    "Learning rate of optimizer : 0.00001\n",
    "\n",
    "\n",
    "Optimizer : Adam\n",
    "\n",
    "\n",
    "Regularization coef - 0.0001\n",
    "\n",
    "\n",
    "Weight initialization  - orthogonal"
   ]
  },
  {
   "cell_type": "code",
   "execution_count": 5,
   "metadata": {},
   "outputs": [
    {
     "name": "stdout",
     "output_type": "stream",
     "text": [
      "epoha na kojoj je postignuta najmanja vrijednost funkcije gubitka\n",
      "115\n",
      "Validation loss\n",
      "0.2433202505775813\n",
      "Validation accuracy\n",
      "0.9206128135365031\n",
      "Training accuracy\n",
      "0.9195869837296621\n",
      "Training loss\n",
      "0.2371746200569282\n"
     ]
    }
   ],
   "source": [
    "import pickle\n",
    "with open('C:\\\\Users\\\\Josip\\\\Dictionary_model2', 'rb') as handle:\n",
    "  b = pickle.loads(handle.read()) \n",
    "\n",
    "import numpy as np\n",
    "ind=np.where(b[\"val_loss\"]==min(b[\"val_loss\"][:150]))[0]\n",
    "print(\"epoha na kojoj je postignuta najmanja vrijednost funkcije gubitka\")\n",
    "print(int(ind))\n",
    "print(\"Validation loss\")\n",
    "print(b[\"val_loss\"][int(ind[0])])\n",
    "print(\"Validation accuracy\")\n",
    "print(b[\"val_acc\"][int(ind[0])])\n",
    "print(\"Training accuracy\")\n",
    "print(b[\"acc\"][int(ind[0])])\n",
    "print(\"Training loss\")\n",
    "print(b[\"loss\"][int(ind[0])])"
   ]
  },
  {
   "cell_type": "markdown",
   "metadata": {},
   "source": [
    "**Treći model**\n",
    "\n",
    "Dropout parameters :0.25 0.25 0.25 0.25\n",
    "\n",
    "\n",
    "Learning rate of optimizer : 0.00001\n",
    "\n",
    "\n",
    "Optimizer : Adam\n",
    "\n",
    "\n",
    "Regularization coef - 0.0001\n",
    "\n",
    "\n",
    "Weight initialization  - orthogonal"
   ]
  },
  {
   "cell_type": "code",
   "execution_count": 6,
   "metadata": {},
   "outputs": [
    {
     "name": "stdout",
     "output_type": "stream",
     "text": [
      "epoha na kojoj je postignuta najmanja vrijednost funkcije gubitka\n",
      "109\n",
      "Validation loss\n",
      "0.2766510522133129\n",
      "Validation accuracy\n",
      "0.9178272982161689\n",
      "Training accuracy\n",
      "0.9549436795994993\n",
      "Training loss\n",
      "0.16608390127202596\n"
     ]
    }
   ],
   "source": [
    "import pickle\n",
    "with open('C:\\\\Users\\\\Josip\\\\Dictionary_model3', 'rb') as handle:\n",
    "  b = pickle.loads(handle.read()) \n",
    "\n",
    "import numpy as np\n",
    "ind=np.where(b[\"val_loss\"]==min(b[\"val_loss\"][:150]))[0]\n",
    "print(\"epoha na kojoj je postignuta najmanja vrijednost funkcije gubitka\")\n",
    "print(int(ind))\n",
    "print(\"Validation loss\")\n",
    "print(b[\"val_loss\"][int(ind[0])])\n",
    "print(\"Validation accuracy\")\n",
    "print(b[\"val_acc\"][int(ind[0])])\n",
    "print(\"Training accuracy\")\n",
    "print(b[\"acc\"][int(ind[0])])\n",
    "print(\"Training loss\")\n",
    "print(b[\"loss\"][int(ind[0])])"
   ]
  },
  {
   "cell_type": "markdown",
   "metadata": {},
   "source": [
    "**Četvrti model**\n",
    "\n",
    "Dropout parameters :0.2 0.2 0.3 0.3\n",
    "\n",
    "\n",
    "Learning rate of optimizer : 0.000001\n",
    "\n",
    "\n",
    "Optimizer : Adam\n",
    "\n",
    "\n",
    "Regularization coef - 0.0001\n",
    "\n",
    "\n",
    "Weight initialization  - orthogonal"
   ]
  },
  {
   "cell_type": "code",
   "execution_count": 7,
   "metadata": {},
   "outputs": [
    {
     "name": "stdout",
     "output_type": "stream",
     "text": [
      "epoha na kojoj je postignuta najmanja vrijednost funkcije gubitka\n",
      "115\n",
      "Validation loss\n",
      "0.2558458715594247\n",
      "Validation accuracy\n",
      "0.9206128135365031\n",
      "Training accuracy\n",
      "0.9430538172715894\n",
      "Training loss\n",
      "0.17372259708384846\n"
     ]
    }
   ],
   "source": [
    "import pickle\n",
    "with open('C:\\\\Users\\\\Josip\\\\Dictionary_model4', 'rb') as handle:\n",
    "  b = pickle.loads(handle.read()) \n",
    "\n",
    "import numpy as np\n",
    "ind=np.where(b[\"val_loss\"]==min(b[\"val_loss\"][:150]))[0]\n",
    "print(\"epoha na kojoj je postignuta najmanja vrijednost funkcije gubitka\")\n",
    "print(int(ind))\n",
    "print(\"Validation loss\")\n",
    "print(b[\"val_loss\"][int(ind[0])])\n",
    "print(\"Validation accuracy\")\n",
    "print(b[\"val_acc\"][int(ind[0])])\n",
    "print(\"Training accuracy\")\n",
    "print(b[\"acc\"][int(ind[0])])\n",
    "print(\"Training loss\")\n",
    "print(b[\"loss\"][int(ind[0])])"
   ]
  },
  {
   "cell_type": "markdown",
   "metadata": {},
   "source": [
    "Primijetimo da svi modeli imaju gotovo istu preciznost na evaluacijskom skupu \n",
    "ali drugi model ima najmanju vrijednost funkcije gubitka"
   ]
  },
  {
   "cell_type": "code",
   "execution_count": null,
   "metadata": {},
   "outputs": [],
   "source": []
  }
 ],
 "metadata": {
  "kernelspec": {
   "display_name": "Python 3",
   "language": "python",
   "name": "python3"
  },
  "language_info": {
   "codemirror_mode": {
    "name": "ipython",
    "version": 3
   },
   "file_extension": ".py",
   "mimetype": "text/x-python",
   "name": "python",
   "nbconvert_exporter": "python",
   "pygments_lexer": "ipython3",
   "version": "3.5.5"
  }
 },
 "nbformat": 4,
 "nbformat_minor": 2
}
