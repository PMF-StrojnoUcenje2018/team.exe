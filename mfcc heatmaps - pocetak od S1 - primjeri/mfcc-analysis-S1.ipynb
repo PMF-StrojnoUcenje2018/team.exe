{
 "cells": [
  {
   "cell_type": "markdown",
   "metadata": {},
   "source": [
    "<h1>Kreiranje heatmap-a dobivenih računanjem MFCC koeficijenata</h1>"
   ]
  },
  {
   "cell_type": "code",
   "execution_count": 2,
   "metadata": {},
   "outputs": [
    {
     "name": "stdout",
     "output_type": "stream",
     "text": [
      "D:\\Updated files\\training set\\training-a\\a0001.wav: 1\n",
      "D:\\Updated files\\training set\\training-a\\a0002.wav: 1\n",
      "D:\\Updated files\\training set\\training-a\\a0003.wav: 1\n",
      "D:\\Updated files\\training set\\training-a\\a0004.wav: 1\n",
      "D:\\Updated files\\training set\\training-a\\a0005.wav: 1\n",
      "D:\\Updated files\\training set\\training-a\\a0006.wav: 1\n",
      "D:\\Updated files\\training set\\training-a\\a0007.wav: -1\n",
      "D:\\Updated files\\training set\\training-a\\a0008.wav: 1\n",
      "D:\\Updated files\\training set\\training-a\\a0009.wav: -1\n",
      "D:\\Updated files\\training set\\training-a\\a0010.wav: 1\n",
      "D:\\Updated files\\training set\\training-a\\a0011.wav: -1\n",
      "D:\\Updated files\\training set\\training-a\\a0012.wav: -1\n",
      "D:\\Updated files\\training set\\training-a\\a0013.wav: 1\n",
      "D:\\Updated files\\training set\\training-a\\a0014.wav: 1\n",
      "D:\\Updated files\\training set\\training-a\\a0015.wav: 1\n",
      "D:\\Updated files\\training set\\training-a\\a0016.wav: -1\n",
      "D:\\Updated files\\training set\\training-a\\a0017.wav: 1\n",
      "D:\\Updated files\\training set\\training-a\\a0018.wav: 1\n",
      "D:\\Updated files\\training set\\training-a\\a0019.wav: -1\n",
      "D:\\Updated files\\training set\\training-a\\a0020.wav: 1\n"
     ]
    },
    {
     "name": "stderr",
     "output_type": "stream",
     "text": [
      "C:\\Users\\dajo\\Anaconda3\\envs\\py36\\lib\\site-packages\\matplotlib\\pyplot.py:528: RuntimeWarning: More than 20 figures have been opened. Figures created through the pyplot interface (`matplotlib.pyplot.figure`) are retained until explicitly closed and may consume too much memory. (To control this warning, see the rcParam `figure.max_open_warning`).\n",
      "  max_open_warning, RuntimeWarning)\n"
     ]
    },
    {
     "name": "stdout",
     "output_type": "stream",
     "text": [
      "D:\\Updated files\\training set\\training-a\\a0021.wav: 1\n",
      "D:\\Updated files\\training set\\training-a\\a0022.wav: 1\n",
      "D:\\Updated files\\training set\\training-a\\a0023.wav: 1\n",
      "D:\\Updated files\\training set\\training-a\\a0024.wav: 1\n",
      "D:\\Updated files\\training set\\training-a\\a0025.wav: -1\n",
      "D:\\Updated files\\training set\\training-a\\a0026.wav: 1\n",
      "D:\\Updated files\\training set\\training-a\\a0027.wav: -1\n",
      "D:\\Updated files\\training set\\training-a\\a0028.wav: -1\n",
      "D:\\Updated files\\training set\\training-a\\a0029.wav: -1\n",
      "D:\\Updated files\\training set\\training-a\\a0030.wav: 1\n",
      "D:\\Updated files\\training set\\training-a\\a0031.wav: 1\n",
      "D:\\Updated files\\training set\\training-a\\a0032.wav: -1\n",
      "D:\\Updated files\\training set\\training-a\\a0033.wav: 1\n",
      "D:\\Updated files\\training set\\training-a\\a0034.wav: 1\n",
      "D:\\Updated files\\training set\\training-a\\a0035.wav: -1\n",
      "D:\\Updated files\\training set\\training-a\\a0036.wav: 1\n",
      "D:\\Updated files\\training set\\training-a\\a0037.wav: 1\n",
      "D:\\Updated files\\training set\\training-a\\a0038.wav: -1\n",
      "D:\\Updated files\\training set\\training-a\\a0039.wav: 1\n",
      "D:\\Updated files\\training set\\training-a\\a0040.wav: 1\n",
      "D:\\Updated files\\training set\\training-a\\a0041.wav: 1\n",
      "D:\\Updated files\\training set\\training-a\\a0042.wav: 1\n",
      "D:\\Updated files\\training set\\training-a\\a0043.wav: 1\n",
      "D:\\Updated files\\training set\\training-a\\a0044.wav: 1\n",
      "D:\\Updated files\\training set\\training-a\\a0045.wav: 1\n",
      "D:\\Updated files\\training set\\training-a\\a0046.wav: 1\n",
      "D:\\Updated files\\training set\\training-a\\a0047.wav: 1\n",
      "D:\\Updated files\\training set\\training-a\\a0048.wav: 1\n",
      "D:\\Updated files\\training set\\training-a\\a0049.wav: -1\n",
      "D:\\Updated files\\training set\\training-a\\a0050.wav: -1\n",
      "D:\\Updated files\\training set\\training-a\\a0051.wav: 1\n",
      "D:\\Updated files\\training set\\training-a\\a0052.wav: 1\n",
      "D:\\Updated files\\training set\\training-a\\a0053.wav: -1\n",
      "D:\\Updated files\\training set\\training-a\\a0054.wav: 1\n",
      "D:\\Updated files\\training set\\training-a\\a0055.wav: -1\n",
      "D:\\Updated files\\training set\\training-a\\a0056.wav: 1\n",
      "D:\\Updated files\\training set\\training-a\\a0057.wav: 1\n",
      "D:\\Updated files\\training set\\training-a\\a0058.wav: 1\n",
      "D:\\Updated files\\training set\\training-a\\a0059.wav: 1\n",
      "D:\\Updated files\\training set\\training-a\\a0060.wav: 1\n",
      "D:\\Updated files\\training set\\training-a\\a0061.wav: 1\n",
      "D:\\Updated files\\training set\\training-a\\a0062.wav: 1\n",
      "D:\\Updated files\\training set\\training-a\\a0063.wav: 1\n",
      "D:\\Updated files\\training set\\training-a\\a0064.wav: 1\n",
      "D:\\Updated files\\training set\\training-a\\a0065.wav: 1\n",
      "D:\\Updated files\\training set\\training-a\\a0066.wav: 1\n",
      "D:\\Updated files\\training set\\training-a\\a0067.wav: 1\n",
      "D:\\Updated files\\training set\\training-a\\a0068.wav: -1\n",
      "D:\\Updated files\\training set\\training-a\\a0069.wav: -1\n",
      "D:\\Updated files\\training set\\training-a\\a0070.wav: -1\n",
      "D:\\Updated files\\training set\\training-a\\a0071.wav: -1\n",
      "D:\\Updated files\\training set\\training-a\\a0072.wav: 1\n",
      "D:\\Updated files\\training set\\training-a\\a0073.wav: 1\n",
      "D:\\Updated files\\training set\\training-a\\a0074.wav: 1\n",
      "D:\\Updated files\\training set\\training-a\\a0075.wav: 1\n",
      "D:\\Updated files\\training set\\training-a\\a0076.wav: 1\n",
      "D:\\Updated files\\training set\\training-a\\a0077.wav: 1\n",
      "D:\\Updated files\\training set\\training-a\\a0078.wav: 1\n",
      "D:\\Updated files\\training set\\training-a\\a0079.wav: 1\n",
      "D:\\Updated files\\training set\\training-a\\a0080.wav: -1\n",
      "D:\\Updated files\\training set\\training-a\\a0081.wav: -1\n",
      "D:\\Updated files\\training set\\training-a\\a0082.wav: 1\n",
      "D:\\Updated files\\training set\\training-a\\a0083.wav: 1\n",
      "D:\\Updated files\\training set\\training-a\\a0084.wav: 1\n",
      "D:\\Updated files\\training set\\training-a\\a0085.wav: -1\n",
      "D:\\Updated files\\training set\\training-a\\a0086.wav: -1\n",
      "D:\\Updated files\\training set\\training-a\\a0087.wav: 1\n",
      "D:\\Updated files\\training set\\training-a\\a0088.wav: -1\n",
      "D:\\Updated files\\training set\\training-a\\a0089.wav: 1\n",
      "D:\\Updated files\\training set\\training-a\\a0090.wav: 1\n",
      "D:\\Updated files\\training set\\training-a\\a0091.wav: -1\n",
      "D:\\Updated files\\training set\\training-a\\a0092.wav: 1\n",
      "D:\\Updated files\\training set\\training-a\\a0093.wav: -1\n",
      "D:\\Updated files\\training set\\training-a\\a0094.wav: -1\n",
      "D:\\Updated files\\training set\\training-a\\a0095.wav: 1\n",
      "D:\\Updated files\\training set\\training-a\\a0096.wav: 1\n",
      "D:\\Updated files\\training set\\training-a\\a0097.wav: 1\n",
      "D:\\Updated files\\training set\\training-a\\a0098.wav: 1\n",
      "D:\\Updated files\\training set\\training-a\\a0099.wav: 1\n",
      "D:\\Updated files\\training set\\training-a\\a0100.wav: 1\n",
      "D:\\Updated files\\training set\\training-a\\a0101.wav: 1\n",
      "D:\\Updated files\\training set\\training-a\\a0102.wav: -1\n",
      "D:\\Updated files\\training set\\training-a\\a0103.wav: 1\n",
      "D:\\Updated files\\training set\\training-a\\a0104.wav: 1\n",
      "D:\\Updated files\\training set\\training-a\\a0105.wav: -1\n",
      "D:\\Updated files\\training set\\training-a\\a0106.wav: -1\n",
      "D:\\Updated files\\training set\\training-a\\a0107.wav: 1\n",
      "D:\\Updated files\\training set\\training-a\\a0108.wav: -1\n",
      "D:\\Updated files\\training set\\training-a\\a0109.wav: -1\n",
      "D:\\Updated files\\training set\\training-a\\a0110.wav: 1\n",
      "D:\\Updated files\\training set\\training-a\\a0111.wav: 1\n",
      "D:\\Updated files\\training set\\training-a\\a0112.wav: 1\n",
      "D:\\Updated files\\training set\\training-a\\a0113.wav: 1\n",
      "D:\\Updated files\\training set\\training-a\\a0114.wav: 1\n",
      "D:\\Updated files\\training set\\training-a\\a0115.wav: 1\n",
      "D:\\Updated files\\training set\\training-a\\a0116.wav: 1\n",
      "D:\\Updated files\\training set\\training-a\\a0117.wav: 1\n",
      "D:\\Updated files\\training set\\training-a\\a0118.wav: -1\n",
      "D:\\Updated files\\training set\\training-a\\a0119.wav: 1\n",
      "D:\\Updated files\\training set\\training-a\\a0120.wav: 1\n",
      "D:\\Updated files\\training set\\training-a\\a0121.wav: 1\n",
      "D:\\Updated files\\training set\\training-a\\a0122.wav: 1\n",
      "D:\\Updated files\\training set\\training-a\\a0123.wav: 1\n",
      "D:\\Updated files\\training set\\training-a\\a0124.wav: 1\n",
      "D:\\Updated files\\training set\\training-a\\a0125.wav: -1\n",
      "D:\\Updated files\\training set\\training-a\\a0126.wav: 1\n",
      "D:\\Updated files\\training set\\training-a\\a0127.wav: -1\n",
      "D:\\Updated files\\training set\\training-a\\a0128.wav: 1\n",
      "D:\\Updated files\\training set\\training-a\\a0129.wav: -1\n",
      "D:\\Updated files\\training set\\training-a\\a0130.wav: 1\n",
      "D:\\Updated files\\training set\\training-a\\a0131.wav: 1\n",
      "D:\\Updated files\\training set\\training-a\\a0132.wav: 1\n",
      "D:\\Updated files\\training set\\training-a\\a0133.wav: 1\n",
      "D:\\Updated files\\training set\\training-a\\a0134.wav: 1\n",
      "D:\\Updated files\\training set\\training-a\\a0135.wav: 1\n",
      "D:\\Updated files\\training set\\training-a\\a0136.wav: -1\n",
      "D:\\Updated files\\training set\\training-a\\a0137.wav: 1\n",
      "D:\\Updated files\\training set\\training-a\\a0138.wav: 1\n",
      "D:\\Updated files\\training set\\training-a\\a0139.wav: -1\n",
      "D:\\Updated files\\training set\\training-a\\a0140.wav: -1\n",
      "D:\\Updated files\\training set\\training-a\\a0141.wav: -1\n",
      "D:\\Updated files\\training set\\training-a\\a0142.wav: 1\n",
      "D:\\Updated files\\training set\\training-a\\a0143.wav: 1\n",
      "D:\\Updated files\\training set\\training-a\\a0144.wav: 1\n",
      "D:\\Updated files\\training set\\training-a\\a0145.wav: 1\n",
      "D:\\Updated files\\training set\\training-a\\a0146.wav: 1\n",
      "D:\\Updated files\\training set\\training-a\\a0147.wav: 1\n",
      "D:\\Updated files\\training set\\training-a\\a0148.wav: 1\n",
      "D:\\Updated files\\training set\\training-a\\a0149.wav: 1\n",
      "D:\\Updated files\\training set\\training-a\\a0150.wav: 1\n",
      "D:\\Updated files\\training set\\training-a\\a0151.wav: 1\n",
      "D:\\Updated files\\training set\\training-a\\a0152.wav: 1\n",
      "D:\\Updated files\\training set\\training-a\\a0153.wav: -1\n",
      "D:\\Updated files\\training set\\training-a\\a0154.wav: -1\n",
      "D:\\Updated files\\training set\\training-a\\a0155.wav: -1\n",
      "D:\\Updated files\\training set\\training-a\\a0156.wav: 1\n",
      "D:\\Updated files\\training set\\training-a\\a0157.wav: 1\n",
      "D:\\Updated files\\training set\\training-a\\a0158.wav: 1\n",
      "D:\\Updated files\\training set\\training-a\\a0159.wav: 1\n",
      "D:\\Updated files\\training set\\training-a\\a0160.wav: 1\n",
      "D:\\Updated files\\training set\\training-a\\a0161.wav: -1\n",
      "D:\\Updated files\\training set\\training-a\\a0162.wav: 1\n",
      "D:\\Updated files\\training set\\training-a\\a0163.wav: 1\n",
      "D:\\Updated files\\training set\\training-a\\a0164.wav: 1\n",
      "D:\\Updated files\\training set\\training-a\\a0165.wav: -1\n",
      "D:\\Updated files\\training set\\training-a\\a0166.wav: 1\n",
      "D:\\Updated files\\training set\\training-a\\a0167.wav: 1\n",
      "D:\\Updated files\\training set\\training-a\\a0168.wav: 1\n",
      "D:\\Updated files\\training set\\training-a\\a0169.wav: 1\n",
      "D:\\Updated files\\training set\\training-a\\a0170.wav: 1\n",
      "D:\\Updated files\\training set\\training-a\\a0171.wav: -1\n"
     ]
    },
    {
     "name": "stdout",
     "output_type": "stream",
     "text": [
      "D:\\Updated files\\training set\\training-a\\a0172.wav: 1\n",
      "D:\\Updated files\\training set\\training-a\\a0173.wav: 1\n",
      "D:\\Updated files\\training set\\training-a\\a0174.wav: 1\n",
      "D:\\Updated files\\training set\\training-a\\a0175.wav: 1\n",
      "D:\\Updated files\\training set\\training-a\\a0176.wav: 1\n",
      "D:\\Updated files\\training set\\training-a\\a0177.wav: 1\n",
      "D:\\Updated files\\training set\\training-a\\a0178.wav: -1\n",
      "D:\\Updated files\\training set\\training-a\\a0179.wav: -1\n",
      "D:\\Updated files\\training set\\training-a\\a0180.wav: 1\n",
      "D:\\Updated files\\training set\\training-a\\a0181.wav: -1\n",
      "D:\\Updated files\\training set\\training-a\\a0182.wav: 1\n",
      "D:\\Updated files\\training set\\training-a\\a0183.wav: 1\n",
      "D:\\Updated files\\training set\\training-a\\a0184.wav: -1\n",
      "D:\\Updated files\\training set\\training-a\\a0185.wav: -1\n",
      "D:\\Updated files\\training set\\training-a\\a0186.wav: 1\n",
      "D:\\Updated files\\training set\\training-a\\a0187.wav: 1\n",
      "D:\\Updated files\\training set\\training-a\\a0188.wav: 1\n",
      "D:\\Updated files\\training set\\training-a\\a0189.wav: -1\n",
      "D:\\Updated files\\training set\\training-a\\a0190.wav: 1\n",
      "D:\\Updated files\\training set\\training-a\\a0191.wav: 1\n",
      "D:\\Updated files\\training set\\training-a\\a0192.wav: 1\n",
      "D:\\Updated files\\training set\\training-a\\a0193.wav: -1\n",
      "D:\\Updated files\\training set\\training-a\\a0194.wav: 1\n",
      "D:\\Updated files\\training set\\training-a\\a0195.wav: -1\n",
      "D:\\Updated files\\training set\\training-a\\a0196.wav: -1\n",
      "D:\\Updated files\\training set\\training-a\\a0197.wav: 1\n",
      "D:\\Updated files\\training set\\training-a\\a0198.wav: 1\n",
      "D:\\Updated files\\training set\\training-a\\a0199.wav: -1\n",
      "D:\\Updated files\\training set\\training-a\\a0200.wav: 1\n",
      "D:\\Updated files\\training set\\training-a\\a0201.wav: 1\n",
      "D:\\Updated files\\training set\\training-a\\a0202.wav: 1\n",
      "D:\\Updated files\\training set\\training-a\\a0203.wav: 1\n",
      "D:\\Updated files\\training set\\training-a\\a0204.wav: -1\n",
      "D:\\Updated files\\training set\\training-a\\a0205.wav: 1\n",
      "D:\\Updated files\\training set\\training-a\\a0206.wav: 1\n",
      "D:\\Updated files\\training set\\training-a\\a0207.wav: 1\n",
      "D:\\Updated files\\training set\\training-a\\a0208.wav: -1\n",
      "D:\\Updated files\\training set\\training-a\\a0209.wav: 1\n",
      "D:\\Updated files\\training set\\training-a\\a0210.wav: -1\n",
      "D:\\Updated files\\training set\\training-a\\a0211.wav: -1\n",
      "D:\\Updated files\\training set\\training-a\\a0212.wav: -1\n",
      "D:\\Updated files\\training set\\training-a\\a0213.wav: 1\n",
      "D:\\Updated files\\training set\\training-a\\a0214.wav: 1\n",
      "D:\\Updated files\\training set\\training-a\\a0215.wav: 1\n",
      "D:\\Updated files\\training set\\training-a\\a0216.wav: 1\n",
      "D:\\Updated files\\training set\\training-a\\a0217.wav: 1\n",
      "D:\\Updated files\\training set\\training-a\\a0218.wav: 1\n",
      "D:\\Updated files\\training set\\training-a\\a0219.wav: 1\n",
      "D:\\Updated files\\training set\\training-a\\a0220.wav: 1\n",
      "D:\\Updated files\\training set\\training-a\\a0221.wav: 1\n",
      "D:\\Updated files\\training set\\training-a\\a0222.wav: 1\n",
      "D:\\Updated files\\training set\\training-a\\a0223.wav: 1\n",
      "D:\\Updated files\\training set\\training-a\\a0224.wav: 1\n",
      "D:\\Updated files\\training set\\training-a\\a0225.wav: 1\n",
      "D:\\Updated files\\training set\\training-a\\a0226.wav: 1\n",
      "D:\\Updated files\\training set\\training-a\\a0227.wav: -1\n",
      "D:\\Updated files\\training set\\training-a\\a0228.wav: 1\n",
      "D:\\Updated files\\training set\\training-a\\a0229.wav: -1\n",
      "D:\\Updated files\\training set\\training-a\\a0230.wav: 1\n",
      "D:\\Updated files\\training set\\training-a\\a0231.wav: -1\n",
      "D:\\Updated files\\training set\\training-a\\a0232.wav: 1\n",
      "D:\\Updated files\\training set\\training-a\\a0233.wav: 1\n",
      "D:\\Updated files\\training set\\training-a\\a0234.wav: 1\n",
      "D:\\Updated files\\training set\\training-a\\a0235.wav: -1\n",
      "D:\\Updated files\\training set\\training-a\\a0236.wav: 1\n",
      "D:\\Updated files\\training set\\training-a\\a0237.wav: 1\n",
      "D:\\Updated files\\training set\\training-a\\a0238.wav: -1\n",
      "D:\\Updated files\\training set\\training-a\\a0239.wav: 1\n",
      "D:\\Updated files\\training set\\training-a\\a0240.wav: 1\n",
      "D:\\Updated files\\training set\\training-a\\a0241.wav: -1\n",
      "D:\\Updated files\\training set\\training-a\\a0242.wav: 1\n",
      "D:\\Updated files\\training set\\training-a\\a0243.wav: -1\n",
      "D:\\Updated files\\training set\\training-a\\a0244.wav: 1\n",
      "D:\\Updated files\\training set\\training-a\\a0245.wav: 1\n",
      "D:\\Updated files\\training set\\training-a\\a0246.wav: 1\n",
      "D:\\Updated files\\training set\\training-a\\a0247.wav: 1\n",
      "D:\\Updated files\\training set\\training-a\\a0248.wav: 1\n",
      "D:\\Updated files\\training set\\training-a\\a0249.wav: 1\n",
      "D:\\Updated files\\training set\\training-a\\a0250.wav: -1\n",
      "D:\\Updated files\\training set\\training-a\\a0251.wav: 1\n",
      "D:\\Updated files\\training set\\training-a\\a0252.wav: 1\n",
      "D:\\Updated files\\training set\\training-a\\a0253.wav: -1\n",
      "D:\\Updated files\\training set\\training-a\\a0254.wav: 1\n",
      "D:\\Updated files\\training set\\training-a\\a0255.wav: 1\n",
      "D:\\Updated files\\training set\\training-a\\a0256.wav: 1\n",
      "D:\\Updated files\\training set\\training-a\\a0257.wav: 1\n",
      "D:\\Updated files\\training set\\training-a\\a0258.wav: 1\n",
      "D:\\Updated files\\training set\\training-a\\a0259.wav: 1\n",
      "D:\\Updated files\\training set\\training-a\\a0260.wav: 1\n",
      "D:\\Updated files\\training set\\training-a\\a0261.wav: 1\n",
      "D:\\Updated files\\training set\\training-a\\a0262.wav: 1\n",
      "D:\\Updated files\\training set\\training-a\\a0263.wav: 1\n",
      "D:\\Updated files\\training set\\training-a\\a0264.wav: -1\n",
      "D:\\Updated files\\training set\\training-a\\a0265.wav: 1\n",
      "D:\\Updated files\\training set\\training-a\\a0266.wav: -1\n",
      "D:\\Updated files\\training set\\training-a\\a0267.wav: 1\n",
      "D:\\Updated files\\training set\\training-a\\a0268.wav: 1\n",
      "D:\\Updated files\\training set\\training-a\\a0269.wav: 1\n",
      "D:\\Updated files\\training set\\training-a\\a0270.wav: -1\n",
      "D:\\Updated files\\training set\\training-a\\a0271.wav: -1\n",
      "D:\\Updated files\\training set\\training-a\\a0272.wav: 1\n",
      "D:\\Updated files\\training set\\training-a\\a0273.wav: 1\n",
      "D:\\Updated files\\training set\\training-a\\a0274.wav: -1\n",
      "D:\\Updated files\\training set\\training-a\\a0275.wav: 1\n",
      "D:\\Updated files\\training set\\training-a\\a0276.wav: 1\n",
      "D:\\Updated files\\training set\\training-a\\a0277.wav: 1\n",
      "D:\\Updated files\\training set\\training-a\\a0278.wav: 1\n",
      "D:\\Updated files\\training set\\training-a\\a0279.wav: 1\n",
      "D:\\Updated files\\training set\\training-a\\a0280.wav: 1\n",
      "D:\\Updated files\\training set\\training-a\\a0281.wav: 1\n",
      "D:\\Updated files\\training set\\training-a\\a0282.wav: 1\n",
      "D:\\Updated files\\training set\\training-a\\a0283.wav: -1\n",
      "D:\\Updated files\\training set\\training-a\\a0284.wav: 1\n",
      "D:\\Updated files\\training set\\training-a\\a0285.wav: -1\n",
      "D:\\Updated files\\training set\\training-a\\a0286.wav: 1\n",
      "D:\\Updated files\\training set\\training-a\\a0287.wav: -1\n",
      "D:\\Updated files\\training set\\training-a\\a0288.wav: 1\n",
      "D:\\Updated files\\training set\\training-a\\a0289.wav: -1\n",
      "D:\\Updated files\\training set\\training-a\\a0290.wav: -1\n",
      "D:\\Updated files\\training set\\training-a\\a0291.wav: 1\n",
      "D:\\Updated files\\training set\\training-a\\a0292.wav: 1\n",
      "D:\\Updated files\\training set\\training-a\\a0293.wav: -1\n",
      "D:\\Updated files\\training set\\training-a\\a0294.wav: -1\n",
      "D:\\Updated files\\training set\\training-a\\a0295.wav: 1\n",
      "D:\\Updated files\\training set\\training-a\\a0296.wav: 1\n",
      "D:\\Updated files\\training set\\training-a\\a0297.wav: 1\n",
      "D:\\Updated files\\training set\\training-a\\a0298.wav: -1\n",
      "D:\\Updated files\\training set\\training-a\\a0299.wav: -1\n",
      "D:\\Updated files\\training set\\training-a\\a0300.wav: 1\n",
      "D:\\Updated files\\training set\\training-a\\a0301.wav: -1\n",
      "D:\\Updated files\\training set\\training-a\\a0302.wav: -1\n",
      "D:\\Updated files\\training set\\training-a\\a0303.wav: 1\n",
      "D:\\Updated files\\training set\\training-a\\a0304.wav: -1\n",
      "D:\\Updated files\\training set\\training-a\\a0305.wav: 1\n",
      "D:\\Updated files\\training set\\training-a\\a0306.wav: 1\n",
      "D:\\Updated files\\training set\\training-a\\a0307.wav: 1\n",
      "D:\\Updated files\\training set\\training-a\\a0308.wav: 1\n",
      "D:\\Updated files\\training set\\training-a\\a0309.wav: -1\n",
      "D:\\Updated files\\training set\\training-a\\a0310.wav: -1\n",
      "D:\\Updated files\\training set\\training-a\\a0311.wav: -1\n",
      "D:\\Updated files\\training set\\training-a\\a0312.wav: 1\n",
      "D:\\Updated files\\training set\\training-a\\a0313.wav: 1\n",
      "D:\\Updated files\\training set\\training-a\\a0314.wav: 1\n",
      "D:\\Updated files\\training set\\training-a\\a0315.wav: 1\n",
      "D:\\Updated files\\training set\\training-a\\a0316.wav: 1\n",
      "D:\\Updated files\\training set\\training-a\\a0317.wav: 1\n",
      "D:\\Updated files\\training set\\training-a\\a0318.wav: 1\n",
      "D:\\Updated files\\training set\\training-a\\a0319.wav: 1\n",
      "D:\\Updated files\\training set\\training-a\\a0320.wav: 1\n",
      "D:\\Updated files\\training set\\training-a\\a0321.wav: 1\n",
      "D:\\Updated files\\training set\\training-a\\a0322.wav: 1\n",
      "D:\\Updated files\\training set\\training-a\\a0323.wav: -1\n",
      "D:\\Updated files\\training set\\training-a\\a0324.wav: 1\n"
     ]
    },
    {
     "name": "stdout",
     "output_type": "stream",
     "text": [
      "D:\\Updated files\\training set\\training-a\\a0325.wav: -1\n",
      "D:\\Updated files\\training set\\training-a\\a0326.wav: 1\n",
      "D:\\Updated files\\training set\\training-a\\a0327.wav: 1\n",
      "D:\\Updated files\\training set\\training-a\\a0328.wav: -1\n",
      "D:\\Updated files\\training set\\training-a\\a0329.wav: -1\n",
      "D:\\Updated files\\training set\\training-a\\a0330.wav: -1\n",
      "D:\\Updated files\\training set\\training-a\\a0331.wav: 1\n",
      "D:\\Updated files\\training set\\training-a\\a0332.wav: -1\n",
      "D:\\Updated files\\training set\\training-a\\a0333.wav: 1\n",
      "D:\\Updated files\\training set\\training-a\\a0334.wav: -1\n",
      "D:\\Updated files\\training set\\training-a\\a0335.wav: 1\n",
      "D:\\Updated files\\training set\\training-a\\a0336.wav: 1\n",
      "D:\\Updated files\\training set\\training-a\\a0337.wav: -1\n",
      "D:\\Updated files\\training set\\training-a\\a0338.wav: 1\n",
      "D:\\Updated files\\training set\\training-a\\a0339.wav: 1\n",
      "D:\\Updated files\\training set\\training-a\\a0340.wav: -1\n",
      "D:\\Updated files\\training set\\training-a\\a0341.wav: 1\n",
      "D:\\Updated files\\training set\\training-a\\a0342.wav: -1\n",
      "D:\\Updated files\\training set\\training-a\\a0343.wav: 1\n",
      "D:\\Updated files\\training set\\training-a\\a0344.wav: 1\n",
      "D:\\Updated files\\training set\\training-a\\a0345.wav: 1\n",
      "D:\\Updated files\\training set\\training-a\\a0346.wav: 1\n",
      "D:\\Updated files\\training set\\training-a\\a0347.wav: 1\n",
      "D:\\Updated files\\training set\\training-a\\a0348.wav: 1\n",
      "D:\\Updated files\\training set\\training-a\\a0349.wav: 1\n",
      "D:\\Updated files\\training set\\training-a\\a0350.wav: 1\n",
      "D:\\Updated files\\training set\\training-a\\a0351.wav: -1\n",
      "D:\\Updated files\\training set\\training-a\\a0352.wav: -1\n",
      "D:\\Updated files\\training set\\training-a\\a0353.wav: -1\n",
      "D:\\Updated files\\training set\\training-a\\a0354.wav: 1\n",
      "D:\\Updated files\\training set\\training-a\\a0355.wav: -1\n",
      "D:\\Updated files\\training set\\training-a\\a0356.wav: 1\n",
      "D:\\Updated files\\training set\\training-a\\a0357.wav: 1\n",
      "D:\\Updated files\\training set\\training-a\\a0358.wav: 1\n",
      "D:\\Updated files\\training set\\training-a\\a0359.wav: -1\n",
      "D:\\Updated files\\training set\\training-a\\a0360.wav: 1\n",
      "D:\\Updated files\\training set\\training-a\\a0361.wav: -1\n",
      "D:\\Updated files\\training set\\training-a\\a0362.wav: 1\n",
      "D:\\Updated files\\training set\\training-a\\a0363.wav: 1\n",
      "D:\\Updated files\\training set\\training-a\\a0364.wav: 1\n",
      "D:\\Updated files\\training set\\training-a\\a0365.wav: 1\n",
      "D:\\Updated files\\training set\\training-a\\a0366.wav: 1\n",
      "D:\\Updated files\\training set\\training-a\\a0367.wav: 1\n",
      "D:\\Updated files\\training set\\training-a\\a0368.wav: 1\n",
      "D:\\Updated files\\training set\\training-a\\a0369.wav: 1\n",
      "D:\\Updated files\\training set\\training-a\\a0370.wav: 1\n",
      "D:\\Updated files\\training set\\training-a\\a0371.wav: 1\n",
      "D:\\Updated files\\training set\\training-a\\a0372.wav: 1\n",
      "D:\\Updated files\\training set\\training-a\\a0373.wav: 1\n",
      "D:\\Updated files\\training set\\training-a\\a0374.wav: 1\n",
      "D:\\Updated files\\training set\\training-a\\a0375.wav: 1\n",
      "D:\\Updated files\\training set\\training-a\\a0376.wav: 1\n",
      "D:\\Updated files\\training set\\training-a\\a0377.wav: 1\n",
      "D:\\Updated files\\training set\\training-a\\a0378.wav: 1\n",
      "D:\\Updated files\\training set\\training-a\\a0379.wav: 1\n",
      "D:\\Updated files\\training set\\training-a\\a0380.wav: 1\n",
      "D:\\Updated files\\training set\\training-a\\a0381.wav: 1\n",
      "D:\\Updated files\\training set\\training-a\\a0382.wav: 1\n",
      "D:\\Updated files\\training set\\training-a\\a0383.wav: 1\n",
      "D:\\Updated files\\training set\\training-a\\a0384.wav: 1\n",
      "D:\\Updated files\\training set\\training-a\\a0385.wav: -1\n",
      "D:\\Updated files\\training set\\training-a\\a0386.wav: -1\n",
      "D:\\Updated files\\training set\\training-a\\a0387.wav: 1\n",
      "D:\\Updated files\\training set\\training-a\\a0388.wav: 1\n",
      "D:\\Updated files\\training set\\training-a\\a0389.wav: 1\n",
      "D:\\Updated files\\training set\\training-a\\a0390.wav: 1\n",
      "D:\\Updated files\\training set\\training-a\\a0391.wav: 1\n",
      "D:\\Updated files\\training set\\training-a\\a0392.wav: 1\n",
      "D:\\Updated files\\training set\\training-a\\a0393.wav: -1\n",
      "D:\\Updated files\\training set\\training-a\\a0394.wav: 1\n",
      "D:\\Updated files\\training set\\training-a\\a0395.wav: 1\n",
      "D:\\Updated files\\training set\\training-a\\a0396.wav: 1\n",
      "D:\\Updated files\\training set\\training-a\\a0397.wav: 1\n",
      "D:\\Updated files\\training set\\training-a\\a0398.wav: 1\n",
      "D:\\Updated files\\training set\\training-a\\a0399.wav: 1\n",
      "D:\\Updated files\\training set\\training-a\\a0400.wav: 1\n",
      "D:\\Updated files\\training set\\training-a\\a0401.wav: -1\n",
      "D:\\Updated files\\training set\\training-a\\a0402.wav: 1\n",
      "D:\\Updated files\\training set\\training-a\\a0403.wav: 1\n",
      "D:\\Updated files\\training set\\training-a\\a0404.wav: 1\n",
      "D:\\Updated files\\training set\\training-a\\a0405.wav: -1\n",
      "D:\\Updated files\\training set\\training-a\\a0406.wav: -1\n",
      "D:\\Updated files\\training set\\training-a\\a0407.wav: -1\n",
      "D:\\Updated files\\training set\\training-a\\a0408.wav: -1\n",
      "D:\\Updated files\\training set\\training-a\\a0409.wav: -1\n"
     ]
    },
    {
     "data": {
      "text/plain": [
       "<matplotlib.figure.Figure at 0x1c10e6da6a0>"
      ]
     },
     "metadata": {},
     "output_type": "display_data"
    },
    {
     "data": {
      "text/plain": [
       "<matplotlib.figure.Figure at 0x1c1171e54a8>"
      ]
     },
     "metadata": {},
     "output_type": "display_data"
    },
    {
     "data": {
      "text/plain": [
       "<matplotlib.figure.Figure at 0x1c1171e5d30>"
      ]
     },
     "metadata": {},
     "output_type": "display_data"
    },
    {
     "data": {
      "text/plain": [
       "<matplotlib.figure.Figure at 0x1c110c330f0>"
      ]
     },
     "metadata": {},
     "output_type": "display_data"
    },
    {
     "data": {
      "text/plain": [
       "<matplotlib.figure.Figure at 0x1c117348a58>"
      ]
     },
     "metadata": {},
     "output_type": "display_data"
    },
    {
     "data": {
      "text/plain": [
       "<matplotlib.figure.Figure at 0x1c11732bc88>"
      ]
     },
     "metadata": {},
     "output_type": "display_data"
    },
    {
     "data": {
      "text/plain": [
       "<matplotlib.figure.Figure at 0x1c117340e10>"
      ]
     },
     "metadata": {},
     "output_type": "display_data"
    },
    {
     "data": {
      "text/plain": [
       "<matplotlib.figure.Figure at 0x1c116c7c668>"
      ]
     },
     "metadata": {},
     "output_type": "display_data"
    },
    {
     "data": {
      "text/plain": [
       "<matplotlib.figure.Figure at 0x1c117383588>"
      ]
     },
     "metadata": {},
     "output_type": "display_data"
    },
    {
     "data": {
      "text/plain": [
       "<matplotlib.figure.Figure at 0x1c1172e6358>"
      ]
     },
     "metadata": {},
     "output_type": "display_data"
    },
    {
     "data": {
      "text/plain": [
       "<matplotlib.figure.Figure at 0x1c1173f5860>"
      ]
     },
     "metadata": {},
     "output_type": "display_data"
    },
    {
     "data": {
      "text/plain": [
       "<matplotlib.figure.Figure at 0x1c110c15f28>"
      ]
     },
     "metadata": {},
     "output_type": "display_data"
    },
    {
     "data": {
      "text/plain": [
       "<matplotlib.figure.Figure at 0x1c117244358>"
      ]
     },
     "metadata": {},
     "output_type": "display_data"
    },
    {
     "data": {
      "text/plain": [
       "<matplotlib.figure.Figure at 0x1c11731c1d0>"
      ]
     },
     "metadata": {},
     "output_type": "display_data"
    },
    {
     "data": {
      "text/plain": [
       "<matplotlib.figure.Figure at 0x1c11724d4e0>"
      ]
     },
     "metadata": {},
     "output_type": "display_data"
    },
    {
     "data": {
      "text/plain": [
       "<matplotlib.figure.Figure at 0x1c1173a3be0>"
      ]
     },
     "metadata": {},
     "output_type": "display_data"
    },
    {
     "data": {
      "text/plain": [
       "<matplotlib.figure.Figure at 0x1c1173680f0>"
      ]
     },
     "metadata": {},
     "output_type": "display_data"
    },
    {
     "data": {
      "text/plain": [
       "<matplotlib.figure.Figure at 0x1c1174286d8>"
      ]
     },
     "metadata": {},
     "output_type": "display_data"
    },
    {
     "data": {
      "text/plain": [
       "<matplotlib.figure.Figure at 0x1c117249128>"
      ]
     },
     "metadata": {},
     "output_type": "display_data"
    },
    {
     "data": {
      "text/plain": [
       "<matplotlib.figure.Figure at 0x1c1173c20f0>"
      ]
     },
     "metadata": {},
     "output_type": "display_data"
    },
    {
     "data": {
      "text/plain": [
       "<matplotlib.figure.Figure at 0x1c11744ae48>"
      ]
     },
     "metadata": {},
     "output_type": "display_data"
    },
    {
     "data": {
      "text/plain": [
       "<matplotlib.figure.Figure at 0x1c11847ada0>"
      ]
     },
     "metadata": {},
     "output_type": "display_data"
    },
    {
     "data": {
      "text/plain": [
       "<matplotlib.figure.Figure at 0x1c1184724e0>"
      ]
     },
     "metadata": {},
     "output_type": "display_data"
    },
    {
     "data": {
      "text/plain": [
       "<matplotlib.figure.Figure at 0x1c1172cc908>"
      ]
     },
     "metadata": {},
     "output_type": "display_data"
    },
    {
     "data": {
      "text/plain": [
       "<matplotlib.figure.Figure at 0x1c1184f1ac8>"
      ]
     },
     "metadata": {},
     "output_type": "display_data"
    },
    {
     "data": {
      "text/plain": [
       "<matplotlib.figure.Figure at 0x1c1184c8b38>"
      ]
     },
     "metadata": {},
     "output_type": "display_data"
    },
    {
     "data": {
      "text/plain": [
       "<matplotlib.figure.Figure at 0x1c11850a6a0>"
      ]
     },
     "metadata": {},
     "output_type": "display_data"
    },
    {
     "data": {
      "text/plain": [
       "<matplotlib.figure.Figure at 0x1c11849a0b8>"
      ]
     },
     "metadata": {},
     "output_type": "display_data"
    },
    {
     "data": {
      "text/plain": [
       "<matplotlib.figure.Figure at 0x1c11845f860>"
      ]
     },
     "metadata": {},
     "output_type": "display_data"
    },
    {
     "data": {
      "text/plain": [
       "<matplotlib.figure.Figure at 0x1c11740c4e0>"
      ]
     },
     "metadata": {},
     "output_type": "display_data"
    },
    {
     "data": {
      "text/plain": [
       "<matplotlib.figure.Figure at 0x1c117441c18>"
      ]
     },
     "metadata": {},
     "output_type": "display_data"
    },
    {
     "data": {
      "text/plain": [
       "<matplotlib.figure.Figure at 0x1c1172f2390>"
      ]
     },
     "metadata": {},
     "output_type": "display_data"
    },
    {
     "data": {
      "text/plain": [
       "<matplotlib.figure.Figure at 0x1c1185b2198>"
      ]
     },
     "metadata": {},
     "output_type": "display_data"
    },
    {
     "data": {
      "text/plain": [
       "<matplotlib.figure.Figure at 0x1c1186239b0>"
      ]
     },
     "metadata": {},
     "output_type": "display_data"
    },
    {
     "data": {
      "text/plain": [
       "<matplotlib.figure.Figure at 0x1c1185fc518>"
      ]
     },
     "metadata": {},
     "output_type": "display_data"
    },
    {
     "data": {
      "text/plain": [
       "<matplotlib.figure.Figure at 0x1c11857b668>"
      ]
     },
     "metadata": {},
     "output_type": "display_data"
    },
    {
     "data": {
      "text/plain": [
       "<matplotlib.figure.Figure at 0x1c11865f400>"
      ]
     },
     "metadata": {},
     "output_type": "display_data"
    },
    {
     "data": {
      "text/plain": [
       "<matplotlib.figure.Figure at 0x1c11867a9e8>"
      ]
     },
     "metadata": {},
     "output_type": "display_data"
    },
    {
     "data": {
      "text/plain": [
       "<matplotlib.figure.Figure at 0x1c1186a9c88>"
      ]
     },
     "metadata": {},
     "output_type": "display_data"
    },
    {
     "data": {
      "text/plain": [
       "<matplotlib.figure.Figure at 0x1c118629da0>"
      ]
     },
     "metadata": {},
     "output_type": "display_data"
    },
    {
     "data": {
      "text/plain": [
       "<matplotlib.figure.Figure at 0x1c11868e828>"
      ]
     },
     "metadata": {},
     "output_type": "display_data"
    },
    {
     "data": {
      "text/plain": [
       "<matplotlib.figure.Figure at 0x1c1186f4a58>"
      ]
     },
     "metadata": {},
     "output_type": "display_data"
    },
    {
     "data": {
      "text/plain": [
       "<matplotlib.figure.Figure at 0x1c1186d5828>"
      ]
     },
     "metadata": {},
     "output_type": "display_data"
    },
    {
     "data": {
      "text/plain": [
       "<matplotlib.figure.Figure at 0x1c1185efd68>"
      ]
     },
     "metadata": {},
     "output_type": "display_data"
    },
    {
     "data": {
      "text/plain": [
       "<matplotlib.figure.Figure at 0x1c11873f5f8>"
      ]
     },
     "metadata": {},
     "output_type": "display_data"
    },
    {
     "data": {
      "text/plain": [
       "<matplotlib.figure.Figure at 0x1c1187afd68>"
      ]
     },
     "metadata": {},
     "output_type": "display_data"
    },
    {
     "data": {
      "text/plain": [
       "<matplotlib.figure.Figure at 0x1c118785710>"
      ]
     },
     "metadata": {},
     "output_type": "display_data"
    },
    {
     "data": {
      "text/plain": [
       "<matplotlib.figure.Figure at 0x1c11871c5c0>"
      ]
     },
     "metadata": {},
     "output_type": "display_data"
    },
    {
     "data": {
      "text/plain": [
       "<matplotlib.figure.Figure at 0x1c1187957f0>"
      ]
     },
     "metadata": {},
     "output_type": "display_data"
    },
    {
     "data": {
      "text/plain": [
       "<matplotlib.figure.Figure at 0x1c1187aa668>"
      ]
     },
     "metadata": {},
     "output_type": "display_data"
    },
    {
     "data": {
      "text/plain": [
       "<matplotlib.figure.Figure at 0x1c1184df828>"
      ]
     },
     "metadata": {},
     "output_type": "display_data"
    },
    {
     "data": {
      "text/plain": [
       "<matplotlib.figure.Figure at 0x1c11849a9b0>"
      ]
     },
     "metadata": {},
     "output_type": "display_data"
    },
    {
     "data": {
      "text/plain": [
       "<matplotlib.figure.Figure at 0x1c118605c88>"
      ]
     },
     "metadata": {},
     "output_type": "display_data"
    },
    {
     "data": {
      "text/plain": [
       "<matplotlib.figure.Figure at 0x1c11845f080>"
      ]
     },
     "metadata": {},
     "output_type": "display_data"
    },
    {
     "data": {
      "text/plain": [
       "<matplotlib.figure.Figure at 0x1c110c17630>"
      ]
     },
     "metadata": {},
     "output_type": "display_data"
    },
    {
     "data": {
      "text/plain": [
       "<matplotlib.figure.Figure at 0x1c11879f438>"
      ]
     },
     "metadata": {},
     "output_type": "display_data"
    },
    {
     "data": {
      "text/plain": [
       "<matplotlib.figure.Figure at 0x1c1186059b0>"
      ]
     },
     "metadata": {},
     "output_type": "display_data"
    },
    {
     "data": {
      "text/plain": [
       "<matplotlib.figure.Figure at 0x1c1173baf60>"
      ]
     },
     "metadata": {},
     "output_type": "display_data"
    },
    {
     "data": {
      "text/plain": [
       "<matplotlib.figure.Figure at 0x1c1172c8048>"
      ]
     },
     "metadata": {},
     "output_type": "display_data"
    },
    {
     "data": {
      "text/plain": [
       "<matplotlib.figure.Figure at 0x1c11740c908>"
      ]
     },
     "metadata": {},
     "output_type": "display_data"
    },
    {
     "data": {
      "text/plain": [
       "<matplotlib.figure.Figure at 0x1c1173dee10>"
      ]
     },
     "metadata": {},
     "output_type": "display_data"
    },
    {
     "data": {
      "text/plain": [
       "<matplotlib.figure.Figure at 0x1c1173d85c0>"
      ]
     },
     "metadata": {},
     "output_type": "display_data"
    },
    {
     "data": {
      "text/plain": [
       "<matplotlib.figure.Figure at 0x1c1185fcc88>"
      ]
     },
     "metadata": {},
     "output_type": "display_data"
    },
    {
     "data": {
      "text/plain": [
       "<matplotlib.figure.Figure at 0x1c1185725c0>"
      ]
     },
     "metadata": {},
     "output_type": "display_data"
    },
    {
     "data": {
      "text/plain": [
       "<matplotlib.figure.Figure at 0x1c1173ea940>"
      ]
     },
     "metadata": {},
     "output_type": "display_data"
    },
    {
     "data": {
      "text/plain": [
       "<matplotlib.figure.Figure at 0x1c1173fb438>"
      ]
     },
     "metadata": {},
     "output_type": "display_data"
    },
    {
     "data": {
      "text/plain": [
       "<matplotlib.figure.Figure at 0x1c1173d2e48>"
      ]
     },
     "metadata": {},
     "output_type": "display_data"
    },
    {
     "data": {
      "text/plain": [
       "<matplotlib.figure.Figure at 0x1c1173bada0>"
      ]
     },
     "metadata": {},
     "output_type": "display_data"
    },
    {
     "data": {
      "text/plain": [
       "<matplotlib.figure.Figure at 0x1c11742e860>"
      ]
     },
     "metadata": {},
     "output_type": "display_data"
    },
    {
     "data": {
      "text/plain": [
       "<matplotlib.figure.Figure at 0x1c117398828>"
      ]
     },
     "metadata": {},
     "output_type": "display_data"
    },
    {
     "data": {
      "text/plain": [
       "<matplotlib.figure.Figure at 0x1c11861cbe0>"
      ]
     },
     "metadata": {},
     "output_type": "display_data"
    },
    {
     "data": {
      "text/plain": [
       "<matplotlib.figure.Figure at 0x1c1174285c0>"
      ]
     },
     "metadata": {},
     "output_type": "display_data"
    },
    {
     "data": {
      "text/plain": [
       "<matplotlib.figure.Figure at 0x1c1172c8550>"
      ]
     },
     "metadata": {},
     "output_type": "display_data"
    },
    {
     "data": {
      "text/plain": [
       "<matplotlib.figure.Figure at 0x1c1186667f0>"
      ]
     },
     "metadata": {},
     "output_type": "display_data"
    },
    {
     "data": {
      "text/plain": [
       "<matplotlib.figure.Figure at 0x1c1185ea978>"
      ]
     },
     "metadata": {},
     "output_type": "display_data"
    },
    {
     "data": {
      "text/plain": [
       "<matplotlib.figure.Figure at 0x1c1187643c8>"
      ]
     },
     "metadata": {},
     "output_type": "display_data"
    },
    {
     "data": {
      "text/plain": [
       "<matplotlib.figure.Figure at 0x1c117318898>"
      ]
     },
     "metadata": {},
     "output_type": "display_data"
    },
    {
     "data": {
      "text/plain": [
       "<matplotlib.figure.Figure at 0x1c1185d1d30>"
      ]
     },
     "metadata": {},
     "output_type": "display_data"
    },
    {
     "data": {
      "text/plain": [
       "<matplotlib.figure.Figure at 0x1c11852f748>"
      ]
     },
     "metadata": {},
     "output_type": "display_data"
    },
    {
     "data": {
      "text/plain": [
       "<matplotlib.figure.Figure at 0x1c118465080>"
      ]
     },
     "metadata": {},
     "output_type": "display_data"
    },
    {
     "data": {
      "text/plain": [
       "<matplotlib.figure.Figure at 0x1c113bb2518>"
      ]
     },
     "metadata": {},
     "output_type": "display_data"
    },
    {
     "data": {
      "text/plain": [
       "<matplotlib.figure.Figure at 0x1c11873f2e8>"
      ]
     },
     "metadata": {},
     "output_type": "display_data"
    },
    {
     "data": {
      "text/plain": [
       "<matplotlib.figure.Figure at 0x1c11a822588>"
      ]
     },
     "metadata": {},
     "output_type": "display_data"
    },
    {
     "data": {
      "text/plain": [
       "<matplotlib.figure.Figure at 0x1c119807be0>"
      ]
     },
     "metadata": {},
     "output_type": "display_data"
    },
    {
     "data": {
      "text/plain": [
       "<matplotlib.figure.Figure at 0x1c1186239e8>"
      ]
     },
     "metadata": {},
     "output_type": "display_data"
    },
    {
     "data": {
      "text/plain": [
       "<matplotlib.figure.Figure at 0x1c11a87a128>"
      ]
     },
     "metadata": {},
     "output_type": "display_data"
    },
    {
     "data": {
      "text/plain": [
       "<matplotlib.figure.Figure at 0x1c11a8e94a8>"
      ]
     },
     "metadata": {},
     "output_type": "display_data"
    },
    {
     "data": {
      "text/plain": [
       "<matplotlib.figure.Figure at 0x1c11a8cc2b0>"
      ]
     },
     "metadata": {},
     "output_type": "display_data"
    },
    {
     "data": {
      "text/plain": [
       "<matplotlib.figure.Figure at 0x1c11a8554a8>"
      ]
     },
     "metadata": {},
     "output_type": "display_data"
    },
    {
     "data": {
      "text/plain": [
       "<matplotlib.figure.Figure at 0x1c11a9275f8>"
      ]
     },
     "metadata": {},
     "output_type": "display_data"
    },
    {
     "data": {
      "text/plain": [
       "<matplotlib.figure.Figure at 0x1c11a8cc240>"
      ]
     },
     "metadata": {},
     "output_type": "display_data"
    },
    {
     "data": {
      "text/plain": [
       "<matplotlib.figure.Figure at 0x1c118739e80>"
      ]
     },
     "metadata": {},
     "output_type": "display_data"
    },
    {
     "data": {
      "text/plain": [
       "<matplotlib.figure.Figure at 0x1c1185026d8>"
      ]
     },
     "metadata": {},
     "output_type": "display_data"
    },
    {
     "data": {
      "text/plain": [
       "<matplotlib.figure.Figure at 0x1c11a8d74a8>"
      ]
     },
     "metadata": {},
     "output_type": "display_data"
    },
    {
     "data": {
      "text/plain": [
       "<matplotlib.figure.Figure at 0x1c117355400>"
      ]
     },
     "metadata": {},
     "output_type": "display_data"
    },
    {
     "data": {
      "text/plain": [
       "<matplotlib.figure.Figure at 0x1c1185fce80>"
      ]
     },
     "metadata": {},
     "output_type": "display_data"
    },
    {
     "data": {
      "text/plain": [
       "<matplotlib.figure.Figure at 0x1c118472da0>"
      ]
     },
     "metadata": {},
     "output_type": "display_data"
    },
    {
     "data": {
      "text/plain": [
       "<matplotlib.figure.Figure at 0x1c1173ea828>"
      ]
     },
     "metadata": {},
     "output_type": "display_data"
    },
    {
     "data": {
      "text/plain": [
       "<matplotlib.figure.Figure at 0x1c117455be0>"
      ]
     },
     "metadata": {},
     "output_type": "display_data"
    },
    {
     "data": {
      "text/plain": [
       "<matplotlib.figure.Figure at 0x1c11a865c88>"
      ]
     },
     "metadata": {},
     "output_type": "display_data"
    },
    {
     "data": {
      "text/plain": [
       "<matplotlib.figure.Figure at 0x1c1172c8390>"
      ]
     },
     "metadata": {},
     "output_type": "display_data"
    },
    {
     "data": {
      "text/plain": [
       "<matplotlib.figure.Figure at 0x1c1185d1588>"
      ]
     },
     "metadata": {},
     "output_type": "display_data"
    },
    {
     "data": {
      "text/plain": [
       "<matplotlib.figure.Figure at 0x1c11847abe0>"
      ]
     },
     "metadata": {},
     "output_type": "display_data"
    },
    {
     "data": {
      "text/plain": [
       "<matplotlib.figure.Figure at 0x1c11849a1d0>"
      ]
     },
     "metadata": {},
     "output_type": "display_data"
    },
    {
     "data": {
      "text/plain": [
       "<matplotlib.figure.Figure at 0x1c1184dfe80>"
      ]
     },
     "metadata": {},
     "output_type": "display_data"
    },
    {
     "data": {
      "text/plain": [
       "<matplotlib.figure.Figure at 0x1c118591160>"
      ]
     },
     "metadata": {},
     "output_type": "display_data"
    },
    {
     "data": {
      "text/plain": [
       "<matplotlib.figure.Figure at 0x1c11867ad30>"
      ]
     },
     "metadata": {},
     "output_type": "display_data"
    },
    {
     "data": {
      "text/plain": [
       "<matplotlib.figure.Figure at 0x1c11747a5c0>"
      ]
     },
     "metadata": {},
     "output_type": "display_data"
    },
    {
     "data": {
      "text/plain": [
       "<matplotlib.figure.Figure at 0x1c1173681d0>"
      ]
     },
     "metadata": {},
     "output_type": "display_data"
    },
    {
     "data": {
      "text/plain": [
       "<matplotlib.figure.Figure at 0x1c1173fb6d8>"
      ]
     },
     "metadata": {},
     "output_type": "display_data"
    },
    {
     "data": {
      "text/plain": [
       "<matplotlib.figure.Figure at 0x1c1172cca20>"
      ]
     },
     "metadata": {},
     "output_type": "display_data"
    },
    {
     "data": {
      "text/plain": [
       "<matplotlib.figure.Figure at 0x1c11738d390>"
      ]
     },
     "metadata": {},
     "output_type": "display_data"
    },
    {
     "data": {
      "text/plain": [
       "<matplotlib.figure.Figure at 0x1c11a865ef0>"
      ]
     },
     "metadata": {},
     "output_type": "display_data"
    },
    {
     "data": {
      "text/plain": [
       "<matplotlib.figure.Figure at 0x1c1185b29b0>"
      ]
     },
     "metadata": {},
     "output_type": "display_data"
    },
    {
     "data": {
      "text/plain": [
       "<matplotlib.figure.Figure at 0x1c11879f208>"
      ]
     },
     "metadata": {},
     "output_type": "display_data"
    },
    {
     "data": {
      "text/plain": [
       "<matplotlib.figure.Figure at 0x1c1185a4da0>"
      ]
     },
     "metadata": {},
     "output_type": "display_data"
    },
    {
     "data": {
      "text/plain": [
       "<matplotlib.figure.Figure at 0x1c118698630>"
      ]
     },
     "metadata": {},
     "output_type": "display_data"
    },
    {
     "data": {
      "text/plain": [
       "<matplotlib.figure.Figure at 0x1c1184ec198>"
      ]
     },
     "metadata": {},
     "output_type": "display_data"
    },
    {
     "data": {
      "text/plain": [
       "<matplotlib.figure.Figure at 0x1c11870d5f8>"
      ]
     },
     "metadata": {},
     "output_type": "display_data"
    },
    {
     "data": {
      "text/plain": [
       "<matplotlib.figure.Figure at 0x1c11a845f60>"
      ]
     },
     "metadata": {},
     "output_type": "display_data"
    },
    {
     "data": {
      "text/plain": [
       "<matplotlib.figure.Figure at 0x1c1184f11d0>"
      ]
     },
     "metadata": {},
     "output_type": "display_data"
    },
    {
     "data": {
      "text/plain": [
       "<matplotlib.figure.Figure at 0x1c11a8a1898>"
      ]
     },
     "metadata": {},
     "output_type": "display_data"
    },
    {
     "data": {
      "text/plain": [
       "<matplotlib.figure.Figure at 0x1c11873f198>"
      ]
     },
     "metadata": {},
     "output_type": "display_data"
    },
    {
     "data": {
      "text/plain": [
       "<matplotlib.figure.Figure at 0x1c1172cc390>"
      ]
     },
     "metadata": {},
     "output_type": "display_data"
    },
    {
     "data": {
      "text/plain": [
       "<matplotlib.figure.Figure at 0x1c11a8b7710>"
      ]
     },
     "metadata": {},
     "output_type": "display_data"
    },
    {
     "data": {
      "text/plain": [
       "<matplotlib.figure.Figure at 0x1c11870d518>"
      ]
     },
     "metadata": {},
     "output_type": "display_data"
    },
    {
     "data": {
      "text/plain": [
       "<matplotlib.figure.Figure at 0x1c11b9a2be0>"
      ]
     },
     "metadata": {},
     "output_type": "display_data"
    },
    {
     "data": {
      "text/plain": [
       "<matplotlib.figure.Figure at 0x1c11ba11f60>"
      ]
     },
     "metadata": {},
     "output_type": "display_data"
    },
    {
     "data": {
      "text/plain": [
       "<matplotlib.figure.Figure at 0x1c11b9ef630>"
      ]
     },
     "metadata": {},
     "output_type": "display_data"
    },
    {
     "data": {
      "text/plain": [
       "<matplotlib.figure.Figure at 0x1c11a92d278>"
      ]
     },
     "metadata": {},
     "output_type": "display_data"
    },
    {
     "data": {
      "text/plain": [
       "<matplotlib.figure.Figure at 0x1c11ba57400>"
      ]
     },
     "metadata": {},
     "output_type": "display_data"
    },
    {
     "data": {
      "text/plain": [
       "<matplotlib.figure.Figure at 0x1c11ba71d30>"
      ]
     },
     "metadata": {},
     "output_type": "display_data"
    },
    {
     "data": {
      "text/plain": [
       "<matplotlib.figure.Figure at 0x1c11ba9a438>"
      ]
     },
     "metadata": {},
     "output_type": "display_data"
    },
    {
     "data": {
      "text/plain": [
       "<matplotlib.figure.Figure at 0x1c11ba50978>"
      ]
     },
     "metadata": {},
     "output_type": "display_data"
    },
    {
     "data": {
      "text/plain": [
       "<matplotlib.figure.Figure at 0x1c11b9a97b8>"
      ]
     },
     "metadata": {},
     "output_type": "display_data"
    },
    {
     "data": {
      "text/plain": [
       "<matplotlib.figure.Figure at 0x1c1172d6358>"
      ]
     },
     "metadata": {},
     "output_type": "display_data"
    },
    {
     "data": {
      "text/plain": [
       "<matplotlib.figure.Figure at 0x1c11863a908>"
      ]
     },
     "metadata": {},
     "output_type": "display_data"
    },
    {
     "data": {
      "text/plain": [
       "<matplotlib.figure.Figure at 0x1c11a898358>"
      ]
     },
     "metadata": {},
     "output_type": "display_data"
    },
    {
     "data": {
      "text/plain": [
       "<matplotlib.figure.Figure at 0x1c118760860>"
      ]
     },
     "metadata": {},
     "output_type": "display_data"
    },
    {
     "data": {
      "text/plain": [
       "<matplotlib.figure.Figure at 0x1c1185b2fd0>"
      ]
     },
     "metadata": {},
     "output_type": "display_data"
    },
    {
     "data": {
      "text/plain": [
       "<matplotlib.figure.Figure at 0x1c11ba01550>"
      ]
     },
     "metadata": {},
     "output_type": "display_data"
    },
    {
     "data": {
      "text/plain": [
       "<matplotlib.figure.Figure at 0x1c1173d82b0>"
      ]
     },
     "metadata": {},
     "output_type": "display_data"
    },
    {
     "data": {
      "text/plain": [
       "<matplotlib.figure.Figure at 0x1c11849ac18>"
      ]
     },
     "metadata": {},
     "output_type": "display_data"
    },
    {
     "data": {
      "text/plain": [
       "<matplotlib.figure.Figure at 0x1c11a86a780>"
      ]
     },
     "metadata": {},
     "output_type": "display_data"
    },
    {
     "data": {
      "text/plain": [
       "<matplotlib.figure.Figure at 0x1c11847a128>"
      ]
     },
     "metadata": {},
     "output_type": "display_data"
    },
    {
     "data": {
      "text/plain": [
       "<matplotlib.figure.Figure at 0x1c11743c5f8>"
      ]
     },
     "metadata": {},
     "output_type": "display_data"
    },
    {
     "data": {
      "text/plain": [
       "<matplotlib.figure.Figure at 0x1c11a9030f0>"
      ]
     },
     "metadata": {},
     "output_type": "display_data"
    },
    {
     "data": {
      "text/plain": [
       "<matplotlib.figure.Figure at 0x1c11853bb00>"
      ]
     },
     "metadata": {},
     "output_type": "display_data"
    },
    {
     "data": {
      "text/plain": [
       "<matplotlib.figure.Figure at 0x1c113bb4f60>"
      ]
     },
     "metadata": {},
     "output_type": "display_data"
    },
    {
     "data": {
      "text/plain": [
       "<matplotlib.figure.Figure at 0x1c116c55198>"
      ]
     },
     "metadata": {},
     "output_type": "display_data"
    },
    {
     "data": {
      "text/plain": [
       "<matplotlib.figure.Figure at 0x1c11ba576a0>"
      ]
     },
     "metadata": {},
     "output_type": "display_data"
    },
    {
     "data": {
      "text/plain": [
       "<matplotlib.figure.Figure at 0x1c117306be0>"
      ]
     },
     "metadata": {},
     "output_type": "display_data"
    },
    {
     "data": {
      "text/plain": [
       "<matplotlib.figure.Figure at 0x1c118709a90>"
      ]
     },
     "metadata": {},
     "output_type": "display_data"
    },
    {
     "data": {
      "text/plain": [
       "<matplotlib.figure.Figure at 0x1c118502400>"
      ]
     },
     "metadata": {},
     "output_type": "display_data"
    },
    {
     "data": {
      "text/plain": [
       "<matplotlib.figure.Figure at 0x1c11a8e1c88>"
      ]
     },
     "metadata": {},
     "output_type": "display_data"
    },
    {
     "data": {
      "text/plain": [
       "<matplotlib.figure.Figure at 0x1c11a8e9cf8>"
      ]
     },
     "metadata": {},
     "output_type": "display_data"
    },
    {
     "data": {
      "text/plain": [
       "<matplotlib.figure.Figure at 0x1c11854f940>"
      ]
     },
     "metadata": {},
     "output_type": "display_data"
    },
    {
     "data": {
      "text/plain": [
       "<matplotlib.figure.Figure at 0x1c11a845438>"
      ]
     },
     "metadata": {},
     "output_type": "display_data"
    },
    {
     "data": {
      "text/plain": [
       "<matplotlib.figure.Figure at 0x1c118764780>"
      ]
     },
     "metadata": {},
     "output_type": "display_data"
    },
    {
     "data": {
      "text/plain": [
       "<matplotlib.figure.Figure at 0x1c11744a048>"
      ]
     },
     "metadata": {},
     "output_type": "display_data"
    },
    {
     "data": {
      "text/plain": [
       "<matplotlib.figure.Figure at 0x1c11865fdd8>"
      ]
     },
     "metadata": {},
     "output_type": "display_data"
    },
    {
     "data": {
      "text/plain": [
       "<matplotlib.figure.Figure at 0x1c11b9c1e80>"
      ]
     },
     "metadata": {},
     "output_type": "display_data"
    },
    {
     "data": {
      "text/plain": [
       "<matplotlib.figure.Figure at 0x1c11a8e1978>"
      ]
     },
     "metadata": {},
     "output_type": "display_data"
    },
    {
     "data": {
      "text/plain": [
       "<matplotlib.figure.Figure at 0x1c1186292e8>"
      ]
     },
     "metadata": {},
     "output_type": "display_data"
    },
    {
     "data": {
      "text/plain": [
       "<matplotlib.figure.Figure at 0x1c11879f4e0>"
      ]
     },
     "metadata": {},
     "output_type": "display_data"
    },
    {
     "data": {
      "text/plain": [
       "<matplotlib.figure.Figure at 0x1c11b96a898>"
      ]
     },
     "metadata": {},
     "output_type": "display_data"
    },
    {
     "data": {
      "text/plain": [
       "<matplotlib.figure.Figure at 0x1c117383c18>"
      ]
     },
     "metadata": {},
     "output_type": "display_data"
    },
    {
     "data": {
      "text/plain": [
       "<matplotlib.figure.Figure at 0x1c11857bba8>"
      ]
     },
     "metadata": {},
     "output_type": "display_data"
    },
    {
     "data": {
      "text/plain": [
       "<matplotlib.figure.Figure at 0x1c11dab96a0>"
      ]
     },
     "metadata": {},
     "output_type": "display_data"
    },
    {
     "data": {
      "text/plain": [
       "<matplotlib.figure.Figure at 0x1c11dac39e8>"
      ]
     },
     "metadata": {},
     "output_type": "display_data"
    },
    {
     "data": {
      "text/plain": [
       "<matplotlib.figure.Figure at 0x1c11b9cb080>"
      ]
     },
     "metadata": {},
     "output_type": "display_data"
    },
    {
     "data": {
      "text/plain": [
       "<matplotlib.figure.Figure at 0x1c11daed390>"
      ]
     },
     "metadata": {},
     "output_type": "display_data"
    },
    {
     "data": {
      "text/plain": [
       "<matplotlib.figure.Figure at 0x1c11db32748>"
      ]
     },
     "metadata": {},
     "output_type": "display_data"
    },
    {
     "data": {
      "text/plain": [
       "<matplotlib.figure.Figure at 0x1c119807278>"
      ]
     },
     "metadata": {},
     "output_type": "display_data"
    },
    {
     "data": {
      "text/plain": [
       "<matplotlib.figure.Figure at 0x1c11db41668>"
      ]
     },
     "metadata": {},
     "output_type": "display_data"
    },
    {
     "data": {
      "text/plain": [
       "<matplotlib.figure.Figure at 0x1c1173f5630>"
      ]
     },
     "metadata": {},
     "output_type": "display_data"
    },
    {
     "data": {
      "text/plain": [
       "<matplotlib.figure.Figure at 0x1c1187950b8>"
      ]
     },
     "metadata": {},
     "output_type": "display_data"
    },
    {
     "data": {
      "text/plain": [
       "<matplotlib.figure.Figure at 0x1c11b97fe10>"
      ]
     },
     "metadata": {},
     "output_type": "display_data"
    },
    {
     "data": {
      "text/plain": [
       "<matplotlib.figure.Figure at 0x1c11dbdf710>"
      ]
     },
     "metadata": {},
     "output_type": "display_data"
    },
    {
     "data": {
      "text/plain": [
       "<matplotlib.figure.Figure at 0x1c11db4f470>"
      ]
     },
     "metadata": {},
     "output_type": "display_data"
    },
    {
     "data": {
      "text/plain": [
       "<matplotlib.figure.Figure at 0x1c11dacd7b8>"
      ]
     },
     "metadata": {},
     "output_type": "display_data"
    },
    {
     "data": {
      "text/plain": [
       "<matplotlib.figure.Figure at 0x1c1174558d0>"
      ]
     },
     "metadata": {},
     "output_type": "display_data"
    },
    {
     "data": {
      "text/plain": [
       "<matplotlib.figure.Figure at 0x1c1184d8668>"
      ]
     },
     "metadata": {},
     "output_type": "display_data"
    },
    {
     "data": {
      "text/plain": [
       "<matplotlib.figure.Figure at 0x1c11a946e48>"
      ]
     },
     "metadata": {},
     "output_type": "display_data"
    },
    {
     "data": {
      "text/plain": [
       "<matplotlib.figure.Figure at 0x1c11dacd588>"
      ]
     },
     "metadata": {},
     "output_type": "display_data"
    },
    {
     "data": {
      "text/plain": [
       "<matplotlib.figure.Figure at 0x1c1185ea400>"
      ]
     },
     "metadata": {},
     "output_type": "display_data"
    },
    {
     "data": {
      "text/plain": [
       "<matplotlib.figure.Figure at 0x1c118525e48>"
      ]
     },
     "metadata": {},
     "output_type": "display_data"
    },
    {
     "data": {
      "text/plain": [
       "<matplotlib.figure.Figure at 0x1c11879f7f0>"
      ]
     },
     "metadata": {},
     "output_type": "display_data"
    },
    {
     "data": {
      "text/plain": [
       "<matplotlib.figure.Figure at 0x1c1185ab080>"
      ]
     },
     "metadata": {},
     "output_type": "display_data"
    },
    {
     "data": {
      "text/plain": [
       "<matplotlib.figure.Figure at 0x1c1186668d0>"
      ]
     },
     "metadata": {},
     "output_type": "display_data"
    },
    {
     "data": {
      "text/plain": [
       "<matplotlib.figure.Figure at 0x1c11743cba8>"
      ]
     },
     "metadata": {},
     "output_type": "display_data"
    },
    {
     "data": {
      "text/plain": [
       "<matplotlib.figure.Figure at 0x1c11a8b7198>"
      ]
     },
     "metadata": {},
     "output_type": "display_data"
    },
    {
     "data": {
      "text/plain": [
       "<matplotlib.figure.Figure at 0x1c11dacd400>"
      ]
     },
     "metadata": {},
     "output_type": "display_data"
    },
    {
     "data": {
      "text/plain": [
       "<matplotlib.figure.Figure at 0x1c110c17240>"
      ]
     },
     "metadata": {},
     "output_type": "display_data"
    },
    {
     "data": {
      "text/plain": [
       "<matplotlib.figure.Figure at 0x1c118568d68>"
      ]
     },
     "metadata": {},
     "output_type": "display_data"
    },
    {
     "data": {
      "text/plain": [
       "<matplotlib.figure.Figure at 0x1c113bb2828>"
      ]
     },
     "metadata": {},
     "output_type": "display_data"
    },
    {
     "data": {
      "text/plain": [
       "<matplotlib.figure.Figure at 0x1c11a872ac8>"
      ]
     },
     "metadata": {},
     "output_type": "display_data"
    },
    {
     "data": {
      "text/plain": [
       "<matplotlib.figure.Figure at 0x1c11a857048>"
      ]
     },
     "metadata": {},
     "output_type": "display_data"
    },
    {
     "data": {
      "text/plain": [
       "<matplotlib.figure.Figure at 0x1c1185d6780>"
      ]
     },
     "metadata": {},
     "output_type": "display_data"
    },
    {
     "data": {
      "text/plain": [
       "<matplotlib.figure.Figure at 0x1c1185687f0>"
      ]
     },
     "metadata": {},
     "output_type": "display_data"
    },
    {
     "data": {
      "text/plain": [
       "<matplotlib.figure.Figure at 0x1c11b970c18>"
      ]
     },
     "metadata": {},
     "output_type": "display_data"
    },
    {
     "data": {
      "text/plain": [
       "<matplotlib.figure.Figure at 0x1c11870d0b8>"
      ]
     },
     "metadata": {},
     "output_type": "display_data"
    },
    {
     "data": {
      "text/plain": [
       "<matplotlib.figure.Figure at 0x1c11854f240>"
      ]
     },
     "metadata": {},
     "output_type": "display_data"
    },
    {
     "data": {
      "text/plain": [
       "<matplotlib.figure.Figure at 0x1c1187859b0>"
      ]
     },
     "metadata": {},
     "output_type": "display_data"
    },
    {
     "data": {
      "text/plain": [
       "<matplotlib.figure.Figure at 0x1c11ba3c0f0>"
      ]
     },
     "metadata": {},
     "output_type": "display_data"
    },
    {
     "data": {
      "text/plain": [
       "<matplotlib.figure.Figure at 0x1c1185ddc18>"
      ]
     },
     "metadata": {},
     "output_type": "display_data"
    },
    {
     "data": {
      "text/plain": [
       "<matplotlib.figure.Figure at 0x1c11ba3cac8>"
      ]
     },
     "metadata": {},
     "output_type": "display_data"
    },
    {
     "data": {
      "text/plain": [
       "<matplotlib.figure.Figure at 0x1c11b9706d8>"
      ]
     },
     "metadata": {},
     "output_type": "display_data"
    },
    {
     "data": {
      "text/plain": [
       "<matplotlib.figure.Figure at 0x1c11878b0b8>"
      ]
     },
     "metadata": {},
     "output_type": "display_data"
    },
    {
     "data": {
      "text/plain": [
       "<matplotlib.figure.Figure at 0x1c118709cc0>"
      ]
     },
     "metadata": {},
     "output_type": "display_data"
    },
    {
     "data": {
      "text/plain": [
       "<matplotlib.figure.Figure at 0x1c11dbcdb00>"
      ]
     },
     "metadata": {},
     "output_type": "display_data"
    },
    {
     "data": {
      "text/plain": [
       "<matplotlib.figure.Figure at 0x1c118568550>"
      ]
     },
     "metadata": {},
     "output_type": "display_data"
    },
    {
     "data": {
      "text/plain": [
       "<matplotlib.figure.Figure at 0x1c11b97f6a0>"
      ]
     },
     "metadata": {},
     "output_type": "display_data"
    },
    {
     "data": {
      "text/plain": [
       "<matplotlib.figure.Figure at 0x1c1197bd3c8>"
      ]
     },
     "metadata": {},
     "output_type": "display_data"
    },
    {
     "data": {
      "text/plain": [
       "<matplotlib.figure.Figure at 0x1c11865f668>"
      ]
     },
     "metadata": {},
     "output_type": "display_data"
    },
    {
     "data": {
      "text/plain": [
       "<matplotlib.figure.Figure at 0x1c11db88cf8>"
      ]
     },
     "metadata": {},
     "output_type": "display_data"
    },
    {
     "data": {
      "text/plain": [
       "<matplotlib.figure.Figure at 0x1c1197e7d30>"
      ]
     },
     "metadata": {},
     "output_type": "display_data"
    },
    {
     "data": {
      "text/plain": [
       "<matplotlib.figure.Figure at 0x1c11b97fe80>"
      ]
     },
     "metadata": {},
     "output_type": "display_data"
    },
    {
     "data": {
      "text/plain": [
       "<matplotlib.figure.Figure at 0x1c1172f2c88>"
      ]
     },
     "metadata": {},
     "output_type": "display_data"
    },
    {
     "data": {
      "text/plain": [
       "<matplotlib.figure.Figure at 0x1c118611438>"
      ]
     },
     "metadata": {},
     "output_type": "display_data"
    },
    {
     "data": {
      "text/plain": [
       "<matplotlib.figure.Figure at 0x1c11ec6e518>"
      ]
     },
     "metadata": {},
     "output_type": "display_data"
    },
    {
     "data": {
      "text/plain": [
       "<matplotlib.figure.Figure at 0x1c11ecfceb8>"
      ]
     },
     "metadata": {},
     "output_type": "display_data"
    },
    {
     "data": {
      "text/plain": [
       "<matplotlib.figure.Figure at 0x1c11ecf1e48>"
      ]
     },
     "metadata": {},
     "output_type": "display_data"
    },
    {
     "data": {
      "text/plain": [
       "<matplotlib.figure.Figure at 0x1c11db0a390>"
      ]
     },
     "metadata": {},
     "output_type": "display_data"
    },
    {
     "data": {
      "text/plain": [
       "<matplotlib.figure.Figure at 0x1c11bab24e0>"
      ]
     },
     "metadata": {},
     "output_type": "display_data"
    },
    {
     "data": {
      "text/plain": [
       "<matplotlib.figure.Figure at 0x1c11ed6e9e8>"
      ]
     },
     "metadata": {},
     "output_type": "display_data"
    },
    {
     "data": {
      "text/plain": [
       "<matplotlib.figure.Figure at 0x1c11fd886a0>"
      ]
     },
     "metadata": {},
     "output_type": "display_data"
    },
    {
     "data": {
      "text/plain": [
       "<matplotlib.figure.Figure at 0x1c11ed8c6d8>"
      ]
     },
     "metadata": {},
     "output_type": "display_data"
    },
    {
     "data": {
      "text/plain": [
       "<matplotlib.figure.Figure at 0x1c11ec95be0>"
      ]
     },
     "metadata": {},
     "output_type": "display_data"
    },
    {
     "data": {
      "text/plain": [
       "<matplotlib.figure.Figure at 0x1c11db88908>"
      ]
     },
     "metadata": {},
     "output_type": "display_data"
    },
    {
     "data": {
      "text/plain": [
       "<matplotlib.figure.Figure at 0x1c11db742e8>"
      ]
     },
     "metadata": {},
     "output_type": "display_data"
    },
    {
     "data": {
      "text/plain": [
       "<matplotlib.figure.Figure at 0x1c110c33e48>"
      ]
     },
     "metadata": {},
     "output_type": "display_data"
    },
    {
     "data": {
      "text/plain": [
       "<matplotlib.figure.Figure at 0x1c11dbcd128>"
      ]
     },
     "metadata": {},
     "output_type": "display_data"
    },
    {
     "data": {
      "text/plain": [
       "<matplotlib.figure.Figure at 0x1c11eccfc88>"
      ]
     },
     "metadata": {},
     "output_type": "display_data"
    },
    {
     "data": {
      "text/plain": [
       "<matplotlib.figure.Figure at 0x1c11846b160>"
      ]
     },
     "metadata": {},
     "output_type": "display_data"
    },
    {
     "data": {
      "text/plain": [
       "<matplotlib.figure.Figure at 0x1c11a8652e8>"
      ]
     },
     "metadata": {},
     "output_type": "display_data"
    },
    {
     "data": {
      "text/plain": [
       "<matplotlib.figure.Figure at 0x1c11724d6a0>"
      ]
     },
     "metadata": {},
     "output_type": "display_data"
    },
    {
     "data": {
      "text/plain": [
       "<matplotlib.figure.Figure at 0x1c1184c8860>"
      ]
     },
     "metadata": {},
     "output_type": "display_data"
    },
    {
     "data": {
      "text/plain": [
       "<matplotlib.figure.Figure at 0x1c117301f60>"
      ]
     },
     "metadata": {},
     "output_type": "display_data"
    },
    {
     "data": {
      "text/plain": [
       "<matplotlib.figure.Figure at 0x1c11b9f6160>"
      ]
     },
     "metadata": {},
     "output_type": "display_data"
    },
    {
     "data": {
      "text/plain": [
       "<matplotlib.figure.Figure at 0x1c11ba71400>"
      ]
     },
     "metadata": {},
     "output_type": "display_data"
    },
    {
     "data": {
      "text/plain": [
       "<matplotlib.figure.Figure at 0x1c1185b9e48>"
      ]
     },
     "metadata": {},
     "output_type": "display_data"
    },
    {
     "data": {
      "text/plain": [
       "<matplotlib.figure.Figure at 0x1c1197c38d0>"
      ]
     },
     "metadata": {},
     "output_type": "display_data"
    },
    {
     "data": {
      "text/plain": [
       "<matplotlib.figure.Figure at 0x1c11daed828>"
      ]
     },
     "metadata": {},
     "output_type": "display_data"
    },
    {
     "data": {
      "text/plain": [
       "<matplotlib.figure.Figure at 0x1c11ec95208>"
      ]
     },
     "metadata": {},
     "output_type": "display_data"
    },
    {
     "data": {
      "text/plain": [
       "<matplotlib.figure.Figure at 0x1c11863ab00>"
      ]
     },
     "metadata": {},
     "output_type": "display_data"
    },
    {
     "data": {
      "text/plain": [
       "<matplotlib.figure.Figure at 0x1c11a8d7780>"
      ]
     },
     "metadata": {},
     "output_type": "display_data"
    },
    {
     "data": {
      "text/plain": [
       "<matplotlib.figure.Figure at 0x1c11850aa58>"
      ]
     },
     "metadata": {},
     "output_type": "display_data"
    },
    {
     "data": {
      "text/plain": [
       "<matplotlib.figure.Figure at 0x1c1197df1d0>"
      ]
     },
     "metadata": {},
     "output_type": "display_data"
    },
    {
     "data": {
      "text/plain": [
       "<matplotlib.figure.Figure at 0x1c11db18c88>"
      ]
     },
     "metadata": {},
     "output_type": "display_data"
    },
    {
     "data": {
      "text/plain": [
       "<matplotlib.figure.Figure at 0x1c11879f240>"
      ]
     },
     "metadata": {},
     "output_type": "display_data"
    },
    {
     "data": {
      "text/plain": [
       "<matplotlib.figure.Figure at 0x1c113bb2dd8>"
      ]
     },
     "metadata": {},
     "output_type": "display_data"
    },
    {
     "data": {
      "text/plain": [
       "<matplotlib.figure.Figure at 0x1c1186c37b8>"
      ]
     },
     "metadata": {},
     "output_type": "display_data"
    },
    {
     "data": {
      "text/plain": [
       "<matplotlib.figure.Figure at 0x1c1184ba080>"
      ]
     },
     "metadata": {},
     "output_type": "display_data"
    },
    {
     "data": {
      "text/plain": [
       "<matplotlib.figure.Figure at 0x1c11dbea9b0>"
      ]
     },
     "metadata": {},
     "output_type": "display_data"
    },
    {
     "data": {
      "text/plain": [
       "<matplotlib.figure.Figure at 0x1c11a8a1940>"
      ]
     },
     "metadata": {},
     "output_type": "display_data"
    },
    {
     "data": {
      "text/plain": [
       "<matplotlib.figure.Figure at 0x1c11db94860>"
      ]
     },
     "metadata": {},
     "output_type": "display_data"
    },
    {
     "data": {
      "text/plain": [
       "<matplotlib.figure.Figure at 0x1c11852fba8>"
      ]
     },
     "metadata": {},
     "output_type": "display_data"
    },
    {
     "data": {
      "text/plain": [
       "<matplotlib.figure.Figure at 0x1c11db6e438>"
      ]
     },
     "metadata": {},
     "output_type": "display_data"
    },
    {
     "data": {
      "text/plain": [
       "<matplotlib.figure.Figure at 0x1c118689eb8>"
      ]
     },
     "metadata": {},
     "output_type": "display_data"
    },
    {
     "data": {
      "text/plain": [
       "<matplotlib.figure.Figure at 0x1c11a7f50b8>"
      ]
     },
     "metadata": {},
     "output_type": "display_data"
    },
    {
     "data": {
      "text/plain": [
       "<matplotlib.figure.Figure at 0x1c1184df550>"
      ]
     },
     "metadata": {},
     "output_type": "display_data"
    },
    {
     "data": {
      "text/plain": [
       "<matplotlib.figure.Figure at 0x1c11ba9abe0>"
      ]
     },
     "metadata": {},
     "output_type": "display_data"
    },
    {
     "data": {
      "text/plain": [
       "<matplotlib.figure.Figure at 0x1c11b9df2b0>"
      ]
     },
     "metadata": {},
     "output_type": "display_data"
    },
    {
     "data": {
      "text/plain": [
       "<matplotlib.figure.Figure at 0x1c11853ba20>"
      ]
     },
     "metadata": {},
     "output_type": "display_data"
    },
    {
     "data": {
      "text/plain": [
       "<matplotlib.figure.Figure at 0x1c120dc81d0>"
      ]
     },
     "metadata": {},
     "output_type": "display_data"
    },
    {
     "data": {
      "text/plain": [
       "<matplotlib.figure.Figure at 0x1c120dc2550>"
      ]
     },
     "metadata": {},
     "output_type": "display_data"
    },
    {
     "data": {
      "text/plain": [
       "<matplotlib.figure.Figure at 0x1c11b9df0f0>"
      ]
     },
     "metadata": {},
     "output_type": "display_data"
    },
    {
     "data": {
      "text/plain": [
       "<matplotlib.figure.Figure at 0x1c120df5358>"
      ]
     },
     "metadata": {},
     "output_type": "display_data"
    },
    {
     "data": {
      "text/plain": [
       "<matplotlib.figure.Figure at 0x1c120ddda58>"
      ]
     },
     "metadata": {},
     "output_type": "display_data"
    },
    {
     "data": {
      "text/plain": [
       "<matplotlib.figure.Figure at 0x1c120e46a90>"
      ]
     },
     "metadata": {},
     "output_type": "display_data"
    },
    {
     "data": {
      "text/plain": [
       "<matplotlib.figure.Figure at 0x1c120e22748>"
      ]
     },
     "metadata": {},
     "output_type": "display_data"
    },
    {
     "data": {
      "text/plain": [
       "<matplotlib.figure.Figure at 0x1c11db5b9e8>"
      ]
     },
     "metadata": {},
     "output_type": "display_data"
    },
    {
     "data": {
      "text/plain": [
       "<matplotlib.figure.Figure at 0x1c120e78860>"
      ]
     },
     "metadata": {},
     "output_type": "display_data"
    },
    {
     "data": {
      "text/plain": [
       "<matplotlib.figure.Figure at 0x1c120ed4198>"
      ]
     },
     "metadata": {},
     "output_type": "display_data"
    },
    {
     "data": {
      "text/plain": [
       "<matplotlib.figure.Figure at 0x1c120ec2f60>"
      ]
     },
     "metadata": {},
     "output_type": "display_data"
    },
    {
     "data": {
      "text/plain": [
       "<matplotlib.figure.Figure at 0x1c120ea2b00>"
      ]
     },
     "metadata": {},
     "output_type": "display_data"
    },
    {
     "data": {
      "text/plain": [
       "<matplotlib.figure.Figure at 0x1c120edf470>"
      ]
     },
     "metadata": {},
     "output_type": "display_data"
    },
    {
     "data": {
      "text/plain": [
       "<matplotlib.figure.Figure at 0x1c120f41fd0>"
      ]
     },
     "metadata": {},
     "output_type": "display_data"
    },
    {
     "data": {
      "text/plain": [
       "<matplotlib.figure.Figure at 0x1c11db94fd0>"
      ]
     },
     "metadata": {},
     "output_type": "display_data"
    },
    {
     "data": {
      "text/plain": [
       "<matplotlib.figure.Figure at 0x1c11daeb240>"
      ]
     },
     "metadata": {},
     "output_type": "display_data"
    },
    {
     "data": {
      "text/plain": [
       "<matplotlib.figure.Figure at 0x1c118483f98>"
      ]
     },
     "metadata": {},
     "output_type": "display_data"
    },
    {
     "data": {
      "text/plain": [
       "<matplotlib.figure.Figure at 0x1c11744ab38>"
      ]
     },
     "metadata": {},
     "output_type": "display_data"
    },
    {
     "data": {
      "text/plain": [
       "<matplotlib.figure.Figure at 0x1c11daaeeb8>"
      ]
     },
     "metadata": {},
     "output_type": "display_data"
    },
    {
     "data": {
      "text/plain": [
       "<matplotlib.figure.Figure at 0x1c11848e9b0>"
      ]
     },
     "metadata": {},
     "output_type": "display_data"
    },
    {
     "data": {
      "text/plain": [
       "<matplotlib.figure.Figure at 0x1c118764400>"
      ]
     },
     "metadata": {},
     "output_type": "display_data"
    },
    {
     "data": {
      "text/plain": [
       "<matplotlib.figure.Figure at 0x1c11ec50e80>"
      ]
     },
     "metadata": {},
     "output_type": "display_data"
    },
    {
     "data": {
      "text/plain": [
       "<matplotlib.figure.Figure at 0x1c11dab9c50>"
      ]
     },
     "metadata": {},
     "output_type": "display_data"
    },
    {
     "data": {
      "text/plain": [
       "<matplotlib.figure.Figure at 0x1c113bb0cf8>"
      ]
     },
     "metadata": {},
     "output_type": "display_data"
    },
    {
     "data": {
      "text/plain": [
       "<matplotlib.figure.Figure at 0x1c11ba570b8>"
      ]
     },
     "metadata": {},
     "output_type": "display_data"
    },
    {
     "data": {
      "text/plain": [
       "<matplotlib.figure.Figure at 0x1c11ba2d470>"
      ]
     },
     "metadata": {},
     "output_type": "display_data"
    },
    {
     "data": {
      "text/plain": [
       "<matplotlib.figure.Figure at 0x1c11a865f98>"
      ]
     },
     "metadata": {},
     "output_type": "display_data"
    },
    {
     "data": {
      "text/plain": [
       "<matplotlib.figure.Figure at 0x1c11db2b0f0>"
      ]
     },
     "metadata": {},
     "output_type": "display_data"
    },
    {
     "data": {
      "text/plain": [
       "<matplotlib.figure.Figure at 0x1c119807828>"
      ]
     },
     "metadata": {},
     "output_type": "display_data"
    },
    {
     "data": {
      "text/plain": [
       "<matplotlib.figure.Figure at 0x1c11dbcd6d8>"
      ]
     },
     "metadata": {},
     "output_type": "display_data"
    },
    {
     "data": {
      "text/plain": [
       "<matplotlib.figure.Figure at 0x1c11ed5cbe0>"
      ]
     },
     "metadata": {},
     "output_type": "display_data"
    },
    {
     "data": {
      "text/plain": [
       "<matplotlib.figure.Figure at 0x1c11a8c3eb8>"
      ]
     },
     "metadata": {},
     "output_type": "display_data"
    },
    {
     "data": {
      "text/plain": [
       "<matplotlib.figure.Figure at 0x1c11846bef0>"
      ]
     },
     "metadata": {},
     "output_type": "display_data"
    },
    {
     "data": {
      "text/plain": [
       "<matplotlib.figure.Figure at 0x1c11daedef0>"
      ]
     },
     "metadata": {},
     "output_type": "display_data"
    },
    {
     "data": {
      "text/plain": [
       "<matplotlib.figure.Figure at 0x1c11eccf0f0>"
      ]
     },
     "metadata": {},
     "output_type": "display_data"
    },
    {
     "data": {
      "text/plain": [
       "<matplotlib.figure.Figure at 0x1c11ba71a58>"
      ]
     },
     "metadata": {},
     "output_type": "display_data"
    },
    {
     "data": {
      "text/plain": [
       "<matplotlib.figure.Figure at 0x1c120deb978>"
      ]
     },
     "metadata": {},
     "output_type": "display_data"
    },
    {
     "data": {
      "text/plain": [
       "<matplotlib.figure.Figure at 0x1c11ecb07b8>"
      ]
     },
     "metadata": {},
     "output_type": "display_data"
    },
    {
     "data": {
      "text/plain": [
       "<matplotlib.figure.Figure at 0x1c1172d6940>"
      ]
     },
     "metadata": {},
     "output_type": "display_data"
    },
    {
     "data": {
      "text/plain": [
       "<matplotlib.figure.Figure at 0x1c11daf3748>"
      ]
     },
     "metadata": {},
     "output_type": "display_data"
    },
    {
     "data": {
      "text/plain": [
       "<matplotlib.figure.Figure at 0x1c11ba48940>"
      ]
     },
     "metadata": {},
     "output_type": "display_data"
    },
    {
     "data": {
      "text/plain": [
       "<matplotlib.figure.Figure at 0x1c117372470>"
      ]
     },
     "metadata": {},
     "output_type": "display_data"
    },
    {
     "data": {
      "text/plain": [
       "<matplotlib.figure.Figure at 0x1c118689ac8>"
      ]
     },
     "metadata": {},
     "output_type": "display_data"
    },
    {
     "data": {
      "text/plain": [
       "<matplotlib.figure.Figure at 0x1c117348ef0>"
      ]
     },
     "metadata": {},
     "output_type": "display_data"
    },
    {
     "data": {
      "text/plain": [
       "<matplotlib.figure.Figure at 0x1c11ece63c8>"
      ]
     },
     "metadata": {},
     "output_type": "display_data"
    },
    {
     "data": {
      "text/plain": [
       "<matplotlib.figure.Figure at 0x1c11b9a9f98>"
      ]
     },
     "metadata": {},
     "output_type": "display_data"
    },
    {
     "data": {
      "text/plain": [
       "<matplotlib.figure.Figure at 0x1c11b9c6710>"
      ]
     },
     "metadata": {},
     "output_type": "display_data"
    },
    {
     "data": {
      "text/plain": [
       "<matplotlib.figure.Figure at 0x1c11db74be0>"
      ]
     },
     "metadata": {},
     "output_type": "display_data"
    },
    {
     "data": {
      "text/plain": [
       "<matplotlib.figure.Figure at 0x1c120dd8320>"
      ]
     },
     "metadata": {},
     "output_type": "display_data"
    },
    {
     "data": {
      "text/plain": [
       "<matplotlib.figure.Figure at 0x1c11db88208>"
      ]
     },
     "metadata": {},
     "output_type": "display_data"
    },
    {
     "data": {
      "text/plain": [
       "<matplotlib.figure.Figure at 0x1c11ba113c8>"
      ]
     },
     "metadata": {},
     "output_type": "display_data"
    },
    {
     "data": {
      "text/plain": [
       "<matplotlib.figure.Figure at 0x1c11ec8ab00>"
      ]
     },
     "metadata": {},
     "output_type": "display_data"
    },
    {
     "data": {
      "text/plain": [
       "<matplotlib.figure.Figure at 0x1c11fd88dd8>"
      ]
     },
     "metadata": {},
     "output_type": "display_data"
    },
    {
     "data": {
      "text/plain": [
       "<matplotlib.figure.Figure at 0x1c120eed390>"
      ]
     },
     "metadata": {},
     "output_type": "display_data"
    },
    {
     "data": {
      "text/plain": [
       "<matplotlib.figure.Figure at 0x1c120e40320>"
      ]
     },
     "metadata": {},
     "output_type": "display_data"
    },
    {
     "data": {
      "text/plain": [
       "<matplotlib.figure.Figure at 0x1c1184fc5f8>"
      ]
     },
     "metadata": {},
     "output_type": "display_data"
    },
    {
     "data": {
      "text/plain": [
       "<matplotlib.figure.Figure at 0x1c11ed311d0>"
      ]
     },
     "metadata": {},
     "output_type": "display_data"
    },
    {
     "data": {
      "text/plain": [
       "<matplotlib.figure.Figure at 0x1c120e40ac8>"
      ]
     },
     "metadata": {},
     "output_type": "display_data"
    },
    {
     "data": {
      "text/plain": [
       "<matplotlib.figure.Figure at 0x1c11a91b6d8>"
      ]
     },
     "metadata": {},
     "output_type": "display_data"
    },
    {
     "data": {
      "text/plain": [
       "<matplotlib.figure.Figure at 0x1c11b96acf8>"
      ]
     },
     "metadata": {},
     "output_type": "display_data"
    },
    {
     "data": {
      "text/plain": [
       "<matplotlib.figure.Figure at 0x1c120e7f080>"
      ]
     },
     "metadata": {},
     "output_type": "display_data"
    },
    {
     "data": {
      "text/plain": [
       "<matplotlib.figure.Figure at 0x1c123014080>"
      ]
     },
     "metadata": {},
     "output_type": "display_data"
    },
    {
     "data": {
      "text/plain": [
       "<matplotlib.figure.Figure at 0x1c1230732b0>"
      ]
     },
     "metadata": {},
     "output_type": "display_data"
    },
    {
     "data": {
      "text/plain": [
       "<matplotlib.figure.Figure at 0x1c123061c18>"
      ]
     },
     "metadata": {},
     "output_type": "display_data"
    },
    {
     "data": {
      "text/plain": [
       "<matplotlib.figure.Figure at 0x1c1230404e0>"
      ]
     },
     "metadata": {},
     "output_type": "display_data"
    },
    {
     "data": {
      "text/plain": [
       "<matplotlib.figure.Figure at 0x1c120eb4c18>"
      ]
     },
     "metadata": {},
     "output_type": "display_data"
    },
    {
     "data": {
      "text/plain": [
       "<matplotlib.figure.Figure at 0x1c1230a06d8>"
      ]
     },
     "metadata": {},
     "output_type": "display_data"
    },
    {
     "data": {
      "text/plain": [
       "<matplotlib.figure.Figure at 0x1c123126c18>"
      ]
     },
     "metadata": {},
     "output_type": "display_data"
    },
    {
     "data": {
      "text/plain": [
       "<matplotlib.figure.Figure at 0x1c12311f748>"
      ]
     },
     "metadata": {},
     "output_type": "display_data"
    },
    {
     "data": {
      "text/plain": [
       "<matplotlib.figure.Figure at 0x1c11b9a9d30>"
      ]
     },
     "metadata": {},
     "output_type": "display_data"
    },
    {
     "data": {
      "text/plain": [
       "<matplotlib.figure.Figure at 0x1c120ebb208>"
      ]
     },
     "metadata": {},
     "output_type": "display_data"
    },
    {
     "data": {
      "text/plain": [
       "<matplotlib.figure.Figure at 0x1c120eb0588>"
      ]
     },
     "metadata": {},
     "output_type": "display_data"
    },
    {
     "data": {
      "text/plain": [
       "<matplotlib.figure.Figure at 0x1c118452908>"
      ]
     },
     "metadata": {},
     "output_type": "display_data"
    },
    {
     "data": {
      "text/plain": [
       "<matplotlib.figure.Figure at 0x1c11dbe42b0>"
      ]
     },
     "metadata": {},
     "output_type": "display_data"
    },
    {
     "data": {
      "text/plain": [
       "<matplotlib.figure.Figure at 0x1c1230f2c18>"
      ]
     },
     "metadata": {},
     "output_type": "display_data"
    },
    {
     "data": {
      "text/plain": [
       "<matplotlib.figure.Figure at 0x1c120dbae80>"
      ]
     },
     "metadata": {},
     "output_type": "display_data"
    },
    {
     "data": {
      "text/plain": [
       "<matplotlib.figure.Figure at 0x1c120e7fb38>"
      ]
     },
     "metadata": {},
     "output_type": "display_data"
    },
    {
     "data": {
      "text/plain": [
       "<matplotlib.figure.Figure at 0x1c11ec9e7f0>"
      ]
     },
     "metadata": {},
     "output_type": "display_data"
    },
    {
     "data": {
      "text/plain": [
       "<matplotlib.figure.Figure at 0x1c11ecb8080>"
      ]
     },
     "metadata": {},
     "output_type": "display_data"
    },
    {
     "data": {
      "text/plain": [
       "<matplotlib.figure.Figure at 0x1c11ec66358>"
      ]
     },
     "metadata": {},
     "output_type": "display_data"
    },
    {
     "data": {
      "text/plain": [
       "<matplotlib.figure.Figure at 0x1c117335d68>"
      ]
     },
     "metadata": {},
     "output_type": "display_data"
    },
    {
     "data": {
      "text/plain": [
       "<matplotlib.figure.Figure at 0x1c11ecb8a90>"
      ]
     },
     "metadata": {},
     "output_type": "display_data"
    },
    {
     "data": {
      "text/plain": [
       "<matplotlib.figure.Figure at 0x1c119807400>"
      ]
     },
     "metadata": {},
     "output_type": "display_data"
    },
    {
     "data": {
      "text/plain": [
       "<matplotlib.figure.Figure at 0x1c1184fc668>"
      ]
     },
     "metadata": {},
     "output_type": "display_data"
    },
    {
     "data": {
      "text/plain": [
       "<matplotlib.figure.Figure at 0x1c1184c8828>"
      ]
     },
     "metadata": {},
     "output_type": "display_data"
    },
    {
     "data": {
      "text/plain": [
       "<matplotlib.figure.Figure at 0x1c122f5c320>"
      ]
     },
     "metadata": {},
     "output_type": "display_data"
    },
    {
     "data": {
      "text/plain": [
       "<matplotlib.figure.Figure at 0x1c123053358>"
      ]
     },
     "metadata": {},
     "output_type": "display_data"
    },
    {
     "data": {
      "text/plain": [
       "<matplotlib.figure.Figure at 0x1c1187090f0>"
      ]
     },
     "metadata": {},
     "output_type": "display_data"
    },
    {
     "data": {
      "text/plain": [
       "<matplotlib.figure.Figure at 0x1c11ed05278>"
      ]
     },
     "metadata": {},
     "output_type": "display_data"
    },
    {
     "data": {
      "text/plain": [
       "<matplotlib.figure.Figure at 0x1c11ba33cf8>"
      ]
     },
     "metadata": {},
     "output_type": "display_data"
    },
    {
     "data": {
      "text/plain": [
       "<matplotlib.figure.Figure at 0x1c117324a90>"
      ]
     },
     "metadata": {},
     "output_type": "display_data"
    },
    {
     "data": {
      "text/plain": [
       "<matplotlib.figure.Figure at 0x1c11731ce10>"
      ]
     },
     "metadata": {},
     "output_type": "display_data"
    },
    {
     "data": {
      "text/plain": [
       "<matplotlib.figure.Figure at 0x1c118557588>"
      ]
     },
     "metadata": {},
     "output_type": "display_data"
    },
    {
     "data": {
      "text/plain": [
       "<matplotlib.figure.Figure at 0x1c11a94d940>"
      ]
     },
     "metadata": {},
     "output_type": "display_data"
    },
    {
     "data": {
      "text/plain": [
       "<matplotlib.figure.Figure at 0x1c1173f5898>"
      ]
     },
     "metadata": {},
     "output_type": "display_data"
    },
    {
     "data": {
      "text/plain": [
       "<matplotlib.figure.Figure at 0x1c117368630>"
      ]
     },
     "metadata": {},
     "output_type": "display_data"
    },
    {
     "data": {
      "text/plain": [
       "<matplotlib.figure.Figure at 0x1c11dafda90>"
      ]
     },
     "metadata": {},
     "output_type": "display_data"
    },
    {
     "data": {
      "text/plain": [
       "<matplotlib.figure.Figure at 0x1c11a837d30>"
      ]
     },
     "metadata": {},
     "output_type": "display_data"
    },
    {
     "data": {
      "text/plain": [
       "<matplotlib.figure.Figure at 0x1c11a8b7a58>"
      ]
     },
     "metadata": {},
     "output_type": "display_data"
    },
    {
     "data": {
      "text/plain": [
       "<matplotlib.figure.Figure at 0x1c11743cbe0>"
      ]
     },
     "metadata": {},
     "output_type": "display_data"
    },
    {
     "data": {
      "text/plain": [
       "<matplotlib.figure.Figure at 0x1c11dacdb70>"
      ]
     },
     "metadata": {},
     "output_type": "display_data"
    },
    {
     "data": {
      "text/plain": [
       "<matplotlib.figure.Figure at 0x1c1230256d8>"
      ]
     },
     "metadata": {},
     "output_type": "display_data"
    },
    {
     "data": {
      "text/plain": [
       "<matplotlib.figure.Figure at 0x1c11fd84c88>"
      ]
     },
     "metadata": {},
     "output_type": "display_data"
    },
    {
     "data": {
      "text/plain": [
       "<matplotlib.figure.Figure at 0x1c11dbb9898>"
      ]
     },
     "metadata": {},
     "output_type": "display_data"
    },
    {
     "data": {
      "text/plain": [
       "<matplotlib.figure.Figure at 0x1c11b9c1c18>"
      ]
     },
     "metadata": {},
     "output_type": "display_data"
    },
    {
     "data": {
      "text/plain": [
       "<matplotlib.figure.Figure at 0x1c11a8e1550>"
      ]
     },
     "metadata": {},
     "output_type": "display_data"
    },
    {
     "data": {
      "text/plain": [
       "<matplotlib.figure.Figure at 0x1c11eccf5f8>"
      ]
     },
     "metadata": {},
     "output_type": "display_data"
    },
    {
     "data": {
      "text/plain": [
       "<matplotlib.figure.Figure at 0x1c122f9ff98>"
      ]
     },
     "metadata": {},
     "output_type": "display_data"
    },
    {
     "data": {
      "text/plain": [
       "<matplotlib.figure.Figure at 0x1c11845fba8>"
      ]
     },
     "metadata": {},
     "output_type": "display_data"
    },
    {
     "data": {
      "text/plain": [
       "<matplotlib.figure.Figure at 0x1c120e1ca90>"
      ]
     },
     "metadata": {},
     "output_type": "display_data"
    },
    {
     "data": {
      "text/plain": [
       "<matplotlib.figure.Figure at 0x1c122f9f470>"
      ]
     },
     "metadata": {},
     "output_type": "display_data"
    },
    {
     "data": {
      "text/plain": [
       "<matplotlib.figure.Figure at 0x1c1230b8e48>"
      ]
     },
     "metadata": {},
     "output_type": "display_data"
    },
    {
     "data": {
      "text/plain": [
       "<matplotlib.figure.Figure at 0x1c1230acfd0>"
      ]
     },
     "metadata": {},
     "output_type": "display_data"
    },
    {
     "data": {
      "text/plain": [
       "<matplotlib.figure.Figure at 0x1c1173b45c0>"
      ]
     },
     "metadata": {},
     "output_type": "display_data"
    },
    {
     "data": {
      "text/plain": [
       "<matplotlib.figure.Figure at 0x1c120e4d0f0>"
      ]
     },
     "metadata": {},
     "output_type": "display_data"
    },
    {
     "data": {
      "text/plain": [
       "<matplotlib.figure.Figure at 0x1c1251adac8>"
      ]
     },
     "metadata": {},
     "output_type": "display_data"
    },
    {
     "data": {
      "text/plain": [
       "<matplotlib.figure.Figure at 0x1c125187e80>"
      ]
     },
     "metadata": {},
     "output_type": "display_data"
    },
    {
     "data": {
      "text/plain": [
       "<matplotlib.figure.Figure at 0x1c11dbf31d0>"
      ]
     },
     "metadata": {},
     "output_type": "display_data"
    },
    {
     "data": {
      "text/plain": [
       "<matplotlib.figure.Figure at 0x1c1251df6a0>"
      ]
     },
     "metadata": {},
     "output_type": "display_data"
    },
    {
     "data": {
      "text/plain": [
       "<matplotlib.figure.Figure at 0x1c1252044a8>"
      ]
     },
     "metadata": {},
     "output_type": "display_data"
    },
    {
     "data": {
      "text/plain": [
       "<matplotlib.figure.Figure at 0x1c1252246d8>"
      ]
     },
     "metadata": {},
     "output_type": "display_data"
    },
    {
     "data": {
      "text/plain": [
       "<matplotlib.figure.Figure at 0x1c1251eaa58>"
      ]
     },
     "metadata": {},
     "output_type": "display_data"
    },
    {
     "data": {
      "text/plain": [
       "<matplotlib.figure.Figure at 0x1c125230e48>"
      ]
     },
     "metadata": {},
     "output_type": "display_data"
    },
    {
     "data": {
      "text/plain": [
       "<matplotlib.figure.Figure at 0x1c1252a8518>"
      ]
     },
     "metadata": {},
     "output_type": "display_data"
    },
    {
     "data": {
      "text/plain": [
       "<matplotlib.figure.Figure at 0x1c12416eb38>"
      ]
     },
     "metadata": {},
     "output_type": "display_data"
    },
    {
     "data": {
      "text/plain": [
       "<matplotlib.figure.Figure at 0x1c1252c2240>"
      ]
     },
     "metadata": {},
     "output_type": "display_data"
    },
    {
     "data": {
      "text/plain": [
       "<matplotlib.figure.Figure at 0x1c1251eaf28>"
      ]
     },
     "metadata": {},
     "output_type": "display_data"
    },
    {
     "data": {
      "text/plain": [
       "<matplotlib.figure.Figure at 0x1c1173ba8d0>"
      ]
     },
     "metadata": {},
     "output_type": "display_data"
    },
    {
     "data": {
      "text/plain": [
       "<matplotlib.figure.Figure at 0x1c11ec74ba8>"
      ]
     },
     "metadata": {},
     "output_type": "display_data"
    },
    {
     "data": {
      "text/plain": [
       "<matplotlib.figure.Figure at 0x1c11a8a1588>"
      ]
     },
     "metadata": {},
     "output_type": "display_data"
    },
    {
     "data": {
      "text/plain": [
       "<matplotlib.figure.Figure at 0x1c1251eac88>"
      ]
     },
     "metadata": {},
     "output_type": "display_data"
    },
    {
     "data": {
      "text/plain": [
       "<matplotlib.figure.Figure at 0x1c122f973c8>"
      ]
     },
     "metadata": {},
     "output_type": "display_data"
    },
    {
     "data": {
      "text/plain": [
       "<matplotlib.figure.Figure at 0x1c120edfe10>"
      ]
     },
     "metadata": {},
     "output_type": "display_data"
    },
    {
     "data": {
      "text/plain": [
       "<matplotlib.figure.Figure at 0x1c120f2bf98>"
      ]
     },
     "metadata": {},
     "output_type": "display_data"
    },
    {
     "data": {
      "text/plain": [
       "<matplotlib.figure.Figure at 0x1c11ba79e48>"
      ]
     },
     "metadata": {},
     "output_type": "display_data"
    },
    {
     "data": {
      "text/plain": [
       "<matplotlib.figure.Figure at 0x1c118666668>"
      ]
     },
     "metadata": {},
     "output_type": "display_data"
    },
    {
     "data": {
      "text/plain": [
       "<matplotlib.figure.Figure at 0x1c11daebb00>"
      ]
     },
     "metadata": {},
     "output_type": "display_data"
    },
    {
     "data": {
      "text/plain": [
       "<matplotlib.figure.Figure at 0x1c110c175c0>"
      ]
     },
     "metadata": {},
     "output_type": "display_data"
    },
    {
     "data": {
      "text/plain": [
       "<matplotlib.figure.Figure at 0x1c1172f2320>"
      ]
     },
     "metadata": {},
     "output_type": "display_data"
    },
    {
     "data": {
      "text/plain": [
       "<matplotlib.figure.Figure at 0x1c12303a908>"
      ]
     },
     "metadata": {},
     "output_type": "display_data"
    },
    {
     "data": {
      "text/plain": [
       "<matplotlib.figure.Figure at 0x1c118465550>"
      ]
     },
     "metadata": {},
     "output_type": "display_data"
    },
    {
     "data": {
      "text/plain": [
       "<matplotlib.figure.Figure at 0x1c11845ff28>"
      ]
     },
     "metadata": {},
     "output_type": "display_data"
    },
    {
     "data": {
      "text/plain": [
       "<matplotlib.figure.Figure at 0x1c118572898>"
      ]
     },
     "metadata": {},
     "output_type": "display_data"
    },
    {
     "data": {
      "text/plain": [
       "<matplotlib.figure.Figure at 0x1c11a86aeb8>"
      ]
     },
     "metadata": {},
     "output_type": "display_data"
    },
    {
     "data": {
      "image/png": "[encoded data removed]",
      "text/plain": [
       "<matplotlib.figure.Figure at 0x1c1186989e8>"
      ]
     },
     "metadata": {},
     "output_type": "display_data"
    }
   ],
   "source": [
    "import pandas as pd\n",
    "import numpy as np\n",
    "from scipy.io import wavfile\n",
    "import os\n",
    "from sklearn.utils import shuffle\n",
    "from random import sample\n",
    "from scipy.fftpack import dct\n",
    "import matplotlib.pyplot as plt\n",
    "\n",
    "# prima stazu file-a, vrijeme pocetka prvog S1 tona, veličinu okvira i udaljenost(razmak)\n",
    "def mfcc_features(path_file,br, frame_size, frame_stride):              \n",
    "    sample_rate, signal = wavfile.read(path_file)\n",
    "    signal = signal[br:int(3 * sample_rate)]    # rezanje 3 sekunde od prvog S1 tona\n",
    "    pre_emphasis = 0.97\n",
    "    emphasized_signal = np.append(signal[0], signal[1:] - pre_emphasis * signal[:-1])\n",
    "\n",
    "    frame_length, frame_step = frame_size * sample_rate, frame_stride * sample_rate  # konvertiranje iz sekunda u sample-ove\n",
    "    signal_length = len(emphasized_signal)\n",
    "    frame_length = int(round(frame_length))\n",
    "    frame_step = int(round(frame_step))\n",
    "    num_frames = int(np.ceil(float(np.abs(signal_length - frame_length)) / frame_step))  # osiguravanje da postoji barem jedan frame(prozor)\n",
    "\n",
    "    pad_signal_length = num_frames * frame_step + frame_length\n",
    "    z = np.zeros((pad_signal_length - signal_length))\n",
    "    pad_signal = np.append(emphasized_signal, z) # signal padding kako bi svi frame-ovi imali jednak broj sample-ova\n",
    "\n",
    "    indices = np.tile(np.arange(0, frame_length), (num_frames, 1)) +\\\n",
    "        np.tile(np.arange(0, num_frames * frame_step, frame_step), (frame_length, 1)).T\n",
    "    frames = pad_signal[indices.astype(np.int32, copy=False)]\n",
    "\n",
    "    # hamming window\n",
    "    frames *= np.hamming(frame_length)\n",
    "\n",
    "    NFFT = 512\n",
    "    mag_frames = np.absolute(np.fft.rfft(frames, NFFT))  # magnituda od FFT\n",
    "    pow_frames = ((1.0 / NFFT) * ((mag_frames) ** 2))  # power spektar\n",
    "\n",
    "    nfilt = 40\n",
    "    low_freq_mel = 0\n",
    "    high_freq_mel = (2595 * np.log10(1 + (sample_rate / 2) / 700))  # Convert Hz to Mel\n",
    "    mel_points = np.linspace(low_freq_mel, high_freq_mel, nfilt + 2)  # Equally spaced in Mel scale\n",
    "    hz_points = (700 * (10**(mel_points / 2595) - 1))  # Convert Mel to Hz\n",
    "    bin = np.floor((NFFT + 1) * hz_points / sample_rate)\n",
    "\n",
    "    fbank = np.zeros((nfilt, int(np.floor(NFFT / 2 + 1))))\n",
    "    for m in range(1, nfilt + 1):\n",
    "        f_m_minus = int(bin[m - 1])   # left\n",
    "        f_m = int(bin[m])             # center\n",
    "        f_m_plus = int(bin[m + 1])    # right\n",
    "\n",
    "        for k in range(f_m_minus, f_m):\n",
    "            fbank[m - 1, k] = (k - bin[m - 1]) / (bin[m] - bin[m - 1])\n",
    "        for k in range(f_m, f_m_plus):\n",
    "            fbank[m - 1, k] = (bin[m + 1] - k) / (bin[m + 1] - bin[m])\n",
    "    filter_banks = np.dot(pow_frames, fbank.T)\n",
    "    filter_banks = np.where(filter_banks == 0, np.finfo(float).eps, filter_banks)  # Numerical Stability\n",
    "    filter_banks = 20 * np.log10(filter_banks)  # dB\n",
    "    \n",
    "    num_ceps = 13\n",
    "    mfcc = dct(filter_banks, type=2, axis=1, norm='ortho')[:, 1 : (num_ceps + 1)] # Keep 2-13\n",
    "    \n",
    "    cep_lifter = 22\n",
    "    (nframes, ncoeff) = mfcc.shape\n",
    "    n = np.arange(ncoeff)\n",
    "    lift = 1 + (cep_lifter / 2) * np.sin(np.pi * n / cep_lifter)\n",
    "    mfcc *= lift  #*\n",
    "    \n",
    "    return filter_banks, mfcc\n",
    "\n",
    "def normalized_fb(fb):\n",
    "    fb -= (np.mean(fb, axis=0) + 1e-8)\n",
    "    return fb\n",
    "\n",
    "def normalized_mfcc(mfcc):\n",
    "    mfcc -= (np.mean(mfcc, axis=0) + 1e-8)\n",
    "    return mfcc\n",
    "\n",
    "\n",
    "# prima path file-a, pocetak od S1 i ako je abnormalan vrijednost 1, inace -1\n",
    "def saveHeatmap(path_file,br, abnormal):        \n",
    "    frame_size = 0.025\n",
    "    frame_stride = 0.01\n",
    "    fb, mfcc2 = mfcc_features(path_file,k, frame_size, frame_stride)\n",
    "    mat = np.matrix(normalized_mfcc(mfcc2))\n",
    "    mat = np.transpose(mat)\n",
    "    plt.clf()\n",
    "    plt.figure()\n",
    "    plt.imshow(mat)\n",
    "    plt.axis('off')\n",
    "    file_name = os.path.splitext(os.path.basename(path_file))[0]\n",
    "    if abnormal == '1':\n",
    "        save_path = 'D:\\\\abnormal2\\\\' + file_name + '.jpg';\n",
    "    else:\n",
    "        save_path = 'D:\\\\normal2\\\\' + file_name + '.jpg';\n",
    "    #print(save_path)\n",
    "    plt.savefig(save_path ,bbox_inches='tight',transparent=False, pad_inches=0)\n",
    "    \n",
    "    \n",
    "import os\n",
    "import scipy.io as sio\n",
    "import numpy as np\n",
    "import csv\n",
    "import itertools\n",
    "import glob\n",
    "import librosa\n",
    "import scipy.io.wavfile as wav\n",
    "\n",
    "V=['b','c','d','e','f']\n",
    "\n",
    "podaci=[]    #sadrzi podatke o segmentaciji svakog zapisa\n",
    "labels=[]    #sadrzi oznake normal/abnormal i da li je noisy\n",
    "wavs=[]      #sample_rate, data from wav file\n",
    "paths=[]\n",
    "s=0\n",
    "k=0\n",
    "#ucitavanje rezultata segmentacije te vadenje znacajki\n",
    "for l in V:\n",
    "    os.chdir('D:\\\\Updated files\\\\training_set_signal_quality\\\\training-'+l)\n",
    "    with open('REFERENCE_withSQI.csv','r') as f:\n",
    "        reader=csv.reader(f)\n",
    "        L=list(reader)\n",
    "    L=[i[1:] for i in L]\n",
    "    labels.append(L)\n",
    "    os.chdir('D:\\\\Updated files\\\\training set\\\\training-'+l)\n",
    "    for filename in glob.glob('*.wav'):\n",
    "        wavs.append(wav.read(filename))\n",
    "        paths.append('D:\\\\Updated files\\\\training set\\\\training-'+ l + '\\\\' + filename)\n",
    "labels=list(itertools.chain.from_iterable(labels))   #spajanje lista\n",
    "\n",
    "###################################################\n",
    "podaci1=[]\n",
    "for l in V:\n",
    "    os.chdir('D:\\\\Updated files\\\\training_set_annotations_hand_corrected\\\\training-'+l+'_StateAns')\n",
    "    for filename in os.listdir():\n",
    "        podatak=sio.loadmat(filename)\n",
    "        podatak=podatak['state_ans']\n",
    "        time=np.column_stack(podatak[:,0]).flatten()\n",
    "        try:\n",
    "            state=np.concatenate(np.column_stack(podatak[:,1]).flatten())\n",
    "        except ValueError:                                                  #  ucitavanje da podaci budu normalne liste\n",
    "            state=np.column_stack(podatak[:,1]).flatten()                   # a ne liste u listi u list u listi.....\n",
    "            state=np.column_stack(state).flatten()\n",
    "        podaci.append([time,state]) \n",
    "        \n",
    "for l in V:\n",
    "    os.chdir('D:\\\\Updated files\\\\20160725_automated David Springer\\'s annotations for training set\\\\training-'+l+'-Aut')\n",
    "    for filename in os.listdir():\n",
    "        podatak=sio.loadmat(filename)\n",
    "        podatak=podatak['state_ans0']\n",
    "        time1=np.column_stack(podatak[:,0]).flatten()\n",
    "        try:\n",
    "            state=np.concatenate(np.column_stack(podatak[:,1]).flatten())\n",
    "        except ValueError:\n",
    "            state=np.column_stack(podatak[:,1]).flatten()                   \n",
    "            state=np.column_stack(state).flatten()\n",
    "        podaci1.append([time,state])       \n",
    "pocetak=[]    \n",
    "\n",
    "\n",
    "for i in range(len(podaci)):\n",
    "    if(labels[i][1]==1):\n",
    "        pocetak.append(podaci[i][0][np.where(podaci[i][1]=='S1')[0][0]])\n",
    "    else:\n",
    "        pocetak.append(podaci1[i][0][np.where(podaci1[i][1]=='S1')[0][0]])\n",
    "\n",
    "\n",
    "        \n",
    "# stvaranje heatmap-a pocevsi od prvog tona S1\n",
    "for i in range(0, len(paths)):\n",
    "    print(paths[i] + \": \" + labels[i][0])\n",
    "    saveHeatmap(paths[i],pocetak[i], labels[i][0]) "
   ]
  },
  {
   "cell_type": "code",
   "execution_count": null,
   "metadata": {},
   "outputs": [],
   "source": []
  },
  {
   "cell_type": "code",
   "execution_count": null,
   "metadata": {},
   "outputs": [],
   "source": []
  }
 ],
 "metadata": {
  "kernelspec": {
   "display_name": "Python 3",
   "language": "python",
   "name": "python3"
  },
  "language_info": {
   "codemirror_mode": {
    "name": "ipython",
    "version": 3
   },
   "file_extension": ".py",
   "mimetype": "text/x-python",
   "name": "python",
   "nbconvert_exporter": "python",
   "pygments_lexer": "ipython3",
   "version": "3.6.4"
  }
 },
 "nbformat": 4,
 "nbformat_minor": 2
}
