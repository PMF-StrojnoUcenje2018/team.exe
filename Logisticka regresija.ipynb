{
 "cells": [
  {
   "cell_type": "markdown",
   "metadata": {},
   "source": [
    "Učitavanje podataka iz dataset-a (podaci o segmentaciji iz .mat file-ova). <br>\n",
    "<b>Računanje značajki:</b>\n",
    "<ul>\n",
    "    <li><b>m_RR</b> – srednja vrijednost RR intervala\n",
    "    <li><b>sd_RR</b> – standardna devijacija RR intervala\n",
    "    <li><b>m_IntS1</b> – srednja vrijednost S1 intervala\n",
    "    <li><b>sd_IntS1</b> – standardna devijacija S1 intervala\n",
    "    <li><b>m_IntS2</b> – srednja vrijednost S2 intervala\n",
    "    <li><b>sd_IntS2</b> – standardna devijacija S2 intervala\n",
    "    <li><b>m_IntSys</b> – srednja vrijednost sistoličkih intervala\n",
    "    <li><b>sd_IntSys</b> – standardna devijacija sistoličkih intervala\n",
    "    <li><b>m_IntDia</b> – srednja vrijednost dijastoličkih intervala\n",
    "    <li><b>sd_IntDia</b> – standardna devijacija dijastoličkih intervala\n",
    "    <li><b>m_Ratio_SysRR</b> – srednja vrijednost omjera sistoličkih i RR intervala za svaki otkucaj\n",
    "    <li><b>sd_Ratio_SysRR</b> – standardna devijacija omjera sistoličkih i RR intervala\n",
    "    <li><b>m_Ratio_DiaRR</b> – srednja vrijednost omjera dijastoličkih i RR intervala\n",
    "    <li><b>sd_Ratio_DiaRR</b> – standardna devijacija omjera dijastoličkih i RR intervala\n",
    "    <li><b>m_Ratio_SysDia</b> – srednja vrijednost omjera sistoličkih i dijastoličkih intervala\n",
    "    <li><b>sd_Ratio_SysDia</b> – standardna devijacija omjera sistoličkih i dijastoličkih intervala\n",
    "    <li><b>m_Amp_SysS1</b> – srednja vrijednost omjera srednje vrijednosti absolutne amplitude tijekom sistole u odnosu na onu tijekom S1\n",
    "    <li><b>sd_Amp_SysS1</b> – standardna devijacija omjera srednje vrijednosti absolutne amplitude tijekom sistole u odnosu na onu tijekom S1\n",
    "    <li><b>m_Amp_DiaS2</b> – srednja vrijednost omjera srednje vrijednosti absolutne amplitude tijekom dijastole u odnosu na onu tijekom S2\n",
    "    <li><b>sd_Amp_DiaS2</b> – standardna devijacija omjera srednje vrijednosti absolutne amplitude tijekom dijastole u odnosu na onu tijekom S2\n",
    "</ul>\n",
    "Za pokretanje je potrebno imati dataset-ove A-F podijeljene u 6 foldera, te za učitavanje svakog dijela pripadajući REFERENCE_withSQI.csv file."
   ]
  },
  {
   "cell_type": "code",
   "execution_count": 61,
   "metadata": {},
   "outputs": [],
   "source": [
    "from PIL import Image\n",
    "import os\n",
    "import scipy.io as sio\n",
    "import numpy as np\n",
    "import csv\n",
    "import itertools\n",
    "import glob\n",
    "#import librosa\n",
    "import scipy.io.wavfile as wav\n",
    "V=['a','b','c','d','e','f']\n",
    "podaci=[]    #sadrzi podatke o segmentaciji svakog zapisa\n",
    "labels=[]    #sadrzi oznake normal/abnormal i da li je noisy\n",
    "wavs=[]         #sample_rate, data from wav file\n",
    "m_RR=[]\n",
    "sd_RR=[]\n",
    "m_IntS1=[]\n",
    "sd_IntS1=[]\n",
    "m_IntS2=[]\n",
    "sd_IntS2=[]\n",
    "m_IntSys=[]\n",
    "sd_IntSys=[]\n",
    "m_IntDia=[]\n",
    "sd_IntDia=[]\n",
    "m_Ratio_SysRR=[]\n",
    "sd_Ratio_SysRR=[]\n",
    "m_Ratio_DiaRR=[]\n",
    "sd_Ratio_DiaRR=[]\n",
    "m_Ratio_SysDia=[]\n",
    "sd_Ratio_SysDia=[]\n",
    "nazivi=[]\n",
    "m_Amp_SysS1=[]\n",
    "sd_Amp_SysS1=[]\n",
    "m_Amp_DiaS2=[]\n",
    "sd_Amp_DiaS2=[]\n",
    "###############################\n",
    "for l in V:\n",
    "    os.chdir('D:\\\\Updated files\\\\20160725_automated David Springer\\'s annotations for training set\\\\training-'+l+'-Aut')\n",
    "    for filename in os.listdir():\n",
    "        podatak=sio.loadmat(filename)\n",
    "        podatak=podatak['state_ans0']\n",
    "        time=np.column_stack(podatak[:,0]).flatten()\n",
    "        try:\n",
    "            state=np.concatenate(np.column_stack(podatak[:,1]).flatten())\n",
    "        except ValueError:                                                  #  ucitavanje da podaci budu normalne liste\n",
    "            state=np.column_stack(podatak[:,1]).flatten()                   # a ne liste u listi u list u listi.....\n",
    "            state=np.column_stack(state).flatten()\n",
    "        podaci.append([time,state]) \n",
    "    os.chdir('D:\\\\Updated files\\\\training_set_signal_quality\\\\training-'+l)\n",
    "    with open('REFERENCE_withSQI.csv','r') as f:\n",
    "        reader=csv.reader(f)\n",
    "        L=list(reader)\n",
    "    nazivi.append([i[0] for i in L])\n",
    "    L=[i[1:] for i in L]\n",
    "    labels.append(L)\n",
    "    os.chdir('D:\\\\Updated files\\\\training set\\\\training-'+l)\n",
    "    for filename in glob.glob('*.wav'):\n",
    "        wavs.append(wav.read(filename)[1])\n",
    "wavs=np.abs(wavs)              #za racunanje amplitudnih znacajki\n",
    "labels=list(itertools.chain.from_iterable(labels))   #spajanje lista\n",
    "nazivi=list(itertools.chain.from_iterable(nazivi))\n",
    "labels=np.array([[int(j) for j in i]for i in labels])\n",
    "\n",
    "\n",
    "\n",
    "\n",
    "\n",
    "\n",
    "for i in range(len(podaci)):\n",
    "        dat=podaci[i][0]                            \n",
    "        dat1=np.append(dat,wavs[i].size)         #dodamo pom element koji oznacava ukupan broj signala u zapisu( da se izracuna trajanje zadnjeg stanja)\n",
    "        state_dur=dat1[1:]-dat1[:-1]               #odredimo trajanje svakog stanja\n",
    "        dia=state_dur[podaci[i][1]=='diastole']     #odvojimo trajanje pojedinih stanja\n",
    "        sys=state_dur[podaci[i][1]=='systole']\n",
    "        S1=state_dur[podaci[i][1]=='S1']\n",
    "        S2=state_dur[podaci[i][1]=='S2']\n",
    "        m_IntS1.append(np.mean(S1))\n",
    "        sd_IntS1.append(np.std(S1))                  #racunamo potrebne veličine\n",
    "        m_IntS2.append(np.mean(S2))\n",
    "        sd_IntS2.append(np.std(S2))\n",
    "        m_IntSys.append(np.mean(sys))\n",
    "        sd_IntSys.append(np.std(sys))\n",
    "        m_IntDia.append(np.mean(dia))\n",
    "        sd_IntDia.append(np.std(dia))\n",
    "        pom=dat[podaci[i][1]=='S1']       #zanima nas S1- pocetak srcanog ciklusa\n",
    "        tr=pom[1:]-pom[:-1]             #trajanje svakog ciklusa\n",
    "        m_RR.append(np.mean(tr))\n",
    "        sd_RR.append(np.std(tr))\n",
    "        #racunamo omjere izmedu trajanje sys intervala i RR intervala u svakom ciklusu\n",
    "        f=np.where(podaci[i][1]=='S1')[0][0]\n",
    "        l=np.where(podaci[i][1]=='S1')[0][-1]          #od interesa su nam puni ciklusi\n",
    "        dat2=dat[f:l+1]\n",
    "        state_dur=dat2[1:]-dat2[0:-1]\n",
    "        pom1=podaci[i][1][f:l]\n",
    "        sys1=state_dur[pom1=='systole']     \n",
    "        m_Ratio_SysRR.append(np.mean(sys1/tr))\n",
    "        sd_Ratio_SysRR.append(np.std(sys1/tr))\n",
    "        #racunamo omjere izmedu trajanje dias intervala i RR intervala u svakom ciklusu\n",
    "        dia1=state_dur[pom1=='diastole']\n",
    "        if sum(dia1==0)>0:\n",
    "            ind=np.where(dia1==0)\n",
    "            dia1[ind]=1\n",
    "        m_Ratio_DiaRR.append(np.mean(dia1/tr))             \n",
    "        sd_Ratio_DiaRR.append(np.std(dia1/tr))\n",
    "        m_Ratio_SysDia.append(np.mean(sys1/dia1))\n",
    "        sd_Ratio_SysDia.append(np.std(sys1/dia1))\n",
    "        dat=podaci[i][0][np.where(podaci[i][1]=='S1')[0][0]:np.where(podaci[i][1]=='S1')[0][-1]+1]     #pocnemo od S1\n",
    "        datpol=podaci[i][1][np.where(podaci[i][1]=='S1')[0][0]:np.where(podaci[i][1]=='S1')[0][-1]+1]\n",
    "        j=0\n",
    "        syss1=[]\n",
    "        dias2=[]\n",
    "        while (j<len(dat)-1):\n",
    "            s1=np.mean(wavs[i][dat[j]:dat[j+1]])\n",
    "            sys=np.mean(wavs[i][dat[j+1]:dat[j+2]])\n",
    "            dia=np.mean(wavs[i][dat[j+2]:dat[j+3]])\n",
    "            s2=np.mean(wavs[i][dat[j+3]:dat[j+4]])\n",
    "            if(s1==0):                \n",
    "                s1=1/10\n",
    "            j=j+4\n",
    "            syss1.append(sys/s1)\n",
    "            dias2.append(dia/s2)\n",
    "        m_Amp_SysS1.append(np.mean(syss1))\n",
    "        sd_Amp_SysS1.append(np.std(syss1))\n",
    "        m_Amp_DiaS2.append(np.mean(dias2))\n",
    "        sd_Amp_DiaS2.append(np.std(dias2))\n",
    "        \n",
    "            \n",
    "\n",
    "features=np.column_stack([m_RR,sd_RR,m_IntS1,sd_IntS1,m_IntS2,sd_IntS2,m_IntSys,sd_IntSys,m_IntDia,sd_IntDia,m_Ratio_SysRR,sd_Ratio_SysRR,m_Ratio_DiaRR,sd_Ratio_DiaRR,m_Ratio_SysDia,sd_Ratio_SysDia,m_Amp_SysS1,sd_Amp_SysS1,m_Amp_DiaS2,sd_Amp_DiaS2, labels[:,0]])"
   ]
  },
  {
   "cell_type": "code",
   "execution_count": 2,
   "metadata": {},
   "outputs": [
    {
     "name": "stdout",
     "output_type": "stream",
     "text": [
      "[1.95000000e+03 6.88799277e+01 2.60540541e+02 2.39307499e+01\n",
      " 2.14444444e+02 1.92129072e+01 4.70621622e+02 4.85560982e+01\n",
      " 9.88054054e+02 8.58666301e+01 2.45412353e-01 1.60707127e-02\n",
      " 5.10581268e-01 2.09703781e-02 4.82290315e-01 4.72403919e-02\n",
      " 3.21829845e-01 9.79630322e-02 3.37760859e+00 7.74529272e-01\n",
      " 1.00000000e+00]\n"
     ]
    }
   ],
   "source": [
    "print(features[0])"
   ]
  },
  {
   "cell_type": "code",
   "execution_count": 4,
   "metadata": {},
   "outputs": [
    {
     "data": {
      "text/plain": [
       "21"
      ]
     },
     "execution_count": 4,
     "metadata": {},
     "output_type": "execute_result"
    }
   ],
   "source": [
    "len(features[0])"
   ]
  },
  {
   "cell_type": "code",
   "execution_count": 8,
   "metadata": {},
   "outputs": [
    {
     "name": "stderr",
     "output_type": "stream",
     "text": [
      "C:\\Users\\dajo\\Anaconda3\\envs\\py36\\lib\\site-packages\\sklearn\\cross_validation.py:41: DeprecationWarning: This module was deprecated in version 0.18 in favor of the model_selection module into which all the refactored classes and functions are moved. Also note that the interface of the new CV iterators are different from that of this module. This module will be removed in 0.20.\n",
      "  \"This module will be removed in 0.20.\", DeprecationWarning)\n"
     ]
    }
   ],
   "source": [
    "import pandas as pd\n",
    "import numpy as np\n",
    "from sklearn import preprocessing\n",
    "import matplotlib.pyplot as plt \n",
    "plt.rc(\"font\", size=14)\n",
    "from sklearn.linear_model import LogisticRegression\n",
    "from sklearn.cross_validation import train_test_split\n",
    "import seaborn as sns\n",
    "sns.set(style=\"white\")\n",
    "sns.set(style=\"whitegrid\", color_codes=True)"
   ]
  },
  {
   "cell_type": "markdown",
   "metadata": {},
   "source": [
    "<h2>Stvaranje DataFrame-a</h2>\n",
    "<p>\n",
    "    Stvaranje data frame-a koji se sastoji od stupaca kojima su imena imena <b>20 značajki</b>, te je <b>21. stupac y vrijednost</b>, tj. pripadnost klasi te iznosi -1 za normalne zapise, a 1 za abnormalne.\n",
    "</p>"
   ]
  },
  {
   "cell_type": "code",
   "execution_count": 16,
   "metadata": {},
   "outputs": [],
   "source": [
    "data = pd.DataFrame(columns=['m_RR','sd_RR','m_IntS1','sd_IntS1','m_IntS2','sd_IntS2','m_IntSys','sd_IntSys','m_IntDia','sd_IntDia','m_Ratio_SysRR','sd_Ratio_SysRR','m_Ratio_DiaRR','sd_Ratio_DiaRR','m_Ratio_SysDia','sd_Ratio_SysDia','m_Amp_SysS1','sd_Amp_SysS1','m_Amp_DiaS2','sd_Amp_DiaS2', 'y'])\n",
    "\n",
    "for i in range(len(labels)):\n",
    "   data.loc[i] = features[i]"
   ]
  },
  {
   "cell_type": "code",
   "execution_count": 19,
   "metadata": {},
   "outputs": [
    {
     "name": "stdout",
     "output_type": "stream",
     "text": [
      "['m_RR', 'sd_RR', 'm_IntS1', 'sd_IntS1', 'm_IntS2', 'sd_IntS2', 'm_IntSys', 'sd_IntSys', 'm_IntDia', 'sd_IntDia', 'm_Ratio_SysRR', 'sd_Ratio_SysRR', 'm_Ratio_DiaRR', 'sd_Ratio_DiaRR', 'm_Ratio_SysDia', 'sd_Ratio_SysDia', 'm_Amp_SysS1', 'sd_Amp_SysS1', 'm_Amp_DiaS2', 'sd_Amp_DiaS2', 'y']\n"
     ]
    }
   ],
   "source": [
    "print(list(data.columns))"
   ]
  },
  {
   "cell_type": "code",
   "execution_count": 20,
   "metadata": {},
   "outputs": [
    {
     "data": {
      "text/html": [
       "<div>\n",
       "<style scoped>\n",
       "    .dataframe tbody tr th:only-of-type {\n",
       "        vertical-align: middle;\n",
       "    }\n",
       "\n",
       "    .dataframe tbody tr th {\n",
       "        vertical-align: top;\n",
       "    }\n",
       "\n",
       "    .dataframe thead th {\n",
       "        text-align: right;\n",
       "    }\n",
       "</style>\n",
       "<table border=\"1\" class=\"dataframe\">\n",
       "  <thead>\n",
       "    <tr style=\"text-align: right;\">\n",
       "      <th></th>\n",
       "      <th>m_RR</th>\n",
       "      <th>sd_RR</th>\n",
       "      <th>m_IntS1</th>\n",
       "      <th>sd_IntS1</th>\n",
       "      <th>m_IntS2</th>\n",
       "      <th>sd_IntS2</th>\n",
       "      <th>m_IntSys</th>\n",
       "      <th>sd_IntSys</th>\n",
       "      <th>m_IntDia</th>\n",
       "      <th>sd_IntDia</th>\n",
       "      <th>...</th>\n",
       "      <th>sd_Ratio_SysRR</th>\n",
       "      <th>m_Ratio_DiaRR</th>\n",
       "      <th>sd_Ratio_DiaRR</th>\n",
       "      <th>m_Ratio_SysDia</th>\n",
       "      <th>sd_Ratio_SysDia</th>\n",
       "      <th>m_Amp_SysS1</th>\n",
       "      <th>sd_Amp_SysS1</th>\n",
       "      <th>m_Amp_DiaS2</th>\n",
       "      <th>sd_Amp_DiaS2</th>\n",
       "      <th>y</th>\n",
       "    </tr>\n",
       "  </thead>\n",
       "  <tbody>\n",
       "    <tr>\n",
       "      <th>0</th>\n",
       "      <td>1950.000000</td>\n",
       "      <td>68.879928</td>\n",
       "      <td>260.540541</td>\n",
       "      <td>23.930750</td>\n",
       "      <td>214.444444</td>\n",
       "      <td>19.212907</td>\n",
       "      <td>470.621622</td>\n",
       "      <td>48.556098</td>\n",
       "      <td>988.054054</td>\n",
       "      <td>85.866630</td>\n",
       "      <td>...</td>\n",
       "      <td>0.016071</td>\n",
       "      <td>0.510581</td>\n",
       "      <td>0.020970</td>\n",
       "      <td>0.482290</td>\n",
       "      <td>0.047240</td>\n",
       "      <td>0.321830</td>\n",
       "      <td>0.097963</td>\n",
       "      <td>3.377609</td>\n",
       "      <td>0.774529</td>\n",
       "      <td>1.0</td>\n",
       "    </tr>\n",
       "    <tr>\n",
       "      <th>1</th>\n",
       "      <td>1538.461538</td>\n",
       "      <td>89.601352</td>\n",
       "      <td>277.037037</td>\n",
       "      <td>34.298776</td>\n",
       "      <td>234.857143</td>\n",
       "      <td>23.954890</td>\n",
       "      <td>210.370370</td>\n",
       "      <td>49.402465</td>\n",
       "      <td>811.851852</td>\n",
       "      <td>79.862708</td>\n",
       "      <td>...</td>\n",
       "      <td>0.027541</td>\n",
       "      <td>0.530518</td>\n",
       "      <td>0.047500</td>\n",
       "      <td>0.259040</td>\n",
       "      <td>0.069642</td>\n",
       "      <td>0.590093</td>\n",
       "      <td>0.173690</td>\n",
       "      <td>2.349784</td>\n",
       "      <td>0.725578</td>\n",
       "      <td>1.0</td>\n",
       "    </tr>\n",
       "    <tr>\n",
       "      <th>2</th>\n",
       "      <td>2430.000000</td>\n",
       "      <td>82.663978</td>\n",
       "      <td>275.200000</td>\n",
       "      <td>20.614558</td>\n",
       "      <td>289.230769</td>\n",
       "      <td>20.176734</td>\n",
       "      <td>353.769231</td>\n",
       "      <td>30.756247</td>\n",
       "      <td>1455.423077</td>\n",
       "      <td>268.624441</td>\n",
       "      <td>...</td>\n",
       "      <td>0.014479</td>\n",
       "      <td>0.622269</td>\n",
       "      <td>0.019332</td>\n",
       "      <td>0.235834</td>\n",
       "      <td>0.029258</td>\n",
       "      <td>0.411947</td>\n",
       "      <td>0.072678</td>\n",
       "      <td>4.553487</td>\n",
       "      <td>0.771143</td>\n",
       "      <td>1.0</td>\n",
       "    </tr>\n",
       "    <tr>\n",
       "      <th>3</th>\n",
       "      <td>2003.529412</td>\n",
       "      <td>117.770523</td>\n",
       "      <td>266.285714</td>\n",
       "      <td>21.258372</td>\n",
       "      <td>212.222222</td>\n",
       "      <td>20.697707</td>\n",
       "      <td>428.833333</td>\n",
       "      <td>20.217567</td>\n",
       "      <td>1077.611111</td>\n",
       "      <td>137.241733</td>\n",
       "      <td>...</td>\n",
       "      <td>0.013554</td>\n",
       "      <td>0.546200</td>\n",
       "      <td>0.023860</td>\n",
       "      <td>0.393819</td>\n",
       "      <td>0.039059</td>\n",
       "      <td>0.203815</td>\n",
       "      <td>0.059502</td>\n",
       "      <td>2.934240</td>\n",
       "      <td>0.671538</td>\n",
       "      <td>1.0</td>\n",
       "    </tr>\n",
       "    <tr>\n",
       "      <th>4</th>\n",
       "      <td>1352.307692</td>\n",
       "      <td>93.820930</td>\n",
       "      <td>249.056604</td>\n",
       "      <td>21.479622</td>\n",
       "      <td>197.692308</td>\n",
       "      <td>24.068443</td>\n",
       "      <td>251.566038</td>\n",
       "      <td>22.869201</td>\n",
       "      <td>651.283019</td>\n",
       "      <td>66.226705</td>\n",
       "      <td>...</td>\n",
       "      <td>0.015285</td>\n",
       "      <td>0.484085</td>\n",
       "      <td>0.017227</td>\n",
       "      <td>0.384992</td>\n",
       "      <td>0.040777</td>\n",
       "      <td>0.133840</td>\n",
       "      <td>0.036941</td>\n",
       "      <td>3.037472</td>\n",
       "      <td>0.684653</td>\n",
       "      <td>1.0</td>\n",
       "    </tr>\n",
       "  </tbody>\n",
       "</table>\n",
       "<p>5 rows × 21 columns</p>\n",
       "</div>"
      ],
      "text/plain": [
       "          m_RR       sd_RR     m_IntS1   sd_IntS1     m_IntS2   sd_IntS2  \\\n",
       "0  1950.000000   68.879928  260.540541  23.930750  214.444444  19.212907   \n",
       "1  1538.461538   89.601352  277.037037  34.298776  234.857143  23.954890   \n",
       "2  2430.000000   82.663978  275.200000  20.614558  289.230769  20.176734   \n",
       "3  2003.529412  117.770523  266.285714  21.258372  212.222222  20.697707   \n",
       "4  1352.307692   93.820930  249.056604  21.479622  197.692308  24.068443   \n",
       "\n",
       "     m_IntSys  sd_IntSys     m_IntDia   sd_IntDia ...   sd_Ratio_SysRR  \\\n",
       "0  470.621622  48.556098   988.054054   85.866630 ...         0.016071   \n",
       "1  210.370370  49.402465   811.851852   79.862708 ...         0.027541   \n",
       "2  353.769231  30.756247  1455.423077  268.624441 ...         0.014479   \n",
       "3  428.833333  20.217567  1077.611111  137.241733 ...         0.013554   \n",
       "4  251.566038  22.869201   651.283019   66.226705 ...         0.015285   \n",
       "\n",
       "   m_Ratio_DiaRR  sd_Ratio_DiaRR  m_Ratio_SysDia  sd_Ratio_SysDia  \\\n",
       "0       0.510581        0.020970        0.482290         0.047240   \n",
       "1       0.530518        0.047500        0.259040         0.069642   \n",
       "2       0.622269        0.019332        0.235834         0.029258   \n",
       "3       0.546200        0.023860        0.393819         0.039059   \n",
       "4       0.484085        0.017227        0.384992         0.040777   \n",
       "\n",
       "   m_Amp_SysS1  sd_Amp_SysS1  m_Amp_DiaS2  sd_Amp_DiaS2    y  \n",
       "0     0.321830      0.097963     3.377609      0.774529  1.0  \n",
       "1     0.590093      0.173690     2.349784      0.725578  1.0  \n",
       "2     0.411947      0.072678     4.553487      0.771143  1.0  \n",
       "3     0.203815      0.059502     2.934240      0.671538  1.0  \n",
       "4     0.133840      0.036941     3.037472      0.684653  1.0  \n",
       "\n",
       "[5 rows x 21 columns]"
      ]
     },
     "execution_count": 20,
     "metadata": {},
     "output_type": "execute_result"
    }
   ],
   "source": [
    "data.head()"
   ]
  },
  {
   "cell_type": "code",
   "execution_count": 21,
   "metadata": {},
   "outputs": [
    {
     "data": {
      "text/plain": [
       "-1.0    2488\n",
       " 1.0     665\n",
       "Name: y, dtype: int64"
      ]
     },
     "execution_count": 21,
     "metadata": {},
     "output_type": "execute_result"
    }
   ],
   "source": [
    "data['y'].value_counts()"
   ]
  },
  {
   "cell_type": "code",
   "execution_count": 24,
   "metadata": {
    "scrolled": true
   },
   "outputs": [
    {
     "data": {
      "image/png": "[encoded data removed]",
      "text/plain": [
       "<matplotlib.figure.Figure at 0x14ad13a5588>"
      ]
     },
     "metadata": {},
     "output_type": "display_data"
    }
   ],
   "source": [
    "sns.countplot(x='y', data=data, palette='hls')\n",
    "fig = plt.gcf()\n",
    "plt.draw()\n",
    "plt.show()\n",
    "fig.savefig('D:\\\\count_plot.png', dpi=100)"
   ]
  },
  {
   "cell_type": "markdown",
   "metadata": {},
   "source": [
    "<h2>Grupiranje dataset-a i srednje vrijednosti</h2>\n",
    "<p>\n",
    "    Grupiranje dataset-a po pripadnosti klasi, te za svaku klasa izračunata srednja vrijednost svake od značajki. Primjećuje se da su neke značajke poprilično slične (npr. m_Ratio_SysRR) dok je kod nekih vidljiva razlika (npr. sd_RR).\n",
    "</p>"
   ]
  },
  {
   "cell_type": "code",
   "execution_count": 25,
   "metadata": {},
   "outputs": [
    {
     "data": {
      "text/html": [
       "<div>\n",
       "<style scoped>\n",
       "    .dataframe tbody tr th:only-of-type {\n",
       "        vertical-align: middle;\n",
       "    }\n",
       "\n",
       "    .dataframe tbody tr th {\n",
       "        vertical-align: top;\n",
       "    }\n",
       "\n",
       "    .dataframe thead th {\n",
       "        text-align: right;\n",
       "    }\n",
       "</style>\n",
       "<table border=\"1\" class=\"dataframe\">\n",
       "  <thead>\n",
       "    <tr style=\"text-align: right;\">\n",
       "      <th></th>\n",
       "      <th>m_RR</th>\n",
       "      <th>sd_RR</th>\n",
       "      <th>m_IntS1</th>\n",
       "      <th>sd_IntS1</th>\n",
       "      <th>m_IntS2</th>\n",
       "      <th>sd_IntS2</th>\n",
       "      <th>m_IntSys</th>\n",
       "      <th>sd_IntSys</th>\n",
       "      <th>m_IntDia</th>\n",
       "      <th>sd_IntDia</th>\n",
       "      <th>m_Ratio_SysRR</th>\n",
       "      <th>sd_Ratio_SysRR</th>\n",
       "      <th>m_Ratio_DiaRR</th>\n",
       "      <th>sd_Ratio_DiaRR</th>\n",
       "      <th>m_Ratio_SysDia</th>\n",
       "      <th>sd_Ratio_SysDia</th>\n",
       "      <th>m_Amp_SysS1</th>\n",
       "      <th>sd_Amp_SysS1</th>\n",
       "      <th>m_Amp_DiaS2</th>\n",
       "      <th>sd_Amp_DiaS2</th>\n",
       "    </tr>\n",
       "    <tr>\n",
       "      <th>y</th>\n",
       "      <th></th>\n",
       "      <th></th>\n",
       "      <th></th>\n",
       "      <th></th>\n",
       "      <th></th>\n",
       "      <th></th>\n",
       "      <th></th>\n",
       "      <th></th>\n",
       "      <th></th>\n",
       "      <th></th>\n",
       "      <th></th>\n",
       "      <th></th>\n",
       "      <th></th>\n",
       "      <th></th>\n",
       "      <th></th>\n",
       "      <th></th>\n",
       "      <th></th>\n",
       "      <th></th>\n",
       "      <th></th>\n",
       "      <th></th>\n",
       "    </tr>\n",
       "  </thead>\n",
       "  <tbody>\n",
       "    <tr>\n",
       "      <th>-1.0</th>\n",
       "      <td>1669.163226</td>\n",
       "      <td>75.345247</td>\n",
       "      <td>258.550469</td>\n",
       "      <td>28.451309</td>\n",
       "      <td>208.555548</td>\n",
       "      <td>25.754572</td>\n",
       "      <td>366.906471</td>\n",
       "      <td>37.190014</td>\n",
       "      <td>806.210567</td>\n",
       "      <td>108.311047</td>\n",
       "      <td>0.222222</td>\n",
       "      <td>0.015776</td>\n",
       "      <td>0.481056</td>\n",
       "      <td>0.019533</td>\n",
       "      <td>0.482360</td>\n",
       "      <td>0.045670</td>\n",
       "      <td>1.181521</td>\n",
       "      <td>4.268058</td>\n",
       "      <td>3.205700</td>\n",
       "      <td>0.869203</td>\n",
       "    </tr>\n",
       "    <tr>\n",
       "      <th>1.0</th>\n",
       "      <td>1835.492573</td>\n",
       "      <td>99.438461</td>\n",
       "      <td>263.757845</td>\n",
       "      <td>34.355746</td>\n",
       "      <td>211.115599</td>\n",
       "      <td>31.828185</td>\n",
       "      <td>407.782032</td>\n",
       "      <td>48.135942</td>\n",
       "      <td>921.420924</td>\n",
       "      <td>128.099617</td>\n",
       "      <td>0.225323</td>\n",
       "      <td>0.018402</td>\n",
       "      <td>0.500102</td>\n",
       "      <td>0.023902</td>\n",
       "      <td>0.485515</td>\n",
       "      <td>0.054902</td>\n",
       "      <td>2.004726</td>\n",
       "      <td>7.977303</td>\n",
       "      <td>2.292191</td>\n",
       "      <td>0.781749</td>\n",
       "    </tr>\n",
       "  </tbody>\n",
       "</table>\n",
       "</div>"
      ],
      "text/plain": [
       "             m_RR      sd_RR     m_IntS1   sd_IntS1     m_IntS2   sd_IntS2  \\\n",
       "y                                                                            \n",
       "-1.0  1669.163226  75.345247  258.550469  28.451309  208.555548  25.754572   \n",
       " 1.0  1835.492573  99.438461  263.757845  34.355746  211.115599  31.828185   \n",
       "\n",
       "        m_IntSys  sd_IntSys    m_IntDia   sd_IntDia  m_Ratio_SysRR  \\\n",
       "y                                                                    \n",
       "-1.0  366.906471  37.190014  806.210567  108.311047       0.222222   \n",
       " 1.0  407.782032  48.135942  921.420924  128.099617       0.225323   \n",
       "\n",
       "      sd_Ratio_SysRR  m_Ratio_DiaRR  sd_Ratio_DiaRR  m_Ratio_SysDia  \\\n",
       "y                                                                     \n",
       "-1.0        0.015776       0.481056        0.019533        0.482360   \n",
       " 1.0        0.018402       0.500102        0.023902        0.485515   \n",
       "\n",
       "      sd_Ratio_SysDia  m_Amp_SysS1  sd_Amp_SysS1  m_Amp_DiaS2  sd_Amp_DiaS2  \n",
       "y                                                                            \n",
       "-1.0         0.045670     1.181521      4.268058     3.205700      0.869203  \n",
       " 1.0         0.054902     2.004726      7.977303     2.292191      0.781749  "
      ]
     },
     "execution_count": 25,
     "metadata": {},
     "output_type": "execute_result"
    }
   ],
   "source": [
    "data.groupby('y').mean()"
   ]
  },
  {
   "cell_type": "code",
   "execution_count": 26,
   "metadata": {},
   "outputs": [
    {
     "data": {
      "image/png": "[encoded data removed]",
      "text/plain": [
       "<matplotlib.figure.Figure at 0x14ad1438780>"
      ]
     },
     "metadata": {},
     "output_type": "display_data"
    }
   ],
   "source": [
    "data.m_RR.hist()\n",
    "plt.title('Histogram m_RR')\n",
    "plt.xlabel('m_RR')\n",
    "plt.ylabel('broj')\n",
    "fig = plt.gcf()\n",
    "plt.draw()\n",
    "plt.show()\n",
    "fig.savefig('D:\\\\histogram_m_RR.png', dpi=100)\n"
   ]
  },
  {
   "cell_type": "markdown",
   "metadata": {},
   "source": [
    "<h1>Histogrami za m_Amp_DiaS2</h1>\n",
    "\n",
    "<h3>Histogram za abnormalne zapise</h3>\n"
   ]
  },
  {
   "cell_type": "code",
   "execution_count": 27,
   "metadata": {},
   "outputs": [
    {
     "data": {
      "image/png": "[encoded data removed]",
      "text/plain": [
       "<matplotlib.figure.Figure at 0x14ad14d3e48>"
      ]
     },
     "metadata": {},
     "output_type": "display_data"
    }
   ],
   "source": [
    "data_AB = data.loc[(data['y'] == 1)]\n",
    "data_AB.m_Amp_DiaS2.hist()\n",
    "plt.title('Histogram m_Amp_DiaS2 Abnormal')\n",
    "plt.xlabel('m_Amp_DiaS2')\n",
    "plt.ylabel('broj')\n",
    "fig = plt.gcf()\n",
    "plt.draw()\n",
    "plt.show()\n",
    "fig.savefig('D:\\\\histogram_m_Amp_DiaS2 Abnormal.png', dpi=100)"
   ]
  },
  {
   "cell_type": "markdown",
   "metadata": {},
   "source": [
    "<h3>Histogram za abnormalne zapise</h3>\n",
    "\n",
    "<p>\n",
    "    U odnosu na normalne, vidljivo je da je raspon mnogo veći.\n",
    "</p>"
   ]
  },
  {
   "cell_type": "code",
   "execution_count": 28,
   "metadata": {},
   "outputs": [
    {
     "data": {
      "image/png": "[encoded data removed]",
      "text/plain": [
       "<matplotlib.figure.Figure at 0x14ad155a6d8>"
      ]
     },
     "metadata": {},
     "output_type": "display_data"
    }
   ],
   "source": [
    "data_NO = data.loc[(data['y'] == -1)]\n",
    "data_NO.m_Amp_DiaS2.hist()\n",
    "plt.title('Histogram m_Amp_DiaS2 Normal')\n",
    "plt.xlabel('m_Amp_DiaS2')\n",
    "plt.ylabel('broj')\n",
    "fig = plt.gcf()\n",
    "plt.draw()\n",
    "plt.show()\n",
    "fig.savefig('D:\\\\histogram_m_Amp_DiaS2 Normal.png', dpi=100)"
   ]
  },
  {
   "cell_type": "code",
   "execution_count": 29,
   "metadata": {},
   "outputs": [],
   "source": [
    "dataX = data.iloc[:, :20]\n",
    "dataY = data.iloc[:, 20:]"
   ]
  },
  {
   "cell_type": "code",
   "execution_count": 30,
   "metadata": {},
   "outputs": [
    {
     "data": {
      "text/html": [
       "<div>\n",
       "<style scoped>\n",
       "    .dataframe tbody tr th:only-of-type {\n",
       "        vertical-align: middle;\n",
       "    }\n",
       "\n",
       "    .dataframe tbody tr th {\n",
       "        vertical-align: top;\n",
       "    }\n",
       "\n",
       "    .dataframe thead th {\n",
       "        text-align: right;\n",
       "    }\n",
       "</style>\n",
       "<table border=\"1\" class=\"dataframe\">\n",
       "  <thead>\n",
       "    <tr style=\"text-align: right;\">\n",
       "      <th></th>\n",
       "      <th>m_RR</th>\n",
       "      <th>sd_RR</th>\n",
       "      <th>m_IntS1</th>\n",
       "      <th>sd_IntS1</th>\n",
       "      <th>m_IntS2</th>\n",
       "      <th>sd_IntS2</th>\n",
       "      <th>m_IntSys</th>\n",
       "      <th>sd_IntSys</th>\n",
       "      <th>m_IntDia</th>\n",
       "      <th>sd_IntDia</th>\n",
       "      <th>m_Ratio_SysRR</th>\n",
       "      <th>sd_Ratio_SysRR</th>\n",
       "      <th>m_Ratio_DiaRR</th>\n",
       "      <th>sd_Ratio_DiaRR</th>\n",
       "      <th>m_Ratio_SysDia</th>\n",
       "      <th>sd_Ratio_SysDia</th>\n",
       "      <th>m_Amp_SysS1</th>\n",
       "      <th>sd_Amp_SysS1</th>\n",
       "      <th>m_Amp_DiaS2</th>\n",
       "      <th>sd_Amp_DiaS2</th>\n",
       "    </tr>\n",
       "  </thead>\n",
       "  <tbody>\n",
       "    <tr>\n",
       "      <th>0</th>\n",
       "      <td>1950.000000</td>\n",
       "      <td>68.879928</td>\n",
       "      <td>260.540541</td>\n",
       "      <td>23.930750</td>\n",
       "      <td>214.444444</td>\n",
       "      <td>19.212907</td>\n",
       "      <td>470.621622</td>\n",
       "      <td>48.556098</td>\n",
       "      <td>988.054054</td>\n",
       "      <td>85.866630</td>\n",
       "      <td>0.245412</td>\n",
       "      <td>0.016071</td>\n",
       "      <td>0.510581</td>\n",
       "      <td>0.020970</td>\n",
       "      <td>0.482290</td>\n",
       "      <td>0.047240</td>\n",
       "      <td>0.321830</td>\n",
       "      <td>0.097963</td>\n",
       "      <td>3.377609</td>\n",
       "      <td>0.774529</td>\n",
       "    </tr>\n",
       "    <tr>\n",
       "      <th>1</th>\n",
       "      <td>1538.461538</td>\n",
       "      <td>89.601352</td>\n",
       "      <td>277.037037</td>\n",
       "      <td>34.298776</td>\n",
       "      <td>234.857143</td>\n",
       "      <td>23.954890</td>\n",
       "      <td>210.370370</td>\n",
       "      <td>49.402465</td>\n",
       "      <td>811.851852</td>\n",
       "      <td>79.862708</td>\n",
       "      <td>0.134343</td>\n",
       "      <td>0.027541</td>\n",
       "      <td>0.530518</td>\n",
       "      <td>0.047500</td>\n",
       "      <td>0.259040</td>\n",
       "      <td>0.069642</td>\n",
       "      <td>0.590093</td>\n",
       "      <td>0.173690</td>\n",
       "      <td>2.349784</td>\n",
       "      <td>0.725578</td>\n",
       "    </tr>\n",
       "    <tr>\n",
       "      <th>2</th>\n",
       "      <td>2430.000000</td>\n",
       "      <td>82.663978</td>\n",
       "      <td>275.200000</td>\n",
       "      <td>20.614558</td>\n",
       "      <td>289.230769</td>\n",
       "      <td>20.176734</td>\n",
       "      <td>353.769231</td>\n",
       "      <td>30.756247</td>\n",
       "      <td>1455.423077</td>\n",
       "      <td>268.624441</td>\n",
       "      <td>0.146302</td>\n",
       "      <td>0.014479</td>\n",
       "      <td>0.622269</td>\n",
       "      <td>0.019332</td>\n",
       "      <td>0.235834</td>\n",
       "      <td>0.029258</td>\n",
       "      <td>0.411947</td>\n",
       "      <td>0.072678</td>\n",
       "      <td>4.553487</td>\n",
       "      <td>0.771143</td>\n",
       "    </tr>\n",
       "    <tr>\n",
       "      <th>3</th>\n",
       "      <td>2003.529412</td>\n",
       "      <td>117.770523</td>\n",
       "      <td>266.285714</td>\n",
       "      <td>21.258372</td>\n",
       "      <td>212.222222</td>\n",
       "      <td>20.697707</td>\n",
       "      <td>428.833333</td>\n",
       "      <td>20.217567</td>\n",
       "      <td>1077.611111</td>\n",
       "      <td>137.241733</td>\n",
       "      <td>0.214287</td>\n",
       "      <td>0.013554</td>\n",
       "      <td>0.546200</td>\n",
       "      <td>0.023860</td>\n",
       "      <td>0.393819</td>\n",
       "      <td>0.039059</td>\n",
       "      <td>0.203815</td>\n",
       "      <td>0.059502</td>\n",
       "      <td>2.934240</td>\n",
       "      <td>0.671538</td>\n",
       "    </tr>\n",
       "    <tr>\n",
       "      <th>4</th>\n",
       "      <td>1352.307692</td>\n",
       "      <td>93.820930</td>\n",
       "      <td>249.056604</td>\n",
       "      <td>21.479622</td>\n",
       "      <td>197.692308</td>\n",
       "      <td>24.068443</td>\n",
       "      <td>251.566038</td>\n",
       "      <td>22.869201</td>\n",
       "      <td>651.283019</td>\n",
       "      <td>66.226705</td>\n",
       "      <td>0.185831</td>\n",
       "      <td>0.015285</td>\n",
       "      <td>0.484085</td>\n",
       "      <td>0.017227</td>\n",
       "      <td>0.384992</td>\n",
       "      <td>0.040777</td>\n",
       "      <td>0.133840</td>\n",
       "      <td>0.036941</td>\n",
       "      <td>3.037472</td>\n",
       "      <td>0.684653</td>\n",
       "    </tr>\n",
       "  </tbody>\n",
       "</table>\n",
       "</div>"
      ],
      "text/plain": [
       "          m_RR       sd_RR     m_IntS1   sd_IntS1     m_IntS2   sd_IntS2  \\\n",
       "0  1950.000000   68.879928  260.540541  23.930750  214.444444  19.212907   \n",
       "1  1538.461538   89.601352  277.037037  34.298776  234.857143  23.954890   \n",
       "2  2430.000000   82.663978  275.200000  20.614558  289.230769  20.176734   \n",
       "3  2003.529412  117.770523  266.285714  21.258372  212.222222  20.697707   \n",
       "4  1352.307692   93.820930  249.056604  21.479622  197.692308  24.068443   \n",
       "\n",
       "     m_IntSys  sd_IntSys     m_IntDia   sd_IntDia  m_Ratio_SysRR  \\\n",
       "0  470.621622  48.556098   988.054054   85.866630       0.245412   \n",
       "1  210.370370  49.402465   811.851852   79.862708       0.134343   \n",
       "2  353.769231  30.756247  1455.423077  268.624441       0.146302   \n",
       "3  428.833333  20.217567  1077.611111  137.241733       0.214287   \n",
       "4  251.566038  22.869201   651.283019   66.226705       0.185831   \n",
       "\n",
       "   sd_Ratio_SysRR  m_Ratio_DiaRR  sd_Ratio_DiaRR  m_Ratio_SysDia  \\\n",
       "0        0.016071       0.510581        0.020970        0.482290   \n",
       "1        0.027541       0.530518        0.047500        0.259040   \n",
       "2        0.014479       0.622269        0.019332        0.235834   \n",
       "3        0.013554       0.546200        0.023860        0.393819   \n",
       "4        0.015285       0.484085        0.017227        0.384992   \n",
       "\n",
       "   sd_Ratio_SysDia  m_Amp_SysS1  sd_Amp_SysS1  m_Amp_DiaS2  sd_Amp_DiaS2  \n",
       "0         0.047240     0.321830      0.097963     3.377609      0.774529  \n",
       "1         0.069642     0.590093      0.173690     2.349784      0.725578  \n",
       "2         0.029258     0.411947      0.072678     4.553487      0.771143  \n",
       "3         0.039059     0.203815      0.059502     2.934240      0.671538  \n",
       "4         0.040777     0.133840      0.036941     3.037472      0.684653  "
      ]
     },
     "execution_count": 30,
     "metadata": {},
     "output_type": "execute_result"
    }
   ],
   "source": [
    "dataX.head()"
   ]
  },
  {
   "cell_type": "markdown",
   "metadata": {},
   "source": [
    "<p>\n",
    "    Mijenjanje y vrijednosti za normalne zapise iz -1.0, priprema za logističku regresiju.\n",
    "</p>"
   ]
  },
  {
   "cell_type": "code",
   "execution_count": 33,
   "metadata": {},
   "outputs": [
    {
     "data": {
      "text/html": [
       "<div>\n",
       "<style scoped>\n",
       "    .dataframe tbody tr th:only-of-type {\n",
       "        vertical-align: middle;\n",
       "    }\n",
       "\n",
       "    .dataframe tbody tr th {\n",
       "        vertical-align: top;\n",
       "    }\n",
       "\n",
       "    .dataframe thead th {\n",
       "        text-align: right;\n",
       "    }\n",
       "</style>\n",
       "<table border=\"1\" class=\"dataframe\">\n",
       "  <thead>\n",
       "    <tr style=\"text-align: right;\">\n",
       "      <th></th>\n",
       "      <th>y</th>\n",
       "    </tr>\n",
       "  </thead>\n",
       "  <tbody>\n",
       "    <tr>\n",
       "      <th>0</th>\n",
       "      <td>1.0</td>\n",
       "    </tr>\n",
       "    <tr>\n",
       "      <th>1</th>\n",
       "      <td>1.0</td>\n",
       "    </tr>\n",
       "    <tr>\n",
       "      <th>2</th>\n",
       "      <td>1.0</td>\n",
       "    </tr>\n",
       "    <tr>\n",
       "      <th>3</th>\n",
       "      <td>1.0</td>\n",
       "    </tr>\n",
       "    <tr>\n",
       "      <th>4</th>\n",
       "      <td>1.0</td>\n",
       "    </tr>\n",
       "  </tbody>\n",
       "</table>\n",
       "</div>"
      ],
      "text/plain": [
       "     y\n",
       "0  1.0\n",
       "1  1.0\n",
       "2  1.0\n",
       "3  1.0\n",
       "4  1.0"
      ]
     },
     "execution_count": 33,
     "metadata": {},
     "output_type": "execute_result"
    }
   ],
   "source": [
    "dataY = dataY.replace({'y' : { -1.0 : 0}})\n",
    "dataY.head()"
   ]
  },
  {
   "cell_type": "markdown",
   "metadata": {},
   "source": [
    "<h2>Standardiziranje značajki</h2>"
   ]
  },
  {
   "cell_type": "code",
   "execution_count": 34,
   "metadata": {},
   "outputs": [
    {
     "name": "stderr",
     "output_type": "stream",
     "text": [
      "C:\\Users\\dajo\\Anaconda3\\envs\\py36\\lib\\site-packages\\statsmodels\\compat\\pandas.py:56: FutureWarning: The pandas.core.datetools module is deprecated and will be removed in a future version. Please use the pandas.tseries module instead.\n",
      "  from pandas.core import datetools\n"
     ]
    },
    {
     "name": "stdout",
     "output_type": "stream",
     "text": [
      "Optimization terminated successfully.\n",
      "         Current function value: 0.636199\n",
      "         Iterations 5\n",
      "                           Logit Regression Results                           \n",
      "==============================================================================\n",
      "Dep. Variable:                      y   No. Observations:                 3153\n",
      "Model:                          Logit   Df Residuals:                     3133\n",
      "Method:                           MLE   Df Model:                           19\n",
      "Date:                Sat, 30 Jun 2018   Pseudo R-squ.:                 -0.2350\n",
      "Time:                        19:38:21   Log-Likelihood:                -2005.9\n",
      "converged:                       True   LL-Null:                       -1624.3\n",
      "                                        LLR p-value:                     1.000\n",
      "==============================================================================\n",
      "                 coef    std err          z      P>|z|      [0.025      0.975]\n",
      "------------------------------------------------------------------------------\n",
      "x1            -4.9487      1.227     -4.033      0.000      -7.354      -2.544\n",
      "x2            -0.1013      0.066     -1.534      0.125      -0.231       0.028\n",
      "x3             0.3604      0.058      6.252      0.000       0.247       0.473\n",
      "x4             0.0209      0.056      0.370      0.711      -0.090       0.131\n",
      "x5             0.1838      0.071      2.597      0.009       0.045       0.322\n",
      "x6             0.0888      0.049      1.798      0.072      -0.008       0.186\n",
      "x7             1.7720      0.446      3.975      0.000       0.898       2.646\n",
      "x8             0.1222      0.061      1.990      0.047       0.002       0.243\n",
      "x9             2.9898      0.877      3.409      0.001       1.271       4.709\n",
      "x10            0.2850      0.137      2.081      0.037       0.017       0.553\n",
      "x11           -0.4399      0.244     -1.800      0.072      -0.919       0.039\n",
      "x12            0.1886      0.109      1.733      0.083      -0.025       0.402\n",
      "x13            1.6798      0.237      7.093      0.000       1.216       2.144\n",
      "x14            0.1598      0.073      2.184      0.029       0.016       0.303\n",
      "x15            1.3501      0.271      4.982      0.000       0.819       1.881\n",
      "x16            0.0583      0.137      0.427      0.670      -0.210       0.326\n",
      "x17            0.0356      0.179      0.199      0.842      -0.316       0.387\n",
      "x18           -0.0318      0.180     -0.177      0.859      -0.384       0.320\n",
      "x19           -0.3039      0.069     -4.429      0.000      -0.438      -0.169\n",
      "x20            0.0412      0.062      0.663      0.507      -0.081       0.163\n",
      "==============================================================================\n"
     ]
    }
   ],
   "source": [
    "import statsmodels.api as sm\n",
    "from scipy import stats\n",
    "stats.chisqprob = lambda chisq, df: stats.chi2.sf(chisq, df)\n",
    "\n",
    "from sklearn.preprocessing import StandardScaler\n",
    "import numpy as np\n",
    "\n",
    "scaler = StandardScaler()\n",
    "X_std = scaler.fit_transform(dataX)\n",
    "\n",
    "logit_model=sm.Logit(dataY['y'],X_std)\n",
    "result=logit_model.fit()\n",
    "print(result.summary())"
   ]
  },
  {
   "cell_type": "markdown",
   "metadata": {},
   "source": [
    "<p>\n",
    "    Podjela skupa podataka na 70-30%, zbog nebalansiranosti podataka pozivamo s parametrom class_weight='balanced'\n",
    "</p>"
   ]
  },
  {
   "cell_type": "code",
   "execution_count": 40,
   "metadata": {},
   "outputs": [
    {
     "data": {
      "text/plain": [
       "LogisticRegression(C=1.0, class_weight='balanced', dual=False,\n",
       "          fit_intercept=True, intercept_scaling=1, max_iter=100,\n",
       "          multi_class='ovr', n_jobs=1, penalty='l2', random_state=None,\n",
       "          solver='liblinear', tol=0.0001, verbose=0, warm_start=False)"
      ]
     },
     "execution_count": 40,
     "metadata": {},
     "output_type": "execute_result"
    }
   ],
   "source": [
    "X_train, X_test, y_train, y_test = train_test_split(X_std, data['y'], test_size=0.3, random_state=42)\n",
    "from sklearn.linear_model import LogisticRegression\n",
    "from sklearn import metrics\n",
    "logreg = LogisticRegression(class_weight='balanced')\n",
    "logreg.fit(X_train, y_train)"
   ]
  },
  {
   "cell_type": "code",
   "execution_count": 46,
   "metadata": {},
   "outputs": [
    {
     "name": "stdout",
     "output_type": "stream",
     "text": [
      "Accuracy of logistic regression classifier on test set: 0.68\n"
     ]
    }
   ],
   "source": [
    "y_pred = logreg.predict(X_test)\n",
    "print('Accuracy of logistic regression classifier on test set: {:.2f}'.format(logreg.score(X_test, y_test)))"
   ]
  },
  {
   "cell_type": "markdown",
   "metadata": {},
   "source": [
    "<h3>Matrica konfuzije</h3>\n",
    "<p>\n",
    "    Matrica konfuzije pomoću koje je lako izračunati da je recall 75.38% i osjetljivost 66.31% -> Macc = 70.85%\n",
    "<p>"
   ]
  },
  {
   "cell_type": "code",
   "execution_count": 48,
   "metadata": {},
   "outputs": [
    {
     "name": "stdout",
     "output_type": "stream",
     "text": [
      "[[498 253]\n",
      " [ 48 147]]\n"
     ]
    }
   ],
   "source": [
    "from sklearn.metrics import confusion_matrix\n",
    "confusion_matrix = confusion_matrix(y_test, y_pred)\n",
    "print(confusion_matrix)\n"
   ]
  },
  {
   "cell_type": "code",
   "execution_count": 43,
   "metadata": {},
   "outputs": [
    {
     "name": "stdout",
     "output_type": "stream",
     "text": [
      "             precision    recall  f1-score   support\n",
      "\n",
      "       -1.0       0.91      0.66      0.77       751\n",
      "        1.0       0.37      0.75      0.49       195\n",
      "\n",
      "avg / total       0.80      0.68      0.71       946\n",
      "\n"
     ]
    }
   ],
   "source": [
    "from sklearn.metrics import classification_report\n",
    "print(classification_report(y_test, y_pred))"
   ]
  },
  {
   "cell_type": "code",
   "execution_count": 39,
   "metadata": {},
   "outputs": [
    {
     "name": "stdout",
     "output_type": "stream",
     "text": [
      "10-fold cross validation average accuracy: 0.701\n"
     ]
    }
   ],
   "source": [
    "from sklearn import model_selection\n",
    "from sklearn.model_selection import cross_val_score\n",
    "kfold = model_selection.KFold(n_splits=10, random_state=7)\n",
    "modelCV = LogisticRegression(class_weight='balanced')\n",
    "scoring = 'recall'\n",
    "results = model_selection.cross_val_score(modelCV, X_train, y_train, cv=kfold, scoring=scoring)\n",
    "print(\"10-fold cross validation average accuracy: %.3f\" % (results.mean()))"
   ]
  },
  {
   "cell_type": "code",
   "execution_count": 155,
   "metadata": {},
   "outputs": [
    {
     "data": {
      "image/png": "[encoded data removed]",
      "text/plain": [
       "<matplotlib.figure.Figure at 0x27273423940>"
      ]
     },
     "metadata": {},
     "output_type": "display_data"
    }
   ],
   "source": [
    "from sklearn.metrics import roc_auc_score\n",
    "from sklearn.metrics import roc_curve\n",
    "logit_roc_auc = roc_auc_score(y_test, logreg.predict(X_test))\n",
    "fpr, tpr, thresholds = roc_curve(y_test, logreg.predict_proba(X_test)[:,1])\n",
    "plt.figure()\n",
    "plt.plot(fpr, tpr, label='Logistic Regression (area = %0.2f)' % logit_roc_auc)\n",
    "plt.plot([0, 1], [0, 1],'r--')\n",
    "plt.xlim([0.0, 1.0])\n",
    "plt.ylim([0.0, 1.05])\n",
    "plt.xlabel('False Positive Rate')\n",
    "plt.ylabel('True Positive Rate')\n",
    "plt.title('Receiver operating characteristic')\n",
    "plt.legend(loc=\"lower right\")\n",
    "plt.savefig('Log_ROC')\n",
    "plt.show()"
   ]
  },
  {
   "cell_type": "markdown",
   "metadata": {},
   "source": [
    "<h1>Redukcija značajki</h1>\n",
    "<p>\n",
    "    Korištenje recursive feature elimination-a za redukciju značajki s 20 na 12.\n",
    "</p>"
   ]
  },
  {
   "cell_type": "code",
   "execution_count": 50,
   "metadata": {},
   "outputs": [
    {
     "name": "stdout",
     "output_type": "stream",
     "text": [
      "[ True False  True False False  True  True False  True False  True  True\n",
      " False  True  True  True False False  True  True]\n",
      "[1 6 1 5 2 1 1 4 1 3 1 1 8 1 1 1 7 9 1 1]\n"
     ]
    }
   ],
   "source": [
    "from sklearn import datasets\n",
    "from sklearn.feature_selection import RFE\n",
    "from sklearn.linear_model import LogisticRegression\n",
    "from sklearn.svm import SVR\n",
    "logreg = LogisticRegression()\n",
    "rfe = RFE(logreg, 12)\n",
    "#estimator = SVR(kernel=\"linear\")\n",
    "#rfe = RFE(estimator, 12, step=1)\n",
    "rfe = rfe.fit(dataX, data['y'] )\n",
    "print(rfe.support_)\n",
    "print(rfe.ranking_)"
   ]
  },
  {
   "cell_type": "code",
   "execution_count": 51,
   "metadata": {},
   "outputs": [
    {
     "data": {
      "text/html": [
       "<div>\n",
       "<style scoped>\n",
       "    .dataframe tbody tr th:only-of-type {\n",
       "        vertical-align: middle;\n",
       "    }\n",
       "\n",
       "    .dataframe tbody tr th {\n",
       "        vertical-align: top;\n",
       "    }\n",
       "\n",
       "    .dataframe thead th {\n",
       "        text-align: right;\n",
       "    }\n",
       "</style>\n",
       "<table border=\"1\" class=\"dataframe\">\n",
       "  <thead>\n",
       "    <tr style=\"text-align: right;\">\n",
       "      <th></th>\n",
       "      <th>m_RR</th>\n",
       "      <th>m_IntS1</th>\n",
       "      <th>sd_IntS2</th>\n",
       "      <th>m_IntSys</th>\n",
       "      <th>m_IntDia</th>\n",
       "      <th>m_Ratio_SysRR</th>\n",
       "      <th>sd_Ratio_SysRR</th>\n",
       "      <th>sd_Ratio_DiaRR</th>\n",
       "      <th>m_Ratio_SysDia</th>\n",
       "      <th>sd_Ratio_SysDia</th>\n",
       "      <th>m_Amp_DiaS2</th>\n",
       "      <th>sd_Amp_DiaS2</th>\n",
       "    </tr>\n",
       "  </thead>\n",
       "  <tbody>\n",
       "    <tr>\n",
       "      <th>0</th>\n",
       "      <td>1950.000000</td>\n",
       "      <td>260.540541</td>\n",
       "      <td>19.212907</td>\n",
       "      <td>470.621622</td>\n",
       "      <td>988.054054</td>\n",
       "      <td>0.245412</td>\n",
       "      <td>0.016071</td>\n",
       "      <td>0.020970</td>\n",
       "      <td>0.482290</td>\n",
       "      <td>0.047240</td>\n",
       "      <td>3.377609</td>\n",
       "      <td>0.774529</td>\n",
       "    </tr>\n",
       "    <tr>\n",
       "      <th>1</th>\n",
       "      <td>1538.461538</td>\n",
       "      <td>277.037037</td>\n",
       "      <td>23.954890</td>\n",
       "      <td>210.370370</td>\n",
       "      <td>811.851852</td>\n",
       "      <td>0.134343</td>\n",
       "      <td>0.027541</td>\n",
       "      <td>0.047500</td>\n",
       "      <td>0.259040</td>\n",
       "      <td>0.069642</td>\n",
       "      <td>2.349784</td>\n",
       "      <td>0.725578</td>\n",
       "    </tr>\n",
       "    <tr>\n",
       "      <th>2</th>\n",
       "      <td>2430.000000</td>\n",
       "      <td>275.200000</td>\n",
       "      <td>20.176734</td>\n",
       "      <td>353.769231</td>\n",
       "      <td>1455.423077</td>\n",
       "      <td>0.146302</td>\n",
       "      <td>0.014479</td>\n",
       "      <td>0.019332</td>\n",
       "      <td>0.235834</td>\n",
       "      <td>0.029258</td>\n",
       "      <td>4.553487</td>\n",
       "      <td>0.771143</td>\n",
       "    </tr>\n",
       "    <tr>\n",
       "      <th>3</th>\n",
       "      <td>2003.529412</td>\n",
       "      <td>266.285714</td>\n",
       "      <td>20.697707</td>\n",
       "      <td>428.833333</td>\n",
       "      <td>1077.611111</td>\n",
       "      <td>0.214287</td>\n",
       "      <td>0.013554</td>\n",
       "      <td>0.023860</td>\n",
       "      <td>0.393819</td>\n",
       "      <td>0.039059</td>\n",
       "      <td>2.934240</td>\n",
       "      <td>0.671538</td>\n",
       "    </tr>\n",
       "    <tr>\n",
       "      <th>4</th>\n",
       "      <td>1352.307692</td>\n",
       "      <td>249.056604</td>\n",
       "      <td>24.068443</td>\n",
       "      <td>251.566038</td>\n",
       "      <td>651.283019</td>\n",
       "      <td>0.185831</td>\n",
       "      <td>0.015285</td>\n",
       "      <td>0.017227</td>\n",
       "      <td>0.384992</td>\n",
       "      <td>0.040777</td>\n",
       "      <td>3.037472</td>\n",
       "      <td>0.684653</td>\n",
       "    </tr>\n",
       "  </tbody>\n",
       "</table>\n",
       "</div>"
      ],
      "text/plain": [
       "          m_RR     m_IntS1   sd_IntS2    m_IntSys     m_IntDia  m_Ratio_SysRR  \\\n",
       "0  1950.000000  260.540541  19.212907  470.621622   988.054054       0.245412   \n",
       "1  1538.461538  277.037037  23.954890  210.370370   811.851852       0.134343   \n",
       "2  2430.000000  275.200000  20.176734  353.769231  1455.423077       0.146302   \n",
       "3  2003.529412  266.285714  20.697707  428.833333  1077.611111       0.214287   \n",
       "4  1352.307692  249.056604  24.068443  251.566038   651.283019       0.185831   \n",
       "\n",
       "   sd_Ratio_SysRR  sd_Ratio_DiaRR  m_Ratio_SysDia  sd_Ratio_SysDia  \\\n",
       "0        0.016071        0.020970        0.482290         0.047240   \n",
       "1        0.027541        0.047500        0.259040         0.069642   \n",
       "2        0.014479        0.019332        0.235834         0.029258   \n",
       "3        0.013554        0.023860        0.393819         0.039059   \n",
       "4        0.015285        0.017227        0.384992         0.040777   \n",
       "\n",
       "   m_Amp_DiaS2  sd_Amp_DiaS2  \n",
       "0     3.377609      0.774529  \n",
       "1     2.349784      0.725578  \n",
       "2     4.553487      0.771143  \n",
       "3     2.934240      0.671538  \n",
       "4     3.037472      0.684653  "
      ]
     },
     "execution_count": 51,
     "metadata": {},
     "output_type": "execute_result"
    }
   ],
   "source": [
    "dataX_red = dataX.iloc[:, rfe.support_]\n",
    "dataX_red.head()"
   ]
  },
  {
   "cell_type": "code",
   "execution_count": 52,
   "metadata": {},
   "outputs": [
    {
     "name": "stdout",
     "output_type": "stream",
     "text": [
      "Optimization terminated successfully.\n",
      "         Current function value: 0.646579\n",
      "         Iterations 5\n",
      "                           Logit Regression Results                           \n",
      "==============================================================================\n",
      "Dep. Variable:                      y   No. Observations:                 3153\n",
      "Model:                          Logit   Df Residuals:                     3141\n",
      "Method:                           MLE   Df Model:                           11\n",
      "Date:                Sat, 30 Jun 2018   Pseudo R-squ.:                 -0.2551\n",
      "Time:                        21:29:42   Log-Likelihood:                -2038.7\n",
      "converged:                       True   LL-Null:                       -1624.3\n",
      "                                        LLR p-value:                     1.000\n",
      "==============================================================================\n",
      "                 coef    std err          z      P>|z|      [0.025      0.975]\n",
      "------------------------------------------------------------------------------\n",
      "x1            -1.4786      0.433     -3.415      0.001      -2.327      -0.630\n",
      "x2             0.2475      0.044      5.568      0.000       0.160       0.335\n",
      "x3             0.0837      0.048      1.756      0.079      -0.010       0.177\n",
      "x4             0.3703      0.219      1.688      0.091      -0.060       0.800\n",
      "x5             1.5656      0.344      4.549      0.000       0.891       2.240\n",
      "x6             0.3825      0.203      1.884      0.060      -0.015       0.780\n",
      "x7             0.1825      0.092      1.994      0.046       0.003       0.362\n",
      "x8             0.2480      0.062      3.993      0.000       0.126       0.370\n",
      "x9            -0.0718      0.172     -0.417      0.677      -0.409       0.266\n",
      "x10            0.0061      0.121      0.051      0.960      -0.232       0.244\n",
      "x11           -0.2763      0.063     -4.363      0.000      -0.400      -0.152\n",
      "x12            0.0477      0.060      0.797      0.425      -0.070       0.165\n",
      "==============================================================================\n"
     ]
    }
   ],
   "source": [
    "scaler = StandardScaler()\n",
    "X_red_std = scaler.fit_transform(dataX_red)\n",
    "\n",
    "logit_model=sm.Logit(dataY['y'],X_red_std)\n",
    "result=logit_model.fit()\n",
    "print(result.summary())"
   ]
  },
  {
   "cell_type": "code",
   "execution_count": 53,
   "metadata": {},
   "outputs": [
    {
     "data": {
      "text/plain": [
       "LogisticRegression(C=1.0, class_weight='balanced', dual=False,\n",
       "          fit_intercept=True, intercept_scaling=1, max_iter=100,\n",
       "          multi_class='ovr', n_jobs=1, penalty='l2', random_state=None,\n",
       "          solver='liblinear', tol=0.0001, verbose=0, warm_start=False)"
      ]
     },
     "execution_count": 53,
     "metadata": {},
     "output_type": "execute_result"
    }
   ],
   "source": [
    "X_train, X_test, y_train, y_test = train_test_split(X_red_std, data['y'], test_size=0.3, random_state=42)\n",
    "logreg_red = LogisticRegression(class_weight='balanced')\n",
    "logreg_red.fit(X_train, y_train)"
   ]
  },
  {
   "cell_type": "code",
   "execution_count": 54,
   "metadata": {},
   "outputs": [
    {
     "name": "stdout",
     "output_type": "stream",
     "text": [
      "Accuracy of logistic regression classifier on test set for reduced features: 0.69\n"
     ]
    }
   ],
   "source": [
    "y_pred2 = logreg_red.predict(X_test)\n",
    "print('Accuracy of logistic regression classifier on test set for reduced features: {:.2f}'.format(logreg_red.score(X_test, y_test)))"
   ]
  },
  {
   "cell_type": "markdown",
   "metadata": {},
   "source": [
    "<h1>Matrica konfuzije za reducirane značajke</h1>\n",
    "<p>\n",
    "    U ovom slučaju recall je 76.41%, 67.24% što daje srednju vrijednost 71.83%, dakle rezultat za gotovo 1% bolji nego kod svih 20 značajki.\n",
    "</p>"
   ]
  },
  {
   "cell_type": "code",
   "execution_count": 56,
   "metadata": {},
   "outputs": [
    {
     "name": "stdout",
     "output_type": "stream",
     "text": [
      "[[505 246]\n",
      " [ 46 149]]\n"
     ]
    }
   ],
   "source": [
    "from sklearn.metrics import confusion_matrix\n",
    "confusion_matrix = confusion_matrix(y_test, y_pred2)\n",
    "print(confusion_matrix)"
   ]
  },
  {
   "cell_type": "code",
   "execution_count": 57,
   "metadata": {},
   "outputs": [
    {
     "name": "stdout",
     "output_type": "stream",
     "text": [
      "             precision    recall  f1-score   support\n",
      "\n",
      "       -1.0       0.91      0.66      0.77       751\n",
      "        1.0       0.37      0.75      0.49       195\n",
      "\n",
      "avg / total       0.80      0.68      0.71       946\n",
      "\n"
     ]
    }
   ],
   "source": [
    "from sklearn.metrics import classification_report\n",
    "print(classification_report(y_test, y_pred))"
   ]
  },
  {
   "cell_type": "code",
   "execution_count": 59,
   "metadata": {},
   "outputs": [
    {
     "data": {
      "image/png": "[encoded data removed]",
      "text/plain": [
       "<matplotlib.figure.Figure at 0x14ad1ef0b00>"
      ]
     },
     "metadata": {},
     "output_type": "display_data"
    }
   ],
   "source": [
    "from sklearn.metrics import roc_auc_score\n",
    "from sklearn.metrics import roc_curve\n",
    "logit_roc_auc = roc_auc_score(y_test, logreg_red.predict(X_test))\n",
    "fpr, tpr, thresholds = roc_curve(y_test, logreg_red.predict_proba(X_test)[:,1])\n",
    "plt.figure()\n",
    "plt.plot(fpr, tpr, label='Logistic Regression (area = %0.2f)' % logit_roc_auc)\n",
    "plt.plot([0, 1], [0, 1],'r--')\n",
    "plt.xlim([0.0, 1.0])\n",
    "plt.ylim([0.0, 1.05])\n",
    "plt.xlabel('False Positive Rate')\n",
    "plt.ylabel('True Positive Rate')\n",
    "plt.title('Receiver operating characteristic')\n",
    "plt.legend(loc=\"lower right\")\n",
    "plt.savefig('Log_ROC')\n",
    "plt.show()"
   ]
  },
  {
   "cell_type": "code",
   "execution_count": null,
   "metadata": {},
   "outputs": [],
   "source": []
  }
 ],
 "metadata": {
  "kernelspec": {
   "display_name": "Python 3",
   "language": "python",
   "name": "python3"
  },
  "language_info": {
   "codemirror_mode": {
    "name": "ipython",
    "version": 3
   },
   "file_extension": ".py",
   "mimetype": "text/x-python",
   "name": "python",
   "nbconvert_exporter": "python",
   "pygments_lexer": "ipython3",
   "version": "3.6.4"
  }
 },
 "nbformat": 4,
 "nbformat_minor": 2
}
